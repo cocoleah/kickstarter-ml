{
 "cells": [
  {
   "cell_type": "code",
   "execution_count": 29,
   "metadata": {},
   "outputs": [],
   "source": [
    "import pandas as pd\n",
    "import numpy as np\n",
    "import json \n",
    "import matplotlib.pyplot as plt\n",
    "import seaborn as sns\n",
    "\n",
    "from pandas.api.types import CategoricalDtype\n",
    "from sklearn import tree, model_selection, metrics\n",
    "from sklearn.preprocessing import LabelEncoder\n",
    "from sklearn.metrics import confusion_matrix, accuracy_score, mean_squared_error\n",
    "from sklearn.preprocessing import OneHotEncoder\n"
   ]
  },
  {
   "cell_type": "code",
   "execution_count": 30,
   "metadata": {},
   "outputs": [
    {
     "name": "stdout",
     "output_type": "stream",
     "text": [
      "(985, 52)\n"
     ]
    }
   ],
   "source": [
    "df = pd.read_csv(\"./Output/data_clean&processed_addedsentiment.csv\")\n",
    "print(df.shape)"
   ]
  },
  {
   "cell_type": "code",
   "execution_count": 31,
   "metadata": {},
   "outputs": [
    {
     "data": {
      "text/html": [
       "<div>\n",
       "<style scoped>\n",
       "    .dataframe tbody tr th:only-of-type {\n",
       "        vertical-align: middle;\n",
       "    }\n",
       "\n",
       "    .dataframe tbody tr th {\n",
       "        vertical-align: top;\n",
       "    }\n",
       "\n",
       "    .dataframe thead th {\n",
       "        text-align: right;\n",
       "    }\n",
       "</style>\n",
       "<table border=\"1\" class=\"dataframe\">\n",
       "  <thead>\n",
       "    <tr style=\"text-align: right;\">\n",
       "      <th></th>\n",
       "      <th>backers_count</th>\n",
       "      <th>blurb</th>\n",
       "      <th>category</th>\n",
       "      <th>converted_pledged_amount</th>\n",
       "      <th>country</th>\n",
       "      <th>created_at</th>\n",
       "      <th>current_currency</th>\n",
       "      <th>deadline</th>\n",
       "      <th>fx_rate</th>\n",
       "      <th>goal</th>\n",
       "      <th>...</th>\n",
       "      <th>num_faq_bool</th>\n",
       "      <th>avg_fund_per_backer</th>\n",
       "      <th>comments_afinn</th>\n",
       "      <th>blurb_name</th>\n",
       "      <th>faq_comments</th>\n",
       "      <th>story_afinn</th>\n",
       "      <th>faq_comments_afinn</th>\n",
       "      <th>blurb_name_afinn</th>\n",
       "      <th>blurb_afinn</th>\n",
       "      <th>name_afinn</th>\n",
       "    </tr>\n",
       "  </thead>\n",
       "  <tbody>\n",
       "    <tr>\n",
       "      <th>0</th>\n",
       "      <td>1</td>\n",
       "      <td>With your help we will create this device that...</td>\n",
       "      <td>{'id': 331, 'name': '3D Printing', 'slug': 'te...</td>\n",
       "      <td>1</td>\n",
       "      <td>ES</td>\n",
       "      <td>2015-08-18 21:01</td>\n",
       "      <td>USD</td>\n",
       "      <td>2016-07-09 20:11</td>\n",
       "      <td>1.212886</td>\n",
       "      <td>15000</td>\n",
       "      <td>...</td>\n",
       "      <td>0</td>\n",
       "      <td>1.0</td>\n",
       "      <td>-1.0</td>\n",
       "      <td>With your help we will create this device that...</td>\n",
       "      <td>['   ']No comments yet.</td>\n",
       "      <td>-10.0</td>\n",
       "      <td>-1.0</td>\n",
       "      <td>4.0</td>\n",
       "      <td>2.0</td>\n",
       "      <td>2.0</td>\n",
       "    </tr>\n",
       "    <tr>\n",
       "      <th>1</th>\n",
       "      <td>2</td>\n",
       "      <td>We at Ormiston Primary are looking at starting...</td>\n",
       "      <td>{'id': 309, 'name': 'Farms', 'slug': 'food/far...</td>\n",
       "      <td>9</td>\n",
       "      <td>NZ</td>\n",
       "      <td>2015-08-11 18:04</td>\n",
       "      <td>USD</td>\n",
       "      <td>2015-09-11 15:55</td>\n",
       "      <td>0.723585</td>\n",
       "      <td>5000</td>\n",
       "      <td>...</td>\n",
       "      <td>0</td>\n",
       "      <td>7.5</td>\n",
       "      <td>-1.0</td>\n",
       "      <td>We at Ormiston Primary are looking at starting...</td>\n",
       "      <td>['   ']No comments yet.</td>\n",
       "      <td>15.0</td>\n",
       "      <td>-1.0</td>\n",
       "      <td>1.0</td>\n",
       "      <td>1.0</td>\n",
       "      <td>0.0</td>\n",
       "    </tr>\n",
       "    <tr>\n",
       "      <th>2</th>\n",
       "      <td>0</td>\n",
       "      <td>Self-taught aspiring metalsmith Looking for he...</td>\n",
       "      <td>{'id': 54, 'name': 'Mixed Media', 'slug': 'art...</td>\n",
       "      <td>0</td>\n",
       "      <td>US</td>\n",
       "      <td>2015-04-28 21:14</td>\n",
       "      <td>USD</td>\n",
       "      <td>2015-05-28 21:14</td>\n",
       "      <td>1.000000</td>\n",
       "      <td>10000</td>\n",
       "      <td>...</td>\n",
       "      <td>0</td>\n",
       "      <td>0.0</td>\n",
       "      <td>-1.0</td>\n",
       "      <td>Self-taught aspiring metalsmith Looking for he...</td>\n",
       "      <td>['   ']No comments yet.</td>\n",
       "      <td>25.0</td>\n",
       "      <td>-1.0</td>\n",
       "      <td>4.0</td>\n",
       "      <td>2.0</td>\n",
       "      <td>2.0</td>\n",
       "    </tr>\n",
       "    <tr>\n",
       "      <th>3</th>\n",
       "      <td>0</td>\n",
       "      <td>So many women believe they are past their prim...</td>\n",
       "      <td>{'id': 278, 'name': 'People', 'slug': 'photogr...</td>\n",
       "      <td>0</td>\n",
       "      <td>US</td>\n",
       "      <td>2014-07-07 1:30</td>\n",
       "      <td>USD</td>\n",
       "      <td>2014-10-26 0:00</td>\n",
       "      <td>1.000000</td>\n",
       "      <td>2000</td>\n",
       "      <td>...</td>\n",
       "      <td>0</td>\n",
       "      <td>0.0</td>\n",
       "      <td>-1.0</td>\n",
       "      <td>So many women believe they are past their prim...</td>\n",
       "      <td>['   ']No comments yet.</td>\n",
       "      <td>14.0</td>\n",
       "      <td>-1.0</td>\n",
       "      <td>3.0</td>\n",
       "      <td>0.0</td>\n",
       "      <td>3.0</td>\n",
       "    </tr>\n",
       "    <tr>\n",
       "      <th>4</th>\n",
       "      <td>10</td>\n",
       "      <td>The Horror Zine's Jeani Rector brings us anoth...</td>\n",
       "      <td>{'id': 324, 'name': 'Anthologies', 'slug': 'pu...</td>\n",
       "      <td>340</td>\n",
       "      <td>US</td>\n",
       "      <td>2014-11-04 16:30</td>\n",
       "      <td>USD</td>\n",
       "      <td>2014-12-09 9:20</td>\n",
       "      <td>1.000000</td>\n",
       "      <td>2500</td>\n",
       "      <td>...</td>\n",
       "      <td>0</td>\n",
       "      <td>34.0</td>\n",
       "      <td>2.0</td>\n",
       "      <td>The Horror Zine's Jeani Rector brings us anoth...</td>\n",
       "      <td>['   ']Paula Limbaugh\\nover 6 years ago\\nSo so...</td>\n",
       "      <td>2.0</td>\n",
       "      <td>2.0</td>\n",
       "      <td>4.0</td>\n",
       "      <td>4.0</td>\n",
       "      <td>0.0</td>\n",
       "    </tr>\n",
       "  </tbody>\n",
       "</table>\n",
       "<p>5 rows × 52 columns</p>\n",
       "</div>"
      ],
      "text/plain": [
       "   backers_count                                              blurb  \\\n",
       "0              1  With your help we will create this device that...   \n",
       "1              2  We at Ormiston Primary are looking at starting...   \n",
       "2              0  Self-taught aspiring metalsmith Looking for he...   \n",
       "3              0  So many women believe they are past their prim...   \n",
       "4             10  The Horror Zine's Jeani Rector brings us anoth...   \n",
       "\n",
       "                                            category  \\\n",
       "0  {'id': 331, 'name': '3D Printing', 'slug': 'te...   \n",
       "1  {'id': 309, 'name': 'Farms', 'slug': 'food/far...   \n",
       "2  {'id': 54, 'name': 'Mixed Media', 'slug': 'art...   \n",
       "3  {'id': 278, 'name': 'People', 'slug': 'photogr...   \n",
       "4  {'id': 324, 'name': 'Anthologies', 'slug': 'pu...   \n",
       "\n",
       "   converted_pledged_amount country        created_at current_currency  \\\n",
       "0                         1      ES  2015-08-18 21:01              USD   \n",
       "1                         9      NZ  2015-08-11 18:04              USD   \n",
       "2                         0      US  2015-04-28 21:14              USD   \n",
       "3                         0      US   2014-07-07 1:30              USD   \n",
       "4                       340      US  2014-11-04 16:30              USD   \n",
       "\n",
       "           deadline   fx_rate   goal  ...  num_faq_bool avg_fund_per_backer  \\\n",
       "0  2016-07-09 20:11  1.212886  15000  ...             0                 1.0   \n",
       "1  2015-09-11 15:55  0.723585   5000  ...             0                 7.5   \n",
       "2  2015-05-28 21:14  1.000000  10000  ...             0                 0.0   \n",
       "3   2014-10-26 0:00  1.000000   2000  ...             0                 0.0   \n",
       "4   2014-12-09 9:20  1.000000   2500  ...             0                34.0   \n",
       "\n",
       "  comments_afinn                                         blurb_name  \\\n",
       "0           -1.0  With your help we will create this device that...   \n",
       "1           -1.0  We at Ormiston Primary are looking at starting...   \n",
       "2           -1.0  Self-taught aspiring metalsmith Looking for he...   \n",
       "3           -1.0  So many women believe they are past their prim...   \n",
       "4            2.0  The Horror Zine's Jeani Rector brings us anoth...   \n",
       "\n",
       "                                        faq_comments story_afinn  \\\n",
       "0                            ['   ']No comments yet.       -10.0   \n",
       "1                            ['   ']No comments yet.        15.0   \n",
       "2                            ['   ']No comments yet.        25.0   \n",
       "3                            ['   ']No comments yet.        14.0   \n",
       "4  ['   ']Paula Limbaugh\\nover 6 years ago\\nSo so...         2.0   \n",
       "\n",
       "  faq_comments_afinn blurb_name_afinn  blurb_afinn  name_afinn  \n",
       "0               -1.0              4.0          2.0         2.0  \n",
       "1               -1.0              1.0          1.0         0.0  \n",
       "2               -1.0              4.0          2.0         2.0  \n",
       "3               -1.0              3.0          0.0         3.0  \n",
       "4                2.0              4.0          4.0         0.0  \n",
       "\n",
       "[5 rows x 52 columns]"
      ]
     },
     "execution_count": 31,
     "metadata": {},
     "output_type": "execute_result"
    }
   ],
   "source": [
    "df.head()"
   ]
  },
  {
   "cell_type": "code",
   "execution_count": 32,
   "metadata": {},
   "outputs": [
    {
     "data": {
      "text/plain": [
       "Index(['backers_count', 'blurb', 'category', 'converted_pledged_amount',\n",
       "       'country', 'created_at', 'current_currency', 'deadline', 'fx_rate',\n",
       "       'goal', 'id', 'launched_at', 'location', 'name', 'pledged', 'profile',\n",
       "       'slug', 'source_url', 'spotlight', 'staff_pick', 'state',\n",
       "       'state_changed_at', 'static_usd_rate', 'urls', 'usd_pledged',\n",
       "       'usd_type', 'story', 'faq', 'num_faq', 'comments', 'n_comments',\n",
       "       'duration', 'parent_category', 'category_name', 'location_name',\n",
       "       'month_launched', 'year_launched', 'backers_count_log', 'goal_log',\n",
       "       'pledged_log', 'duration_log', 'n_comments_log', 'num_faq_bool',\n",
       "       'avg_fund_per_backer', 'comments_afinn', 'blurb_name', 'faq_comments',\n",
       "       'story_afinn', 'faq_comments_afinn', 'blurb_name_afinn', 'blurb_afinn',\n",
       "       'name_afinn'],\n",
       "      dtype='object')"
      ]
     },
     "execution_count": 32,
     "metadata": {},
     "output_type": "execute_result"
    }
   ],
   "source": [
    "df.columns"
   ]
  },
  {
   "cell_type": "code",
   "execution_count": 33,
   "metadata": {},
   "outputs": [
    {
     "name": "stdout",
     "output_type": "stream",
     "text": [
      "<class 'pandas.core.frame.DataFrame'>\n",
      "RangeIndex: 985 entries, 0 to 984\n",
      "Data columns (total 52 columns):\n",
      " #   Column                    Non-Null Count  Dtype  \n",
      "---  ------                    --------------  -----  \n",
      " 0   backers_count             985 non-null    int64  \n",
      " 1   blurb                     985 non-null    object \n",
      " 2   category                  985 non-null    object \n",
      " 3   converted_pledged_amount  985 non-null    int64  \n",
      " 4   country                   985 non-null    object \n",
      " 5   created_at                985 non-null    object \n",
      " 6   current_currency          985 non-null    object \n",
      " 7   deadline                  985 non-null    object \n",
      " 8   fx_rate                   985 non-null    float64\n",
      " 9   goal                      985 non-null    int64  \n",
      " 10  id                        985 non-null    int64  \n",
      " 11  launched_at               985 non-null    object \n",
      " 12  location                  985 non-null    object \n",
      " 13  name                      985 non-null    object \n",
      " 14  pledged                   985 non-null    float64\n",
      " 15  profile                   985 non-null    object \n",
      " 16  slug                      985 non-null    object \n",
      " 17  source_url                985 non-null    object \n",
      " 18  spotlight                 985 non-null    bool   \n",
      " 19  staff_pick                985 non-null    bool   \n",
      " 20  state                     985 non-null    int64  \n",
      " 21  state_changed_at          985 non-null    object \n",
      " 22  static_usd_rate           985 non-null    float64\n",
      " 23  urls                      985 non-null    object \n",
      " 24  usd_pledged               985 non-null    float64\n",
      " 25  usd_type                  985 non-null    object \n",
      " 26  story                     985 non-null    object \n",
      " 27  faq                       985 non-null    object \n",
      " 28  num_faq                   985 non-null    int64  \n",
      " 29  comments                  985 non-null    object \n",
      " 30  n_comments                985 non-null    float64\n",
      " 31  duration                  985 non-null    int64  \n",
      " 32  parent_category           985 non-null    object \n",
      " 33  category_name             985 non-null    object \n",
      " 34  location_name             985 non-null    object \n",
      " 35  month_launched            985 non-null    int64  \n",
      " 36  year_launched             985 non-null    int64  \n",
      " 37  backers_count_log         985 non-null    float64\n",
      " 38  goal_log                  985 non-null    float64\n",
      " 39  pledged_log               985 non-null    float64\n",
      " 40  duration_log              985 non-null    float64\n",
      " 41  n_comments_log            985 non-null    float64\n",
      " 42  num_faq_bool              985 non-null    int64  \n",
      " 43  avg_fund_per_backer       985 non-null    float64\n",
      " 44  comments_afinn            985 non-null    float64\n",
      " 45  blurb_name                985 non-null    object \n",
      " 46  faq_comments              985 non-null    object \n",
      " 47  story_afinn               985 non-null    float64\n",
      " 48  faq_comments_afinn        985 non-null    float64\n",
      " 49  blurb_name_afinn          985 non-null    float64\n",
      " 50  blurb_afinn               985 non-null    float64\n",
      " 51  name_afinn                985 non-null    float64\n",
      "dtypes: bool(2), float64(17), int64(10), object(23)\n",
      "memory usage: 386.8+ KB\n"
     ]
    }
   ],
   "source": [
    "df.info()"
   ]
  },
  {
   "cell_type": "code",
   "execution_count": 34,
   "metadata": {},
   "outputs": [],
   "source": [
    "# Cols for OHE \n",
    "categorical_cols = ['country', 'staff_pick', 'usd_type', 'parent_category', 'category_name', 'location_name']\n",
    "\n",
    "# Other feature cols for modelling\n",
    "cols_to_keep = ['backers_count', 'fx_rate', 'goal', 'pledged', 'n_comments', 'duration', 'month_launched', 'year_launched', 'avg_fund_per_backer', 'num_faq_bool']\n",
    "sentiment_cols = ['comments_afinn', 'faq_comments_afinn', 'blurb_name_afinn', 'blurb_afinn', 'name_afinn', 'story_afinn']\n",
    "target_col = ['state']\n",
    "\n",
    "#Cols to drop\n",
    "text_cols = ['blurb', 'name', 'story', 'faq', 'comments', 'blurb_name', 'faq_comments']\n",
    "log_cols = ['backers_count_log', 'goal_log', 'pledged_log', 'duration_log', 'n_comments_log']\n",
    "other_cols = ['profile', 'category', 'created_at', 'location', 'current_currency', 'deadline', 'id', \n",
    "              'launched_at', 'slug', 'source_url', 'state_changed_at', 'urls', 'static_usd_rate', \n",
    "              'usd_pledged', 'converted_pledged_amount', 'spotlight', 'num_faq']"
   ]
  },
  {
   "cell_type": "code",
   "execution_count": 35,
   "metadata": {},
   "outputs": [
    {
     "name": "stdout",
     "output_type": "stream",
     "text": [
      "(985, 23)\n"
     ]
    }
   ],
   "source": [
    "cols_to_drop = text_cols + log_cols + other_cols\n",
    "df = df.drop(cols_to_drop, axis=1)\n",
    "print(df.shape)"
   ]
  },
  {
   "cell_type": "code",
   "execution_count": 36,
   "metadata": {},
   "outputs": [],
   "source": [
    "# Split dataset\n",
    "X = df.drop('state', axis=1)\n",
    "y = df.state\n",
    "#y.mean() #0.6370449678800857\n",
    "\n",
    "X_train, X_test, y_train, y_test = model_selection.train_test_split(X, y, test_size=0.2, random_state=2019)"
   ]
  },
  {
   "cell_type": "code",
   "execution_count": 37,
   "metadata": {},
   "outputs": [],
   "source": [
    "# One Hot Encoding with training set only\n",
    "OHE_df = pd.DataFrame()\n",
    "\n",
    "for i in categorical_cols:\n",
    "    OHE_df[i] = X_train[i].astype(CategoricalDtype(list(set(X[i]))))\n",
    "    \n",
    "    OHE_df = pd.concat([OHE_df, pd.get_dummies(X[i], prefix=i)],axis=1)"
   ]
  },
  {
   "cell_type": "code",
   "execution_count": 38,
   "metadata": {},
   "outputs": [],
   "source": [
    "OHE_df = OHE_df.drop(categorical_cols, axis= 1)\n",
    "\n",
    "X_no_cat = X.drop(categorical_cols, axis= 1)\n",
    "OHE_df = pd.concat([X_no_cat, OHE_df],axis=1)\n",
    "\n",
    "# For Decision Tree/Random Forest\n",
    "OHE_df = OHE_df.drop(OHE_df.loc[:, OHE_df.columns.str.contains('_log')].columns.tolist(), axis=1)"
   ]
  },
  {
   "cell_type": "code",
   "execution_count": 39,
   "metadata": {},
   "outputs": [],
   "source": [
    "# Resplit X dataset with OHE columns\n",
    "OHE_train, OHE_test, y_train, y_test = model_selection.train_test_split(OHE_df, y, test_size=0.2, random_state=2019)"
   ]
  },
  {
   "cell_type": "code",
   "execution_count": 40,
   "metadata": {},
   "outputs": [
    {
     "name": "stdout",
     "output_type": "stream",
     "text": [
      "Before OHE, n features =  22\n",
      "After OHE, n features =  612\n"
     ]
    }
   ],
   "source": [
    "print('Before OHE, n features = ', X_train.shape[1])\n",
    "print('After OHE, n features = ', OHE_train.shape[1])"
   ]
  },
  {
   "cell_type": "markdown",
   "metadata": {},
   "source": [
    "# GridSearch"
   ]
  },
  {
   "cell_type": "code",
   "execution_count": 41,
   "metadata": {},
   "outputs": [
    {
     "data": {
      "text/plain": [
       "dict_keys(['bootstrap', 'ccp_alpha', 'class_weight', 'criterion', 'max_depth', 'max_features', 'max_leaf_nodes', 'max_samples', 'min_impurity_decrease', 'min_impurity_split', 'min_samples_leaf', 'min_samples_split', 'min_weight_fraction_leaf', 'n_estimators', 'n_jobs', 'oob_score', 'random_state', 'verbose', 'warm_start'])"
      ]
     },
     "execution_count": 41,
     "metadata": {},
     "output_type": "execute_result"
    }
   ],
   "source": [
    "from sklearn.ensemble import RandomForestClassifier\n",
    "classifier = RandomForestClassifier()\n",
    "classifier.get_params().keys()"
   ]
  },
  {
   "cell_type": "code",
   "execution_count": 42,
   "metadata": {},
   "outputs": [
    {
     "name": "stdout",
     "output_type": "stream",
     "text": [
      "Fitting 3 folds for each of 96 candidates, totalling 288 fits\n"
     ]
    },
    {
     "name": "stderr",
     "output_type": "stream",
     "text": [
      "[Parallel(n_jobs=-1)]: Using backend LokyBackend with 4 concurrent workers.\n",
      "[Parallel(n_jobs=-1)]: Done  33 tasks      | elapsed:   21.7s\n",
      "[Parallel(n_jobs=-1)]: Done 154 tasks      | elapsed:  1.4min\n",
      "[Parallel(n_jobs=-1)]: Done 288 out of 288 | elapsed:  2.4min finished\n"
     ]
    },
    {
     "data": {
      "text/plain": [
       "{'criterion': 'entropy',\n",
       " 'max_depth': None,\n",
       " 'min_samples_split': 10,\n",
       " 'n_estimators': 200}"
      ]
     },
     "execution_count": 42,
     "metadata": {},
     "output_type": "execute_result"
    }
   ],
   "source": [
    "from sklearn.model_selection import GridSearchCV\n",
    "# Create the parameter grid based on the results of random search \n",
    "param_grid = {\n",
    "    'criterion': ['gini', 'entropy'],\n",
    "    'max_depth': [None, 2, 3],\n",
    "    'min_samples_split': [2, 8, 10, 12],\n",
    "    'n_estimators': [100, 200, 300, 500]\n",
    "}\n",
    "# Create a based model\n",
    "rf = RandomForestClassifier()\n",
    "# Instantiate the grid search model\n",
    "grid_search = GridSearchCV(estimator = rf, param_grid = param_grid, \n",
    "                          cv = 3, n_jobs = -1, verbose = 2)\n",
    "\n",
    "# Fit the grid search to the data\n",
    "grid_search.fit(OHE_train, y_train)\n",
    "grid_search.best_params_"
   ]
  },
  {
   "cell_type": "markdown",
   "metadata": {},
   "source": [
    "# Random Forest"
   ]
  },
  {
   "cell_type": "code",
   "execution_count": 43,
   "metadata": {},
   "outputs": [],
   "source": [
    "from sklearn.ensemble import RandomForestClassifier\n",
    "from numpy import *\n",
    "random.seed(4222)\n",
    "classifier = RandomForestClassifier(criterion=\"entropy\", min_samples_split=10, n_estimators=200)\n",
    "# {'criterion': 'entropy',\n",
    "#  'max_depth': None, #default\n",
    "#  'min_samples_split': 10,\n",
    "#  'n_estimators': 200}"
   ]
  },
  {
   "cell_type": "code",
   "execution_count": 44,
   "metadata": {},
   "outputs": [
    {
     "name": "stdout",
     "output_type": "stream",
     "text": [
      "(788, 612)\n",
      "(788,)\n",
      "(197, 612)\n",
      "(197,)\n"
     ]
    }
   ],
   "source": [
    "print(OHE_train.shape)\n",
    "print(y_train.shape)\n",
    "print(OHE_test.shape)\n",
    "print(y_test.shape)"
   ]
  },
  {
   "cell_type": "code",
   "execution_count": 45,
   "metadata": {},
   "outputs": [
    {
     "data": {
      "text/plain": [
       "RandomForestClassifier(criterion='entropy', min_samples_split=10,\n",
       "                       n_estimators=200)"
      ]
     },
     "execution_count": 45,
     "metadata": {},
     "output_type": "execute_result"
    }
   ],
   "source": [
    "classifier.fit(OHE_train, y_train)"
   ]
  },
  {
   "cell_type": "markdown",
   "metadata": {},
   "source": [
    "# Model Evaluation"
   ]
  },
  {
   "cell_type": "code",
   "execution_count": 46,
   "metadata": {},
   "outputs": [
    {
     "name": "stdout",
     "output_type": "stream",
     "text": [
      "\n",
      "The evaluation report is:\n",
      "Confusion Matrix:\n",
      "[[ 59  11]\n",
      " [  2 125]]\n",
      "Accuracy: 0.934010152284264\n",
      "\n"
     ]
    }
   ],
   "source": [
    "# Evaluate Model \n",
    "y_predict_class = classifier.predict(OHE_test)\n",
    "\n",
    "report = \"\"\"\n",
    "The evaluation report is:\n",
    "Confusion Matrix:\n",
    "{}\n",
    "Accuracy: {}\n",
    "\"\"\".format(confusion_matrix(y_test, y_predict_class),\n",
    "           accuracy_score(y_test, y_predict_class))\n",
    "print(report)"
   ]
  },
  {
   "cell_type": "markdown",
   "metadata": {},
   "source": [
    "# Feature Importance"
   ]
  },
  {
   "cell_type": "code",
   "execution_count": 47,
   "metadata": {
    "scrolled": true
   },
   "outputs": [
    {
     "name": "stdout",
     "output_type": "stream",
     "text": [
      "Top 3 most important features: \n",
      "\n",
      "1: backers_count, Score: 0.177 \n",
      "2: pledged, Score: 0.148 \n",
      "3: avg_fund_per_backer, Score: 0.105 \n"
     ]
    }
   ],
   "source": [
    "important_features_dict = {}\n",
    "importance = classifier.feature_importances_\n",
    "for i, v in enumerate(importance):\n",
    "    important_features_dict[i] = v\n",
    "\n",
    "top_idx = sorted(important_features_dict,\n",
    "                                 key=important_features_dict.get,\n",
    "                                 reverse=True)[:10]\n",
    "\n",
    "top_features_names = OHE_train.columns[top_idx]\n",
    "top_features_scores = importance[top_idx]\n",
    "\n",
    "print('Top 3 most important features: \\n')\n",
    "\n",
    "for i in range(3):\n",
    "    print('%s: %s, Score: %.3f ' % (i+1, top_features_names[i], top_features_scores[i]))\n"
   ]
  },
  {
   "cell_type": "code",
   "execution_count": null,
   "metadata": {},
   "outputs": [],
   "source": []
  }
 ],
 "metadata": {
  "kernelspec": {
   "display_name": "Python 3",
   "language": "python",
   "name": "python3"
  },
  "language_info": {
   "codemirror_mode": {
    "name": "ipython",
    "version": 3
   },
   "file_extension": ".py",
   "mimetype": "text/x-python",
   "name": "python",
   "nbconvert_exporter": "python",
   "pygments_lexer": "ipython3",
   "version": "3.8.3"
  }
 },
 "nbformat": 4,
 "nbformat_minor": 4
}
