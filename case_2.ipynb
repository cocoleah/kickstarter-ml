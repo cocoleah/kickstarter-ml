{
 "cells": [
  {
   "cell_type": "markdown",
   "metadata": {},
   "source": [
    "# Preprocessing"
   ]
  },
  {
   "cell_type": "code",
   "execution_count": 1,
   "metadata": {},
   "outputs": [],
   "source": [
    "# import libraries\n",
    "import pandas as pd\n",
    "import numpy as np \n",
    "import datetime as dt\n",
    "import math\n",
    "\n",
    "from sklearn.preprocessing import MinMaxScaler\n",
    "\n",
    "# Visualization \n",
    "import matplotlib.pyplot as plt \n",
    "import seaborn as sns\n",
    "import plotly.graph_objects as go\n",
    "from plotly.subplots import make_subplots\n",
    "from dash import Dash, dcc, html, dash_table\n",
    "from dash.dependencies import Input, Output, State\n",
    "import ipywidgets as widgets\n",
    "from IPython.display import clear_output\n"
   ]
  },
  {
   "cell_type": "code",
   "execution_count": 2,
   "metadata": {},
   "outputs": [
    {
     "data": {
      "text/html": [
       "<div>\n",
       "<style scoped>\n",
       "    .dataframe tbody tr th:only-of-type {\n",
       "        vertical-align: middle;\n",
       "    }\n",
       "\n",
       "    .dataframe tbody tr th {\n",
       "        vertical-align: top;\n",
       "    }\n",
       "\n",
       "    .dataframe thead th {\n",
       "        text-align: right;\n",
       "    }\n",
       "</style>\n",
       "<table border=\"1\" class=\"dataframe\">\n",
       "  <thead>\n",
       "    <tr style=\"text-align: right;\">\n",
       "      <th></th>\n",
       "      <th>Unnamed: 0</th>\n",
       "      <th>pspreference</th>\n",
       "      <th>currencycode</th>\n",
       "      <th>issuercountrycode</th>\n",
       "      <th>bin</th>\n",
       "      <th>creationdate</th>\n",
       "      <th>genericresponse</th>\n",
       "      <th>amount</th>\n",
       "      <th>scheme</th>\n",
       "      <th>merchant</th>\n",
       "      <th>company</th>\n",
       "      <th>acquireraccount</th>\n",
       "      <th>acquirer</th>\n",
       "      <th>journaltype</th>\n",
       "      <th>paymentmethod</th>\n",
       "      <th>approved</th>\n",
       "      <th>refused</th>\n",
       "      <th>received</th>\n",
       "      <th>threedattempt</th>\n",
       "    </tr>\n",
       "  </thead>\n",
       "  <tbody>\n",
       "    <tr>\n",
       "      <th>0</th>\n",
       "      <td>1</td>\n",
       "      <td>psp:89068059460259968</td>\n",
       "      <td>IDR</td>\n",
       "      <td>ID</td>\n",
       "      <td>552695</td>\n",
       "      <td>2017-10-01 18:58:11</td>\n",
       "      <td>APPROVED</td>\n",
       "      <td>1000.0</td>\n",
       "      <td>mastercard</td>\n",
       "      <td>ABC_IDR</td>\n",
       "      <td>ABCLimited</td>\n",
       "      <td>AdyenMasterCardMalaysia_ABC_IDR</td>\n",
       "      <td>AdyenMasterCardMalaysia</td>\n",
       "      <td>Cancelled</td>\n",
       "      <td>commercialcredit</td>\n",
       "      <td>1</td>\n",
       "      <td>0</td>\n",
       "      <td>1</td>\n",
       "      <td>Yes</td>\n",
       "    </tr>\n",
       "    <tr>\n",
       "      <th>1</th>\n",
       "      <td>2</td>\n",
       "      <td>psp:67025064257904888</td>\n",
       "      <td>IDR</td>\n",
       "      <td>ID</td>\n",
       "      <td>547582</td>\n",
       "      <td>2017-10-01 12:47:47</td>\n",
       "      <td>APPROVED</td>\n",
       "      <td>1000.0</td>\n",
       "      <td>mastercard</td>\n",
       "      <td>ABC_IDR</td>\n",
       "      <td>ABCLimited</td>\n",
       "      <td>AdyenMasterCardMalaysia_ABC_IDR</td>\n",
       "      <td>AdyenMasterCardMalaysia</td>\n",
       "      <td>Cancelled</td>\n",
       "      <td>commercialcredit</td>\n",
       "      <td>1</td>\n",
       "      <td>0</td>\n",
       "      <td>1</td>\n",
       "      <td>Yes</td>\n",
       "    </tr>\n",
       "    <tr>\n",
       "      <th>2</th>\n",
       "      <td>3</td>\n",
       "      <td>psp:61362098320387304</td>\n",
       "      <td>IDR</td>\n",
       "      <td>ID</td>\n",
       "      <td>547582</td>\n",
       "      <td>2017-10-01 22:44:06</td>\n",
       "      <td>NOT_3D_AUTHENTICATED</td>\n",
       "      <td>1000.0</td>\n",
       "      <td>mastercard</td>\n",
       "      <td>ABC_IDR</td>\n",
       "      <td>ABCLimited</td>\n",
       "      <td>AdyenMasterCardMalaysia_ABC_IDR</td>\n",
       "      <td>AdyenMasterCardMalaysia</td>\n",
       "      <td>Refused</td>\n",
       "      <td>commercialcredit</td>\n",
       "      <td>0</td>\n",
       "      <td>1</td>\n",
       "      <td>1</td>\n",
       "      <td>Yes</td>\n",
       "    </tr>\n",
       "    <tr>\n",
       "      <th>3</th>\n",
       "      <td>4</td>\n",
       "      <td>psp:78486269968561824</td>\n",
       "      <td>IDR</td>\n",
       "      <td>ID</td>\n",
       "      <td>547582</td>\n",
       "      <td>2017-10-01 22:41:30</td>\n",
       "      <td>NOT_3D_AUTHENTICATED</td>\n",
       "      <td>1000.0</td>\n",
       "      <td>mastercard</td>\n",
       "      <td>ABC_IDR</td>\n",
       "      <td>ABCLimited</td>\n",
       "      <td>AdyenMasterCardMalaysia_ABC_IDR</td>\n",
       "      <td>AdyenMasterCardMalaysia</td>\n",
       "      <td>Refused</td>\n",
       "      <td>commercialcredit</td>\n",
       "      <td>0</td>\n",
       "      <td>1</td>\n",
       "      <td>1</td>\n",
       "      <td>Yes</td>\n",
       "    </tr>\n",
       "    <tr>\n",
       "      <th>4</th>\n",
       "      <td>5</td>\n",
       "      <td>psp:6116164638660848</td>\n",
       "      <td>IDR</td>\n",
       "      <td>KR</td>\n",
       "      <td>558420</td>\n",
       "      <td>2017-10-01 21:56:04</td>\n",
       "      <td>NOT_3D_AUTHENTICATED</td>\n",
       "      <td>1000.0</td>\n",
       "      <td>mastercard</td>\n",
       "      <td>ABC_IDR</td>\n",
       "      <td>ABCLimited</td>\n",
       "      <td>AdyenMasterCardMalaysia_ABC_IDR</td>\n",
       "      <td>AdyenMasterCardMalaysia</td>\n",
       "      <td>Refused</td>\n",
       "      <td>commercialcredit</td>\n",
       "      <td>0</td>\n",
       "      <td>1</td>\n",
       "      <td>1</td>\n",
       "      <td>Yes</td>\n",
       "    </tr>\n",
       "  </tbody>\n",
       "</table>\n",
       "</div>"
      ],
      "text/plain": [
       "   Unnamed: 0           pspreference currencycode issuercountrycode     bin  \\\n",
       "0           1  psp:89068059460259968          IDR                ID  552695   \n",
       "1           2  psp:67025064257904888          IDR                ID  547582   \n",
       "2           3  psp:61362098320387304          IDR                ID  547582   \n",
       "3           4  psp:78486269968561824          IDR                ID  547582   \n",
       "4           5   psp:6116164638660848          IDR                KR  558420   \n",
       "\n",
       "          creationdate       genericresponse  amount      scheme merchant  \\\n",
       "0  2017-10-01 18:58:11              APPROVED  1000.0  mastercard  ABC_IDR   \n",
       "1  2017-10-01 12:47:47              APPROVED  1000.0  mastercard  ABC_IDR   \n",
       "2  2017-10-01 22:44:06  NOT_3D_AUTHENTICATED  1000.0  mastercard  ABC_IDR   \n",
       "3  2017-10-01 22:41:30  NOT_3D_AUTHENTICATED  1000.0  mastercard  ABC_IDR   \n",
       "4  2017-10-01 21:56:04  NOT_3D_AUTHENTICATED  1000.0  mastercard  ABC_IDR   \n",
       "\n",
       "      company                  acquireraccount                 acquirer  \\\n",
       "0  ABCLimited  AdyenMasterCardMalaysia_ABC_IDR  AdyenMasterCardMalaysia   \n",
       "1  ABCLimited  AdyenMasterCardMalaysia_ABC_IDR  AdyenMasterCardMalaysia   \n",
       "2  ABCLimited  AdyenMasterCardMalaysia_ABC_IDR  AdyenMasterCardMalaysia   \n",
       "3  ABCLimited  AdyenMasterCardMalaysia_ABC_IDR  AdyenMasterCardMalaysia   \n",
       "4  ABCLimited  AdyenMasterCardMalaysia_ABC_IDR  AdyenMasterCardMalaysia   \n",
       "\n",
       "  journaltype     paymentmethod  approved  refused  received threedattempt  \n",
       "0   Cancelled  commercialcredit         1        0         1           Yes  \n",
       "1   Cancelled  commercialcredit         1        0         1           Yes  \n",
       "2     Refused  commercialcredit         0        1         1           Yes  \n",
       "3     Refused  commercialcredit         0        1         1           Yes  \n",
       "4     Refused  commercialcredit         0        1         1           Yes  "
      ]
     },
     "execution_count": 2,
     "metadata": {},
     "output_type": "execute_result"
    }
   ],
   "source": [
    "# Import raw data\n",
    "rawdf = pd.read_csv('APAC Data Analytics Case Study.csv')\n",
    "rawdf.head()"
   ]
  },
  {
   "cell_type": "code",
   "execution_count": null,
   "metadata": {},
   "outputs": [],
   "source": []
  },
  {
   "cell_type": "code",
   "execution_count": 3,
   "metadata": {
    "scrolled": false
   },
   "outputs": [
    {
     "name": "stdout",
     "output_type": "stream",
     "text": [
      "Unnamed: 0\n",
      "[     1      2      3 ... 226866 226867 226868]\n",
      "226868\n",
      "----------------------------------------\n",
      "pspreference\n",
      "['psp:89068059460259968' 'psp:67025064257904888' 'psp:61362098320387304'\n",
      " ... 'psp:20574157754890620' 'psp:73109800834208720'\n",
      " 'psp:1238853996619582']\n",
      "226868\n",
      "----------------------------------------\n",
      "currencycode\n",
      "['IDR' 'MYR' 'SGD' 'THB']\n",
      "4\n",
      "----------------------------------------\n",
      "issuercountrycode\n",
      "['ID' 'KR' 'IN' 'US' nan 'NL' 'GB' 'MY' 'DE' 'HK' 'SG' 'FR' 'VN' 'TW' 'CN'\n",
      " 'HU' 'CA' 'CL' 'BR' 'AU' 'CZ' 'PH' 'MX' 'RU' 'ES' 'LB' 'AR' 'SA' 'SI'\n",
      " 'ZA' 'JP' 'TR' 'EG' 'TH' 'AE' 'LK' 'NO' 'CO' 'PK' 'BN' 'KE' 'SE' 'QA'\n",
      " 'KW' 'NZ' 'AT' 'SR' 'IT' 'CH' 'KH' 'MO' 'BE' 'PL' 'DK' 'IE' 'BY' 'CR'\n",
      " 'NG' 'EE' 'FI' 'PE' 'IL' 'LV' 'UA' 'BG' 'EC' 'KZ' 'PR' 'SO' 'BZ' 'TC'\n",
      " 'PA' 'LT' 'OM' 'PT' 'JO' 'MM' 'BD' 'DO' 'RS' 'RO' 'HR' 'AM' 'LU' 'UY'\n",
      " 'FJ' 'SK' 'MT' 'BB' 'HN' 'GI' 'PY' 'JM' 'SV' 'ZM' 'MU' 'BM' 'AF' 'MV'\n",
      " 'TJ' 'IS' 'SM' 'MN' 'LA' 'AD' 'TT' 'VE' 'BH' 'GT' 'KG' 'GR' 'UZ' 'AG'\n",
      " 'TZ' 'BA' 'CY' 'KM' 'GE']\n",
      "118\n",
      "----------------------------------------\n",
      "bin\n",
      "[552695 547582 558420 ... 557722 420003 472752]\n",
      "3980\n",
      "----------------------------------------\n",
      "creationdate\n",
      "['2017-10-01 18:58:11' '2017-10-01 12:47:47' '2017-10-01 22:44:06' ...\n",
      " '2017-10-31 08:25:10' '2017-10-31 17:49:14' '2017-10-31 03:32:13']\n",
      "192593\n",
      "----------------------------------------\n",
      "genericresponse\n",
      "['APPROVED' 'NOT_3D_AUTHENTICATED' 'DECLINED' 'CVC_DECLINED' 'ERROR'\n",
      " 'FRAUD' 'TRANSACTION_NOT_PERMITTED' 'NOT_ENOUGH_BALANCE'\n",
      " 'ISSUER_UNAVAILABLE' 'CARD_EXPIRED' 'BLOCK_CARD' 'INVALID_CARD' 'UNKNOWN'\n",
      " 'REFERRAL']\n",
      "14\n",
      "----------------------------------------\n",
      "amount\n",
      "[ 1000. 30000. 16000. ...  1835. 34425. 53400.]\n",
      "2007\n",
      "----------------------------------------\n",
      "scheme\n",
      "['mastercard' 'visa']\n",
      "2\n",
      "----------------------------------------\n",
      "merchant\n",
      "['ABC_IDR' 'ABC_MYR' 'ABC_SGD' 'DEF_IDR' 'DEF_SGD' 'DEF_THB' 'XYZ_IDR'\n",
      " 'XYZ_MYR' 'XYZ_SGD' 'XYZ_THB']\n",
      "10\n",
      "----------------------------------------\n",
      "company\n",
      "['ABCLimited' 'DEFLimited' 'XYZLimited']\n",
      "3\n",
      "----------------------------------------\n",
      "acquireraccount\n",
      "['AdyenMasterCardMalaysia_ABC_IDR' 'AdyenMasterCardSingapore_ABC_IDR'\n",
      " 'AdyenVisaMalaysia_ABC_IDR' 'AdyenVisaSingapore_ABC_IDR'\n",
      " 'RefusedRiskAcquirerAccount' 'AdyenMasterCardMalaysia_ABC_MYR'\n",
      " 'AdyenVisaMalaysia_ABC_MYR' 'AdyenMasterCardSingapore_ABC_SGD'\n",
      " 'AdyenVisaSingapore_ABC_SGD' 'AdyenMasterCardEurope_DEF_IDR'\n",
      " 'AdyenVisaEurope_DEF_IDR' 'AdyenMasterCardSingapore_DEF_SGD'\n",
      " 'AdyenVisaSingapore_DEF_SGD' 'AdyenMasterCardSingapore_DEF_THB'\n",
      " 'AdyenVisaSingapore_DEF_THB' 'AdyenMasterCardMalaysia_XYZ_IDR'\n",
      " 'AdyenVisaMalaysia_XYZ_IDR' 'AdyenMasterCardMalaysia_XYZ_MYR'\n",
      " 'AdyenVisaMalaysia_XYZ_MYR' 'AdyenMasterCardSingapore_XYZ_SGD'\n",
      " 'AdyenVisaSingapore_XYZ_SGD' 'AdyenMasterCardEurope_XYZ_THB'\n",
      " 'AdyenVisaEurope_XYZ_THB']\n",
      "23\n",
      "----------------------------------------\n",
      "acquirer\n",
      "['AdyenMasterCardMalaysia' 'AdyenMasterCardSingapore' 'AdyenVisaMalaysia'\n",
      " 'AdyenVisaSingapore' 'RefusedAcquirer' 'AdyenMasterCardEurope'\n",
      " 'AdyenVisaEurope']\n",
      "7\n",
      "----------------------------------------\n",
      "journaltype\n",
      "['Cancelled' 'Refused' 'SettledExternally' 'Error' 'RefundedExternally'\n",
      " 'Settled' 'Refunded' 'Expired' 'CaptureFailed' 'RefundFailed'\n",
      " 'Authorised' 'SentForSettle' 'SentForRefund' 'SettledBulk']\n",
      "14\n",
      "----------------------------------------\n",
      "paymentmethod\n",
      "['commercialcredit' 'commercialdebit' 'credit' 'debit' 'premiumcredit'\n",
      " 'standardcredit' 'standarddebit' 'superpremiumcredit' 'fleetcredit'\n",
      " 'superpremiumdebit' 'commercialsuperpremiumcredit' 'corporatecredit'\n",
      " 'premiumdebit' 'commercialpremiumcredit' 'purchasingcredit'\n",
      " 'commercialpremiumdebit' 'corporatedebit' 'proprietary']\n",
      "18\n",
      "----------------------------------------\n",
      "approved\n",
      "[1 0]\n",
      "2\n",
      "----------------------------------------\n",
      "refused\n",
      "[0 1]\n",
      "2\n",
      "----------------------------------------\n",
      "received\n",
      "[1]\n",
      "1\n",
      "----------------------------------------\n",
      "threedattempt\n",
      "['Yes' 'No']\n",
      "2\n",
      "----------------------------------------\n"
     ]
    }
   ],
   "source": [
    "for col in rawdf:\n",
    "    print(col)\n",
    "    print(rawdf[col].unique())\n",
    "    print(len(rawdf[col].unique()))\n",
    "    print('----------------------------------------')\n",
    "    \n",
    "# assume all merchants have no relation to each other, therefore cant cross compare across merchants in the market / conduct market analysis "
   ]
  },
  {
   "cell_type": "markdown",
   "metadata": {},
   "source": [
    "## Data Cleaning"
   ]
  },
  {
   "cell_type": "code",
   "execution_count": 120,
   "metadata": {},
   "outputs": [],
   "source": [
    "df = rawdf.copy() \n",
    "df = df.drop(['Unnamed: 0', 'received'], axis=1)\n",
    "\n",
    "df['issuercountrycode'] = np.where(df['issuercountrycode'].isna(), 'unspecified', df['issuercountrycode'])"
   ]
  },
  {
   "cell_type": "markdown",
   "metadata": {},
   "source": [
    "## Feature Engineering"
   ]
  },
  {
   "cell_type": "code",
   "execution_count": 121,
   "metadata": {},
   "outputs": [],
   "source": [
    "# Rename boolean field outputs\n",
    "df['is_approved'] = np.where(df['approved'] ==1, 'Approved', 'Rejected') # 1= approved, 0 = refused\n",
    "df['threedattempt'] = np.where(df['threedattempt'] == 'Yes', 'Secure', 'Not_Secure') #1= Ready to support native 3D Secure 2 authentication\n",
    "\n",
    "# Identify FRAUD transactions\n",
    "df['is_fraud'] = np.where(df['genericresponse'] == 'FRAUD', 'Fraud', 'Not_Fraud')\n",
    "\n",
    "# Time & Day\n",
    "df['date_time'] = pd.to_datetime(df['creationdate'])\n",
    "df['date'] = df['date_time'].dt.date\n",
    "df['day'] = df['date_time'].dt.day_name()\n",
    "df['weektype'] = np.where(df['day'].isin(['Saturday', 'Sunday']), 'weekend', 'weekday')\n",
    "\n",
    "df['hour'] = df['date_time'].dt.hour\n",
    "df['timeofday'] = np.where(df['hour'].isin(np.arange(6, 12)), 'day', \n",
    "                          np.where(df['hour'].isin(np.arange(12, 18)), 'afternoon', \n",
    "                          np.where(df['hour'].isin(np.arange(18, 24)), 'night', \n",
    "                          np.where(df['hour'].isin(np.arange(0, 6)), 'latenight', \n",
    "                          'unspecified'))))\n",
    "\n",
    "# Transaction type: shopper type\n",
    "df['domestic_shopper'] = np.where(df['currencycode'].str[:2] == df['issuercountrycode'], 1, 0)"
   ]
  },
  {
   "cell_type": "code",
   "execution_count": 122,
   "metadata": {},
   "outputs": [],
   "source": [
    "# Payment method by card type\n",
    "normal = ['credit', 'debit', 'standardcredit', 'standarddebit']\n",
    "premium = ['premiumcredit', 'premiumdebit', 'superpremiumcredit', 'superpremiumdebit']\n",
    "commercial = ['commercialcredit', 'commercialdebit', 'commercialpremiumcredit', 'commercialpremiumdebit', 'commercialsuperpremiumcredit']\n",
    "corporate = ['corporatecredit', 'corporatedebit', 'fleetcredit', 'purchasingcredit', 'proprietary']\n",
    "\n",
    "df['cardtype'] = np.where(df['paymentmethod'].isin(normal), 'normal', \n",
    "                          np.where(df['paymentmethod'].isin(premium), 'premium', \n",
    "                          np.where(df['paymentmethod'].isin(commercial), 'commercial', \n",
    "                          np.where(df['paymentmethod'].isin(corporate), 'corporate', \n",
    "                          'unspecified'))))\n",
    "\n",
    "# Payment method by payment card\n",
    "df['debit_credit'] = np.where(df['paymentmethod'].str.contains('credit'), 'credit', \n",
    "                          np.where(df['paymentmethod'].str.contains('debit'), 'debit',\n",
    "                          'proprietary'))"
   ]
  },
  {
   "cell_type": "code",
   "execution_count": 123,
   "metadata": {},
   "outputs": [],
   "source": [
    "# Categorize journal type\n",
    "captured =['Authorised', 'SettledExternally', 'Settled', 'SentForSettle', 'SettledBulk']\n",
    "tryagain =['Cancelled', 'Expired', 'CaptureFailed']\n",
    "refunds =['RefundedExternally', 'Refunded', 'RefundFailed', 'SentForRefund']\n",
    "refused =['Refused', 'Error'] # there are no refused journal type under genericersponse == Approved\n",
    "\n",
    "df['journalcat'] = np.where(df['journaltype'].isin(captured), 'captured', \n",
    "                          np.where(df['journaltype'].isin(tryagain), 'tryagain', \n",
    "                          np.where(df['journaltype'].isin(refunds), 'refunds', \n",
    "                          np.where(df['journaltype'].isin(refused), 'refused', \n",
    "                          'unspecified'))))"
   ]
  },
  {
   "cell_type": "code",
   "execution_count": 124,
   "metadata": {},
   "outputs": [
    {
     "name": "stdout",
     "output_type": "stream",
     "text": [
      "Index(['IDR', 'MYR', 'SGD', 'THB'], dtype='object')\n"
     ]
    },
    {
     "data": {
      "image/png": "[encoded data removed]",
      "text/plain": [
       "<Figure size 1080x216 with 4 Axes>"
      ]
     },
     "metadata": {
      "needs_background": "light"
     },
     "output_type": "display_data"
    }
   ],
   "source": [
    "# Convert all amount to USD for standardization \n",
    "\n",
    "# Import fx rate data\n",
    "fxdf = pd.read_csv('currency.csv')\n",
    "fxdf['date'] = pd.to_datetime(fxdf['date'])\n",
    "\n",
    "currencies = fxdf.columns[1:]\n",
    "print(currencies)\n",
    "\n",
    "fig, axs = plt.subplots(1, 4, figsize=(15, 3))\n",
    "ind = 0\n",
    "while ind < 4:\n",
    "    axs[ind].plot(np.array(fxdf['date']) , np.array(fxdf[currencies[ind]]), label = currencies[ind])\n",
    "    axs[ind].title.set_text('USD' +currencies[ind])\n",
    "    axs[ind].tick_params(labelrotation=90)\n",
    "    ind += 1\n",
    "    \n",
    "plt.tight_layout()\n",
    "plt.show()"
   ]
  },
  {
   "cell_type": "code",
   "execution_count": 125,
   "metadata": {},
   "outputs": [],
   "source": [
    "# Melt fx data \n",
    "fxdf_melt = pd.melt(fxdf, id_vars =['date'], value_vars = fxdf.columns[1:]).dropna()\n",
    "fxdf_melt['date'] = fxdf_melt['date'].apply(lambda x: x.strftime('%Y-%m-%d'))\n",
    "fxdf_melt.columns = ['date_str', 'currencycode', 'fx_rate']\n",
    "\n",
    "# Merge fx data into main df on date and currency\n",
    "df['date_str'] = df['date'].apply(lambda x: x.strftime('%Y-%m-%d'))\n",
    "df2 = pd.merge(df, fxdf_melt, how='left', on=['date_str', 'currencycode'])\n",
    "\n",
    "# Get amount spent in standardized currency: USD\n",
    "df2['amount_usd'] = df2['amount'] / df2['fx_rate']"
   ]
  },
  {
   "cell_type": "code",
   "execution_count": 126,
   "metadata": {},
   "outputs": [
    {
     "data": {
      "text/html": [
       "<div>\n",
       "<style scoped>\n",
       "    .dataframe tbody tr th:only-of-type {\n",
       "        vertical-align: middle;\n",
       "    }\n",
       "\n",
       "    .dataframe tbody tr th {\n",
       "        vertical-align: top;\n",
       "    }\n",
       "\n",
       "    .dataframe thead th {\n",
       "        text-align: right;\n",
       "    }\n",
       "</style>\n",
       "<table border=\"1\" class=\"dataframe\">\n",
       "  <thead>\n",
       "    <tr style=\"text-align: right;\">\n",
       "      <th></th>\n",
       "      <th>amount_bin</th>\n",
       "      <th>pspreference</th>\n",
       "    </tr>\n",
       "  </thead>\n",
       "  <tbody>\n",
       "    <tr>\n",
       "      <th>0</th>\n",
       "      <td>micro</td>\n",
       "      <td>64290</td>\n",
       "    </tr>\n",
       "    <tr>\n",
       "      <th>1</th>\n",
       "      <td>small</td>\n",
       "      <td>69075</td>\n",
       "    </tr>\n",
       "    <tr>\n",
       "      <th>2</th>\n",
       "      <td>average</td>\n",
       "      <td>38947</td>\n",
       "    </tr>\n",
       "    <tr>\n",
       "      <th>3</th>\n",
       "      <td>large</td>\n",
       "      <td>54364</td>\n",
       "    </tr>\n",
       "    <tr>\n",
       "      <th>4</th>\n",
       "      <td>massive</td>\n",
       "      <td>192</td>\n",
       "    </tr>\n",
       "  </tbody>\n",
       "</table>\n",
       "</div>"
      ],
      "text/plain": [
       "  amount_bin  pspreference\n",
       "0      micro         64290\n",
       "1      small         69075\n",
       "2    average         38947\n",
       "3      large         54364\n",
       "4    massive           192"
      ]
     },
     "metadata": {},
     "output_type": "display_data"
    },
    {
     "data": {
      "text/plain": [
       "<BarContainer object of 5 artists>"
      ]
     },
     "execution_count": 126,
     "metadata": {},
     "output_type": "execute_result"
    },
    {
     "data": {
      "image/png": "[encoded data removed]",
      "text/plain": [
       "<Figure size 432x288 with 1 Axes>"
      ]
     },
     "metadata": {
      "needs_background": "light"
     },
     "output_type": "display_data"
    }
   ],
   "source": [
    "# Bin amount into sizes\n",
    "df2['amount_bin'] =  pd.cut(df2['amount_usd'] , bins=[0.0, 1.0, 25, 500, 10000, 100000], \n",
    "                            labels= ['micro', 'small', 'average', 'large', 'massive']) # Ballparked bins based on 25%, 50% and 75%\n",
    "t1 = df2.groupby(['amount_bin'])['pspreference'].count().reset_index()\n",
    "display(t1)\n",
    "plt.title('Number of Transactions, by Size of Amount')\n",
    "plt.bar(t1.amount_bin.astype(str), t1.pspreference)"
   ]
  },
  {
   "cell_type": "code",
   "execution_count": 127,
   "metadata": {},
   "outputs": [
    {
     "data": {
      "text/html": [
       "<div>\n",
       "<style scoped>\n",
       "    .dataframe tbody tr th:only-of-type {\n",
       "        vertical-align: middle;\n",
       "    }\n",
       "\n",
       "    .dataframe tbody tr th {\n",
       "        vertical-align: top;\n",
       "    }\n",
       "\n",
       "    .dataframe thead th {\n",
       "        text-align: right;\n",
       "    }\n",
       "</style>\n",
       "<table border=\"1\" class=\"dataframe\">\n",
       "  <thead>\n",
       "    <tr style=\"text-align: right;\">\n",
       "      <th></th>\n",
       "      <th>pspreference</th>\n",
       "      <th>currencycode</th>\n",
       "      <th>issuercountrycode</th>\n",
       "      <th>bin</th>\n",
       "      <th>genericresponse</th>\n",
       "      <th>scheme</th>\n",
       "      <th>merchant</th>\n",
       "      <th>company</th>\n",
       "      <th>acquireraccount</th>\n",
       "      <th>acquirer</th>\n",
       "      <th>...</th>\n",
       "      <th>date</th>\n",
       "      <th>day</th>\n",
       "      <th>weektype</th>\n",
       "      <th>timeofday</th>\n",
       "      <th>domestic_shopper</th>\n",
       "      <th>cardtype</th>\n",
       "      <th>debit_credit</th>\n",
       "      <th>journalcat</th>\n",
       "      <th>amount_usd</th>\n",
       "      <th>amount_bin</th>\n",
       "    </tr>\n",
       "  </thead>\n",
       "  <tbody>\n",
       "    <tr>\n",
       "      <th>85937</th>\n",
       "      <td>psp:22702238941565156</td>\n",
       "      <td>SGD</td>\n",
       "      <td>SG</td>\n",
       "      <td>426588</td>\n",
       "      <td>APPROVED</td>\n",
       "      <td>visa</td>\n",
       "      <td>XYZ_SGD</td>\n",
       "      <td>XYZLimited</td>\n",
       "      <td>AdyenVisaSingapore_XYZ_SGD</td>\n",
       "      <td>AdyenVisaSingapore</td>\n",
       "      <td>...</td>\n",
       "      <td>2017-10-12</td>\n",
       "      <td>Thursday</td>\n",
       "      <td>weekday</td>\n",
       "      <td>afternoon</td>\n",
       "      <td>1</td>\n",
       "      <td>premium</td>\n",
       "      <td>credit</td>\n",
       "      <td>captured</td>\n",
       "      <td>3697.131026</td>\n",
       "      <td>large</td>\n",
       "    </tr>\n",
       "    <tr>\n",
       "      <th>72749</th>\n",
       "      <td>psp:17226681392639876</td>\n",
       "      <td>IDR</td>\n",
       "      <td>ID</td>\n",
       "      <td>540912</td>\n",
       "      <td>APPROVED</td>\n",
       "      <td>mastercard</td>\n",
       "      <td>ABC_IDR</td>\n",
       "      <td>ABCLimited</td>\n",
       "      <td>AdyenVisaMalaysia_ABC_IDR</td>\n",
       "      <td>AdyenVisaMalaysia</td>\n",
       "      <td>...</td>\n",
       "      <td>2017-10-11</td>\n",
       "      <td>Wednesday</td>\n",
       "      <td>weekday</td>\n",
       "      <td>day</td>\n",
       "      <td>1</td>\n",
       "      <td>premium</td>\n",
       "      <td>credit</td>\n",
       "      <td>captured</td>\n",
       "      <td>0.665779</td>\n",
       "      <td>micro</td>\n",
       "    </tr>\n",
       "    <tr>\n",
       "      <th>72919</th>\n",
       "      <td>psp:98333593108691280</td>\n",
       "      <td>IDR</td>\n",
       "      <td>ID</td>\n",
       "      <td>436502</td>\n",
       "      <td>APPROVED</td>\n",
       "      <td>visa</td>\n",
       "      <td>ABC_IDR</td>\n",
       "      <td>ABCLimited</td>\n",
       "      <td>AdyenVisaMalaysia_ABC_IDR</td>\n",
       "      <td>AdyenVisaMalaysia</td>\n",
       "      <td>...</td>\n",
       "      <td>2017-10-11</td>\n",
       "      <td>Wednesday</td>\n",
       "      <td>weekday</td>\n",
       "      <td>day</td>\n",
       "      <td>1</td>\n",
       "      <td>normal</td>\n",
       "      <td>credit</td>\n",
       "      <td>tryagain</td>\n",
       "      <td>0.073975</td>\n",
       "      <td>micro</td>\n",
       "    </tr>\n",
       "    <tr>\n",
       "      <th>161812</th>\n",
       "      <td>psp:1285569975152612</td>\n",
       "      <td>MYR</td>\n",
       "      <td>FR</td>\n",
       "      <td>535298</td>\n",
       "      <td>APPROVED</td>\n",
       "      <td>mastercard</td>\n",
       "      <td>ABC_MYR</td>\n",
       "      <td>ABCLimited</td>\n",
       "      <td>AdyenMasterCardMalaysia_ABC_MYR</td>\n",
       "      <td>AdyenMasterCardMalaysia</td>\n",
       "      <td>...</td>\n",
       "      <td>2017-10-23</td>\n",
       "      <td>Monday</td>\n",
       "      <td>weekday</td>\n",
       "      <td>day</td>\n",
       "      <td>0</td>\n",
       "      <td>normal</td>\n",
       "      <td>debit</td>\n",
       "      <td>tryagain</td>\n",
       "      <td>23.599934</td>\n",
       "      <td>small</td>\n",
       "    </tr>\n",
       "    <tr>\n",
       "      <th>17375</th>\n",
       "      <td>psp:31128229526802896</td>\n",
       "      <td>IDR</td>\n",
       "      <td>MY</td>\n",
       "      <td>549782</td>\n",
       "      <td>DECLINED</td>\n",
       "      <td>mastercard</td>\n",
       "      <td>DEF_IDR</td>\n",
       "      <td>DEFLimited</td>\n",
       "      <td>AdyenMasterCardEurope_DEF_IDR</td>\n",
       "      <td>AdyenMasterCardEurope</td>\n",
       "      <td>...</td>\n",
       "      <td>2017-10-03</td>\n",
       "      <td>Tuesday</td>\n",
       "      <td>weekday</td>\n",
       "      <td>afternoon</td>\n",
       "      <td>0</td>\n",
       "      <td>normal</td>\n",
       "      <td>debit</td>\n",
       "      <td>refused</td>\n",
       "      <td>0.553792</td>\n",
       "      <td>micro</td>\n",
       "    </tr>\n",
       "  </tbody>\n",
       "</table>\n",
       "<p>5 rows × 26 columns</p>\n",
       "</div>"
      ],
      "text/plain": [
       "                 pspreference currencycode issuercountrycode     bin  \\\n",
       "85937   psp:22702238941565156          SGD                SG  426588   \n",
       "72749   psp:17226681392639876          IDR                ID  540912   \n",
       "72919   psp:98333593108691280          IDR                ID  436502   \n",
       "161812   psp:1285569975152612          MYR                FR  535298   \n",
       "17375   psp:31128229526802896          IDR                MY  549782   \n",
       "\n",
       "       genericresponse      scheme merchant     company  \\\n",
       "85937         APPROVED        visa  XYZ_SGD  XYZLimited   \n",
       "72749         APPROVED  mastercard  ABC_IDR  ABCLimited   \n",
       "72919         APPROVED        visa  ABC_IDR  ABCLimited   \n",
       "161812        APPROVED  mastercard  ABC_MYR  ABCLimited   \n",
       "17375         DECLINED  mastercard  DEF_IDR  DEFLimited   \n",
       "\n",
       "                        acquireraccount                 acquirer  ...  \\\n",
       "85937        AdyenVisaSingapore_XYZ_SGD       AdyenVisaSingapore  ...   \n",
       "72749         AdyenVisaMalaysia_ABC_IDR        AdyenVisaMalaysia  ...   \n",
       "72919         AdyenVisaMalaysia_ABC_IDR        AdyenVisaMalaysia  ...   \n",
       "161812  AdyenMasterCardMalaysia_ABC_MYR  AdyenMasterCardMalaysia  ...   \n",
       "17375     AdyenMasterCardEurope_DEF_IDR    AdyenMasterCardEurope  ...   \n",
       "\n",
       "              date        day weektype  timeofday domestic_shopper cardtype  \\\n",
       "85937   2017-10-12   Thursday  weekday  afternoon                1  premium   \n",
       "72749   2017-10-11  Wednesday  weekday        day                1  premium   \n",
       "72919   2017-10-11  Wednesday  weekday        day                1   normal   \n",
       "161812  2017-10-23     Monday  weekday        day                0   normal   \n",
       "17375   2017-10-03    Tuesday  weekday  afternoon                0   normal   \n",
       "\n",
       "       debit_credit journalcat   amount_usd amount_bin  \n",
       "85937        credit   captured  3697.131026      large  \n",
       "72749        credit   captured     0.665779      micro  \n",
       "72919        credit   tryagain     0.073975      micro  \n",
       "161812        debit   tryagain    23.599934      small  \n",
       "17375         debit    refused     0.553792      micro  \n",
       "\n",
       "[5 rows x 26 columns]"
      ]
     },
     "execution_count": 127,
     "metadata": {},
     "output_type": "execute_result"
    }
   ],
   "source": [
    "# Drop irrelevant columns\n",
    "df2 = df2.drop(['amount', 'date_str', 'approved', 'refused', 'fx_rate', 'hour', 'creationdate'], axis =1) # fx rate is for standardization only, assume merchant does not bear any fx loss\n",
    "df2.sample(5)"
   ]
  },
  {
   "cell_type": "code",
   "execution_count": null,
   "metadata": {},
   "outputs": [],
   "source": []
  },
  {
   "cell_type": "markdown",
   "metadata": {},
   "source": [
    "# EDA"
   ]
  },
  {
   "cell_type": "markdown",
   "metadata": {},
   "source": [
    "## Descriptive Summary"
   ]
  },
  {
   "cell_type": "code",
   "execution_count": 128,
   "metadata": {},
   "outputs": [
    {
     "data": {
      "text/html": [
       "<div>\n",
       "<style scoped>\n",
       "    .dataframe tbody tr th:only-of-type {\n",
       "        vertical-align: middle;\n",
       "    }\n",
       "\n",
       "    .dataframe tbody tr th {\n",
       "        vertical-align: top;\n",
       "    }\n",
       "\n",
       "    .dataframe thead th {\n",
       "        text-align: right;\n",
       "    }\n",
       "</style>\n",
       "<table border=\"1\" class=\"dataframe\">\n",
       "  <thead>\n",
       "    <tr style=\"text-align: right;\">\n",
       "      <th></th>\n",
       "      <th>bin</th>\n",
       "      <th>domestic_shopper</th>\n",
       "      <th>amount_usd</th>\n",
       "    </tr>\n",
       "  </thead>\n",
       "  <tbody>\n",
       "    <tr>\n",
       "      <th>count</th>\n",
       "      <td>226868.000000</td>\n",
       "      <td>226868.000000</td>\n",
       "      <td>226868.000000</td>\n",
       "    </tr>\n",
       "    <tr>\n",
       "      <th>mean</th>\n",
       "      <td>491153.083432</td>\n",
       "      <td>0.861408</td>\n",
       "      <td>531.510847</td>\n",
       "    </tr>\n",
       "    <tr>\n",
       "      <th>std</th>\n",
       "      <td>50233.273537</td>\n",
       "      <td>0.345521</td>\n",
       "      <td>1292.215587</td>\n",
       "    </tr>\n",
       "    <tr>\n",
       "      <th>min</th>\n",
       "      <td>400000.000000</td>\n",
       "      <td>0.000000</td>\n",
       "      <td>0.036716</td>\n",
       "    </tr>\n",
       "    <tr>\n",
       "      <th>25%</th>\n",
       "      <td>450824.000000</td>\n",
       "      <td>1.000000</td>\n",
       "      <td>0.665779</td>\n",
       "    </tr>\n",
       "    <tr>\n",
       "      <th>50%</th>\n",
       "      <td>498001.000000</td>\n",
       "      <td>1.000000</td>\n",
       "      <td>23.615539</td>\n",
       "    </tr>\n",
       "    <tr>\n",
       "      <th>75%</th>\n",
       "      <td>540912.000000</td>\n",
       "      <td>1.000000</td>\n",
       "      <td>444.005929</td>\n",
       "    </tr>\n",
       "    <tr>\n",
       "      <th>max</th>\n",
       "      <td>591882.000000</td>\n",
       "      <td>1.000000</td>\n",
       "      <td>73364.177132</td>\n",
       "    </tr>\n",
       "  </tbody>\n",
       "</table>\n",
       "</div>"
      ],
      "text/plain": [
       "                 bin  domestic_shopper     amount_usd\n",
       "count  226868.000000     226868.000000  226868.000000\n",
       "mean   491153.083432          0.861408     531.510847\n",
       "std     50233.273537          0.345521    1292.215587\n",
       "min    400000.000000          0.000000       0.036716\n",
       "25%    450824.000000          1.000000       0.665779\n",
       "50%    498001.000000          1.000000      23.615539\n",
       "75%    540912.000000          1.000000     444.005929\n",
       "max    591882.000000          1.000000   73364.177132"
      ]
     },
     "execution_count": 128,
     "metadata": {},
     "output_type": "execute_result"
    }
   ],
   "source": [
    "# Lists\n",
    "companies = np.unique(df2.company)\n",
    "dates = np.unique(df2.date)\n",
    "days = np.unique(df2.day)\n",
    "cards = np.unique(df2.cardtype)\n",
    "schemes = np.unique(df2.scheme)\n",
    "journals = list(np.unique(df2.journalcat)) + ['All']\n",
    "\n",
    "# List of fields available to filter on\n",
    "fieldtypes = [elem for elem in df2.columns if elem not in ['pspreference', 'bin', 'company', 'amount_usd', 'date_time', 'date']]\n",
    "fieldtypes = sorted(fieldtypes)\n",
    "\n",
    "# Summary statistics\n",
    "df2.describe()\n",
    "# df2.loc[:, ~df2.columns.isin(['pspreference', 'creationdate', 'amount'])].apply(lambda x : pd.factorize(x)[0]).corr(method='pearson', min_periods=1).style.background_gradient(cmap='coolwarm')"
   ]
  },
  {
   "cell_type": "code",
   "execution_count": 129,
   "metadata": {},
   "outputs": [
    {
     "name": "stderr",
     "output_type": "stream",
     "text": [
      "<ipython-input-129-36ff1664efd4>:3: UserWarning:\n",
      "\n",
      "To output multiple subplots, the figure containing the passed axes is being cleared\n",
      "\n"
     ]
    },
    {
     "data": {
      "image/png": "[encoded data removed]",
      "text/plain": [
       "<Figure size 1080x720 with 4 Axes>"
      ]
     },
     "metadata": {
      "needs_background": "light"
     },
     "output_type": "display_data"
    }
   ],
   "source": [
    "fig = plt.figure(figsize = (15,10))\n",
    "ax = fig.gca()\n",
    "df2.hist(ax = ax);"
   ]
  },
  {
   "cell_type": "markdown",
   "metadata": {},
   "source": [
    "## Transaction flow (sankey)"
   ]
  },
  {
   "cell_type": "code",
   "execution_count": 130,
   "metadata": {},
   "outputs": [],
   "source": [
    "def genSankey(df,cat_cols=[],value_cols='',title='Sankey Diagram'):\n",
    "    # maximum of 6 cat cols -> 6 colors\n",
    "    colorPalette = ['#4B8BBE','#309871','#FFE873','#FFD43B','#646464']\n",
    "    labelList = []\n",
    "    colorNumList = []\n",
    "    for catCol in cat_cols:\n",
    "        labelListTemp =  list(set(df[catCol].values))\n",
    "        colorNumList.append(len(labelListTemp))\n",
    "        labelList = labelList + labelListTemp\n",
    "#         \n",
    "        \n",
    "    # remove duplicates from labelList\n",
    "    labelList = list(dict.fromkeys(labelList))\n",
    "    \n",
    "    # define colors based on number of levels\n",
    "    colorList = []\n",
    "    for idx, colorNum in enumerate(colorNumList):\n",
    "        colorList = colorList + [colorPalette[idx]]*colorNum\n",
    "        \n",
    "    # transform df into a source-target pair\n",
    "    for i in range(len(cat_cols)-1):\n",
    "        if i==0:\n",
    "            sourceTargetDf = df[[cat_cols[i],cat_cols[i+1],value_cols]]\n",
    "            sourceTargetDf.columns = ['source','target','count']\n",
    "        else:\n",
    "            tempDf = df[[cat_cols[i],cat_cols[i+1],value_cols]]\n",
    "            tempDf.columns = ['source','target','count']\n",
    "            sourceTargetDf = pd.concat([sourceTargetDf,tempDf])\n",
    "        sourceTargetDf = sourceTargetDf.groupby(['source','target']).agg({'count':'sum'}).reset_index()\n",
    "        \n",
    "    # add index for source-target pair\n",
    "    sourceTargetDf['sourceID'] = sourceTargetDf['source'].apply(lambda x: labelList.index(x))\n",
    "    sourceTargetDf['targetID'] = sourceTargetDf['target'].apply(lambda x: labelList.index(x))\n",
    "    \n",
    "    # creating the sankey diagram\n",
    "    data = dict(\n",
    "        type='sankey',\n",
    "        node = dict(\n",
    "          pad = 15,\n",
    "          thickness = 20,\n",
    "          line = dict(\n",
    "            color = \"black\",\n",
    "            width = 0.5\n",
    "          ),\n",
    "          label = [str(i) for i in labelList],\n",
    "          color = colorList\n",
    "        ),\n",
    "        link = dict(\n",
    "          source = sourceTargetDf['sourceID'],\n",
    "          target = sourceTargetDf['targetID'],\n",
    "          value = sourceTargetDf['count']\n",
    "        )\n",
    "      )\n",
    "    \n",
    "    layout =  dict(\n",
    "        title = title,\n",
    "        font = dict(\n",
    "          size = 10\n",
    "        )\n",
    "    )\n",
    "       \n",
    "    fig = go.Figure(data= dict(data=[data], layout=layout))\n",
    "    return fig\n",
    "\n",
    "\n",
    "# # Test\n",
    "# company_dd = 'ABCLimited' \n",
    "# field1_dd = 'is_approved'\n",
    "# field2_dd = 'merchant'\n",
    "# field3_dd = 'journaltype'\n",
    "\n",
    "# df_view = df2[df2['company'] == company_dd]\n",
    "# fig = genSankey(df_view, cat_cols = [field1_dd, field2_dd, field3_dd], \n",
    "#             value_cols='amount_usd', title=f'TPV flow of {company_dd}')\n",
    "# fig.show()"
   ]
  },
  {
   "cell_type": "code",
   "execution_count": 138,
   "metadata": {},
   "outputs": [
    {
     "data": {
      "application/vnd.jupyter.widget-view+json": {
       "model_id": "3d37814df7bd4dc08eb8e585377f1212",
       "version_major": 2,
       "version_minor": 0
      },
      "text/plain": [
       "VBox(children=(VBox(children=(Dropdown(description='Select Company', index=2, options=('ABCLimited', 'DEFLimit…"
      ]
     },
     "metadata": {},
     "output_type": "display_data"
    },
    {
     "data": {
      "application/vnd.plotly.v1+json": {
       "config": {
        "plotlyServerURL": "https://plot.ly"
       },
       "data": [
        {
         "link": {
          "source": [
           1,
           1,
           1,
           1,
           0,
           0,
           0,
           0,
           3,
           3,
           2,
           2,
           4,
           4,
           5,
           5
          ],
          "target": [
           3,
           2,
           4,
           5,
           3,
           2,
           4,
           5,
           6,
           7,
           6,
           7,
           6,
           7,
           6,
           7
          ],
          "value": [
           23462.81520530377,
           5140336.45093828,
           4013670.8705495354,
           4084116.4586897767,
           508.4911051116147,
           352870.9292729157,
           23507657.841121577,
           26539.568936295793,
           1377.7341884927205,
           22593.57212192346,
           176176.21537222672,
           5317031.164839601,
           1238138.3850989814,
           26283190.32657136,
           61428.74854746602,
           4049227.2790785935
          ]
         },
         "node": {
          "color": [
           "#4B8BBE",
           "#4B8BBE",
           "#309871",
           "#309871",
           "#309871",
           "#309871",
           "#FFE873",
           "#FFE873"
          ],
          "label": [
           "Secure",
           "Not_Secure",
           "XYZ_MYR",
           "XYZ_IDR",
           "XYZ_SGD",
           "XYZ_THB",
           "Fraud",
           "Not_Fraud"
          ],
          "line": {
           "color": "black",
           "width": 0.5
          },
          "pad": 15,
          "thickness": 20
         },
         "type": "sankey"
        }
       ],
       "layout": {
        "font": {
         "size": 10
        },
        "template": {
         "data": {
          "bar": [
           {
            "error_x": {
             "color": "#2a3f5f"
            },
            "error_y": {
             "color": "#2a3f5f"
            },
            "marker": {
             "line": {
              "color": "#E5ECF6",
              "width": 0.5
             },
             "pattern": {
              "fillmode": "overlay",
              "size": 10,
              "solidity": 0.2
             }
            },
            "type": "bar"
           }
          ],
          "barpolar": [
           {
            "marker": {
             "line": {
              "color": "#E5ECF6",
              "width": 0.5
             },
             "pattern": {
              "fillmode": "overlay",
              "size": 10,
              "solidity": 0.2
             }
            },
            "type": "barpolar"
           }
          ],
          "carpet": [
           {
            "aaxis": {
             "endlinecolor": "#2a3f5f",
             "gridcolor": "white",
             "linecolor": "white",
             "minorgridcolor": "white",
             "startlinecolor": "#2a3f5f"
            },
            "baxis": {
             "endlinecolor": "#2a3f5f",
             "gridcolor": "white",
             "linecolor": "white",
             "minorgridcolor": "white",
             "startlinecolor": "#2a3f5f"
            },
            "type": "carpet"
           }
          ],
          "choropleth": [
           {
            "colorbar": {
             "outlinewidth": 0,
             "ticks": ""
            },
            "type": "choropleth"
           }
          ],
          "contour": [
           {
            "colorbar": {
             "outlinewidth": 0,
             "ticks": ""
            },
            "colorscale": [
             [
              0,
              "#0d0887"
             ],
             [
              0.1111111111111111,
              "#46039f"
             ],
             [
              0.2222222222222222,
              "#7201a8"
             ],
             [
              0.3333333333333333,
              "#9c179e"
             ],
             [
              0.4444444444444444,
              "#bd3786"
             ],
             [
              0.5555555555555556,
              "#d8576b"
             ],
             [
              0.6666666666666666,
              "#ed7953"
             ],
             [
              0.7777777777777778,
              "#fb9f3a"
             ],
             [
              0.8888888888888888,
              "#fdca26"
             ],
             [
              1,
              "#f0f921"
             ]
            ],
            "type": "contour"
           }
          ],
          "contourcarpet": [
           {
            "colorbar": {
             "outlinewidth": 0,
             "ticks": ""
            },
            "type": "contourcarpet"
           }
          ],
          "heatmap": [
           {
            "colorbar": {
             "outlinewidth": 0,
             "ticks": ""
            },
            "colorscale": [
             [
              0,
              "#0d0887"
             ],
             [
              0.1111111111111111,
              "#46039f"
             ],
             [
              0.2222222222222222,
              "#7201a8"
             ],
             [
              0.3333333333333333,
              "#9c179e"
             ],
             [
              0.4444444444444444,
              "#bd3786"
             ],
             [
              0.5555555555555556,
              "#d8576b"
             ],
             [
              0.6666666666666666,
              "#ed7953"
             ],
             [
              0.7777777777777778,
              "#fb9f3a"
             ],
             [
              0.8888888888888888,
              "#fdca26"
             ],
             [
              1,
              "#f0f921"
             ]
            ],
            "type": "heatmap"
           }
          ],
          "heatmapgl": [
           {
            "colorbar": {
             "outlinewidth": 0,
             "ticks": ""
            },
            "colorscale": [
             [
              0,
              "#0d0887"
             ],
             [
              0.1111111111111111,
              "#46039f"
             ],
             [
              0.2222222222222222,
              "#7201a8"
             ],
             [
              0.3333333333333333,
              "#9c179e"
             ],
             [
              0.4444444444444444,
              "#bd3786"
             ],
             [
              0.5555555555555556,
              "#d8576b"
             ],
             [
              0.6666666666666666,
              "#ed7953"
             ],
             [
              0.7777777777777778,
              "#fb9f3a"
             ],
             [
              0.8888888888888888,
              "#fdca26"
             ],
             [
              1,
              "#f0f921"
             ]
            ],
            "type": "heatmapgl"
           }
          ],
          "histogram": [
           {
            "marker": {
             "pattern": {
              "fillmode": "overlay",
              "size": 10,
              "solidity": 0.2
             }
            },
            "type": "histogram"
           }
          ],
          "histogram2d": [
           {
            "colorbar": {
             "outlinewidth": 0,
             "ticks": ""
            },
            "colorscale": [
             [
              0,
              "#0d0887"
             ],
             [
              0.1111111111111111,
              "#46039f"
             ],
             [
              0.2222222222222222,
              "#7201a8"
             ],
             [
              0.3333333333333333,
              "#9c179e"
             ],
             [
              0.4444444444444444,
              "#bd3786"
             ],
             [
              0.5555555555555556,
              "#d8576b"
             ],
             [
              0.6666666666666666,
              "#ed7953"
             ],
             [
              0.7777777777777778,
              "#fb9f3a"
             ],
             [
              0.8888888888888888,
              "#fdca26"
             ],
             [
              1,
              "#f0f921"
             ]
            ],
            "type": "histogram2d"
           }
          ],
          "histogram2dcontour": [
           {
            "colorbar": {
             "outlinewidth": 0,
             "ticks": ""
            },
            "colorscale": [
             [
              0,
              "#0d0887"
             ],
             [
              0.1111111111111111,
              "#46039f"
             ],
             [
              0.2222222222222222,
              "#7201a8"
             ],
             [
              0.3333333333333333,
              "#9c179e"
             ],
             [
              0.4444444444444444,
              "#bd3786"
             ],
             [
              0.5555555555555556,
              "#d8576b"
             ],
             [
              0.6666666666666666,
              "#ed7953"
             ],
             [
              0.7777777777777778,
              "#fb9f3a"
             ],
             [
              0.8888888888888888,
              "#fdca26"
             ],
             [
              1,
              "#f0f921"
             ]
            ],
            "type": "histogram2dcontour"
           }
          ],
          "mesh3d": [
           {
            "colorbar": {
             "outlinewidth": 0,
             "ticks": ""
            },
            "type": "mesh3d"
           }
          ],
          "parcoords": [
           {
            "line": {
             "colorbar": {
              "outlinewidth": 0,
              "ticks": ""
             }
            },
            "type": "parcoords"
           }
          ],
          "pie": [
           {
            "automargin": true,
            "type": "pie"
           }
          ],
          "scatter": [
           {
            "fillpattern": {
             "fillmode": "overlay",
             "size": 10,
             "solidity": 0.2
            },
            "type": "scatter"
           }
          ],
          "scatter3d": [
           {
            "line": {
             "colorbar": {
              "outlinewidth": 0,
              "ticks": ""
             }
            },
            "marker": {
             "colorbar": {
              "outlinewidth": 0,
              "ticks": ""
             }
            },
            "type": "scatter3d"
           }
          ],
          "scattercarpet": [
           {
            "marker": {
             "colorbar": {
              "outlinewidth": 0,
              "ticks": ""
             }
            },
            "type": "scattercarpet"
           }
          ],
          "scattergeo": [
           {
            "marker": {
             "colorbar": {
              "outlinewidth": 0,
              "ticks": ""
             }
            },
            "type": "scattergeo"
           }
          ],
          "scattergl": [
           {
            "marker": {
             "colorbar": {
              "outlinewidth": 0,
              "ticks": ""
             }
            },
            "type": "scattergl"
           }
          ],
          "scattermapbox": [
           {
            "marker": {
             "colorbar": {
              "outlinewidth": 0,
              "ticks": ""
             }
            },
            "type": "scattermapbox"
           }
          ],
          "scatterpolar": [
           {
            "marker": {
             "colorbar": {
              "outlinewidth": 0,
              "ticks": ""
             }
            },
            "type": "scatterpolar"
           }
          ],
          "scatterpolargl": [
           {
            "marker": {
             "colorbar": {
              "outlinewidth": 0,
              "ticks": ""
             }
            },
            "type": "scatterpolargl"
           }
          ],
          "scatterternary": [
           {
            "marker": {
             "colorbar": {
              "outlinewidth": 0,
              "ticks": ""
             }
            },
            "type": "scatterternary"
           }
          ],
          "surface": [
           {
            "colorbar": {
             "outlinewidth": 0,
             "ticks": ""
            },
            "colorscale": [
             [
              0,
              "#0d0887"
             ],
             [
              0.1111111111111111,
              "#46039f"
             ],
             [
              0.2222222222222222,
              "#7201a8"
             ],
             [
              0.3333333333333333,
              "#9c179e"
             ],
             [
              0.4444444444444444,
              "#bd3786"
             ],
             [
              0.5555555555555556,
              "#d8576b"
             ],
             [
              0.6666666666666666,
              "#ed7953"
             ],
             [
              0.7777777777777778,
              "#fb9f3a"
             ],
             [
              0.8888888888888888,
              "#fdca26"
             ],
             [
              1,
              "#f0f921"
             ]
            ],
            "type": "surface"
           }
          ],
          "table": [
           {
            "cells": {
             "fill": {
              "color": "#EBF0F8"
             },
             "line": {
              "color": "white"
             }
            },
            "header": {
             "fill": {
              "color": "#C8D4E3"
             },
             "line": {
              "color": "white"
             }
            },
            "type": "table"
           }
          ]
         },
         "layout": {
          "annotationdefaults": {
           "arrowcolor": "#2a3f5f",
           "arrowhead": 0,
           "arrowwidth": 1
          },
          "autotypenumbers": "strict",
          "coloraxis": {
           "colorbar": {
            "outlinewidth": 0,
            "ticks": ""
           }
          },
          "colorscale": {
           "diverging": [
            [
             0,
             "#8e0152"
            ],
            [
             0.1,
             "#c51b7d"
            ],
            [
             0.2,
             "#de77ae"
            ],
            [
             0.3,
             "#f1b6da"
            ],
            [
             0.4,
             "#fde0ef"
            ],
            [
             0.5,
             "#f7f7f7"
            ],
            [
             0.6,
             "#e6f5d0"
            ],
            [
             0.7,
             "#b8e186"
            ],
            [
             0.8,
             "#7fbc41"
            ],
            [
             0.9,
             "#4d9221"
            ],
            [
             1,
             "#276419"
            ]
           ],
           "sequential": [
            [
             0,
             "#0d0887"
            ],
            [
             0.1111111111111111,
             "#46039f"
            ],
            [
             0.2222222222222222,
             "#7201a8"
            ],
            [
             0.3333333333333333,
             "#9c179e"
            ],
            [
             0.4444444444444444,
             "#bd3786"
            ],
            [
             0.5555555555555556,
             "#d8576b"
            ],
            [
             0.6666666666666666,
             "#ed7953"
            ],
            [
             0.7777777777777778,
             "#fb9f3a"
            ],
            [
             0.8888888888888888,
             "#fdca26"
            ],
            [
             1,
             "#f0f921"
            ]
           ],
           "sequentialminus": [
            [
             0,
             "#0d0887"
            ],
            [
             0.1111111111111111,
             "#46039f"
            ],
            [
             0.2222222222222222,
             "#7201a8"
            ],
            [
             0.3333333333333333,
             "#9c179e"
            ],
            [
             0.4444444444444444,
             "#bd3786"
            ],
            [
             0.5555555555555556,
             "#d8576b"
            ],
            [
             0.6666666666666666,
             "#ed7953"
            ],
            [
             0.7777777777777778,
             "#fb9f3a"
            ],
            [
             0.8888888888888888,
             "#fdca26"
            ],
            [
             1,
             "#f0f921"
            ]
           ]
          },
          "colorway": [
           "#636efa",
           "#EF553B",
           "#00cc96",
           "#ab63fa",
           "#FFA15A",
           "#19d3f3",
           "#FF6692",
           "#B6E880",
           "#FF97FF",
           "#FECB52"
          ],
          "font": {
           "color": "#2a3f5f"
          },
          "geo": {
           "bgcolor": "white",
           "lakecolor": "white",
           "landcolor": "#E5ECF6",
           "showlakes": true,
           "showland": true,
           "subunitcolor": "white"
          },
          "hoverlabel": {
           "align": "left"
          },
          "hovermode": "closest",
          "mapbox": {
           "style": "light"
          },
          "paper_bgcolor": "white",
          "plot_bgcolor": "#E5ECF6",
          "polar": {
           "angularaxis": {
            "gridcolor": "white",
            "linecolor": "white",
            "ticks": ""
           },
           "bgcolor": "#E5ECF6",
           "radialaxis": {
            "gridcolor": "white",
            "linecolor": "white",
            "ticks": ""
           }
          },
          "scene": {
           "xaxis": {
            "backgroundcolor": "#E5ECF6",
            "gridcolor": "white",
            "gridwidth": 2,
            "linecolor": "white",
            "showbackground": true,
            "ticks": "",
            "zerolinecolor": "white"
           },
           "yaxis": {
            "backgroundcolor": "#E5ECF6",
            "gridcolor": "white",
            "gridwidth": 2,
            "linecolor": "white",
            "showbackground": true,
            "ticks": "",
            "zerolinecolor": "white"
           },
           "zaxis": {
            "backgroundcolor": "#E5ECF6",
            "gridcolor": "white",
            "gridwidth": 2,
            "linecolor": "white",
            "showbackground": true,
            "ticks": "",
            "zerolinecolor": "white"
           }
          },
          "shapedefaults": {
           "line": {
            "color": "#2a3f5f"
           }
          },
          "ternary": {
           "aaxis": {
            "gridcolor": "white",
            "linecolor": "white",
            "ticks": ""
           },
           "baxis": {
            "gridcolor": "white",
            "linecolor": "white",
            "ticks": ""
           },
           "bgcolor": "#E5ECF6",
           "caxis": {
            "gridcolor": "white",
            "linecolor": "white",
            "ticks": ""
           }
          },
          "title": {
           "x": 0.05
          },
          "xaxis": {
           "automargin": true,
           "gridcolor": "white",
           "linecolor": "white",
           "ticks": "",
           "title": {
            "standoff": 15
           },
           "zerolinecolor": "white",
           "zerolinewidth": 2
          },
          "yaxis": {
           "automargin": true,
           "gridcolor": "white",
           "linecolor": "white",
           "ticks": "",
           "title": {
            "standoff": 15
           },
           "zerolinecolor": "white",
           "zerolinewidth": 2
          }
         }
        },
        "title": {
         "text": "TPV flow of XYZLimited"
        }
       }
      },
      "text/html": [
       "<div>                            <div id=\"a434ded7-632e-4fc8-b88b-98460e9d0b1f\" class=\"plotly-graph-div\" style=\"height:525px; width:100%;\"></div>            <script type=\"text/javascript\">                require([\"plotly\"], function(Plotly) {                    window.PLOTLYENV=window.PLOTLYENV || {};                                    if (document.getElementById(\"a434ded7-632e-4fc8-b88b-98460e9d0b1f\")) {                    Plotly.newPlot(                        \"a434ded7-632e-4fc8-b88b-98460e9d0b1f\",                        [{\"link\":{\"source\":[1,1,1,1,0,0,0,0,3,3,2,2,4,4,5,5],\"target\":[3,2,4,5,3,2,4,5,6,7,6,7,6,7,6,7],\"value\":[23462.81520530377,5140336.45093828,4013670.8705495354,4084116.4586897767,508.4911051116147,352870.9292729157,23507657.841121577,26539.568936295793,1377.7341884927205,22593.57212192346,176176.21537222672,5317031.164839601,1238138.3850989814,26283190.32657136,61428.74854746602,4049227.2790785935]},\"node\":{\"color\":[\"#4B8BBE\",\"#4B8BBE\",\"#309871\",\"#309871\",\"#309871\",\"#309871\",\"#FFE873\",\"#FFE873\"],\"label\":[\"Secure\",\"Not_Secure\",\"XYZ_MYR\",\"XYZ_IDR\",\"XYZ_SGD\",\"XYZ_THB\",\"Fraud\",\"Not_Fraud\"],\"line\":{\"color\":\"black\",\"width\":0.5},\"pad\":15,\"thickness\":20},\"type\":\"sankey\"}],                        {\"font\":{\"size\":10},\"title\":{\"text\":\"TPV flow of XYZLimited\"},\"template\":{\"data\":{\"histogram2dcontour\":[{\"type\":\"histogram2dcontour\",\"colorbar\":{\"outlinewidth\":0,\"ticks\":\"\"},\"colorscale\":[[0.0,\"#0d0887\"],[0.1111111111111111,\"#46039f\"],[0.2222222222222222,\"#7201a8\"],[0.3333333333333333,\"#9c179e\"],[0.4444444444444444,\"#bd3786\"],[0.5555555555555556,\"#d8576b\"],[0.6666666666666666,\"#ed7953\"],[0.7777777777777778,\"#fb9f3a\"],[0.8888888888888888,\"#fdca26\"],[1.0,\"#f0f921\"]]}],\"choropleth\":[{\"type\":\"choropleth\",\"colorbar\":{\"outlinewidth\":0,\"ticks\":\"\"}}],\"histogram2d\":[{\"type\":\"histogram2d\",\"colorbar\":{\"outlinewidth\":0,\"ticks\":\"\"},\"colorscale\":[[0.0,\"#0d0887\"],[0.1111111111111111,\"#46039f\"],[0.2222222222222222,\"#7201a8\"],[0.3333333333333333,\"#9c179e\"],[0.4444444444444444,\"#bd3786\"],[0.5555555555555556,\"#d8576b\"],[0.6666666666666666,\"#ed7953\"],[0.7777777777777778,\"#fb9f3a\"],[0.8888888888888888,\"#fdca26\"],[1.0,\"#f0f921\"]]}],\"heatmap\":[{\"type\":\"heatmap\",\"colorbar\":{\"outlinewidth\":0,\"ticks\":\"\"},\"colorscale\":[[0.0,\"#0d0887\"],[0.1111111111111111,\"#46039f\"],[0.2222222222222222,\"#7201a8\"],[0.3333333333333333,\"#9c179e\"],[0.4444444444444444,\"#bd3786\"],[0.5555555555555556,\"#d8576b\"],[0.6666666666666666,\"#ed7953\"],[0.7777777777777778,\"#fb9f3a\"],[0.8888888888888888,\"#fdca26\"],[1.0,\"#f0f921\"]]}],\"heatmapgl\":[{\"type\":\"heatmapgl\",\"colorbar\":{\"outlinewidth\":0,\"ticks\":\"\"},\"colorscale\":[[0.0,\"#0d0887\"],[0.1111111111111111,\"#46039f\"],[0.2222222222222222,\"#7201a8\"],[0.3333333333333333,\"#9c179e\"],[0.4444444444444444,\"#bd3786\"],[0.5555555555555556,\"#d8576b\"],[0.6666666666666666,\"#ed7953\"],[0.7777777777777778,\"#fb9f3a\"],[0.8888888888888888,\"#fdca26\"],[1.0,\"#f0f921\"]]}],\"contourcarpet\":[{\"type\":\"contourcarpet\",\"colorbar\":{\"outlinewidth\":0,\"ticks\":\"\"}}],\"contour\":[{\"type\":\"contour\",\"colorbar\":{\"outlinewidth\":0,\"ticks\":\"\"},\"colorscale\":[[0.0,\"#0d0887\"],[0.1111111111111111,\"#46039f\"],[0.2222222222222222,\"#7201a8\"],[0.3333333333333333,\"#9c179e\"],[0.4444444444444444,\"#bd3786\"],[0.5555555555555556,\"#d8576b\"],[0.6666666666666666,\"#ed7953\"],[0.7777777777777778,\"#fb9f3a\"],[0.8888888888888888,\"#fdca26\"],[1.0,\"#f0f921\"]]}],\"surface\":[{\"type\":\"surface\",\"colorbar\":{\"outlinewidth\":0,\"ticks\":\"\"},\"colorscale\":[[0.0,\"#0d0887\"],[0.1111111111111111,\"#46039f\"],[0.2222222222222222,\"#7201a8\"],[0.3333333333333333,\"#9c179e\"],[0.4444444444444444,\"#bd3786\"],[0.5555555555555556,\"#d8576b\"],[0.6666666666666666,\"#ed7953\"],[0.7777777777777778,\"#fb9f3a\"],[0.8888888888888888,\"#fdca26\"],[1.0,\"#f0f921\"]]}],\"mesh3d\":[{\"type\":\"mesh3d\",\"colorbar\":{\"outlinewidth\":0,\"ticks\":\"\"}}],\"scatter\":[{\"fillpattern\":{\"fillmode\":\"overlay\",\"size\":10,\"solidity\":0.2},\"type\":\"scatter\"}],\"parcoords\":[{\"type\":\"parcoords\",\"line\":{\"colorbar\":{\"outlinewidth\":0,\"ticks\":\"\"}}}],\"scatterpolargl\":[{\"type\":\"scatterpolargl\",\"marker\":{\"colorbar\":{\"outlinewidth\":0,\"ticks\":\"\"}}}],\"bar\":[{\"error_x\":{\"color\":\"#2a3f5f\"},\"error_y\":{\"color\":\"#2a3f5f\"},\"marker\":{\"line\":{\"color\":\"#E5ECF6\",\"width\":0.5},\"pattern\":{\"fillmode\":\"overlay\",\"size\":10,\"solidity\":0.2}},\"type\":\"bar\"}],\"scattergeo\":[{\"type\":\"scattergeo\",\"marker\":{\"colorbar\":{\"outlinewidth\":0,\"ticks\":\"\"}}}],\"scatterpolar\":[{\"type\":\"scatterpolar\",\"marker\":{\"colorbar\":{\"outlinewidth\":0,\"ticks\":\"\"}}}],\"histogram\":[{\"marker\":{\"pattern\":{\"fillmode\":\"overlay\",\"size\":10,\"solidity\":0.2}},\"type\":\"histogram\"}],\"scattergl\":[{\"type\":\"scattergl\",\"marker\":{\"colorbar\":{\"outlinewidth\":0,\"ticks\":\"\"}}}],\"scatter3d\":[{\"type\":\"scatter3d\",\"line\":{\"colorbar\":{\"outlinewidth\":0,\"ticks\":\"\"}},\"marker\":{\"colorbar\":{\"outlinewidth\":0,\"ticks\":\"\"}}}],\"scattermapbox\":[{\"type\":\"scattermapbox\",\"marker\":{\"colorbar\":{\"outlinewidth\":0,\"ticks\":\"\"}}}],\"scatterternary\":[{\"type\":\"scatterternary\",\"marker\":{\"colorbar\":{\"outlinewidth\":0,\"ticks\":\"\"}}}],\"scattercarpet\":[{\"type\":\"scattercarpet\",\"marker\":{\"colorbar\":{\"outlinewidth\":0,\"ticks\":\"\"}}}],\"carpet\":[{\"aaxis\":{\"endlinecolor\":\"#2a3f5f\",\"gridcolor\":\"white\",\"linecolor\":\"white\",\"minorgridcolor\":\"white\",\"startlinecolor\":\"#2a3f5f\"},\"baxis\":{\"endlinecolor\":\"#2a3f5f\",\"gridcolor\":\"white\",\"linecolor\":\"white\",\"minorgridcolor\":\"white\",\"startlinecolor\":\"#2a3f5f\"},\"type\":\"carpet\"}],\"table\":[{\"cells\":{\"fill\":{\"color\":\"#EBF0F8\"},\"line\":{\"color\":\"white\"}},\"header\":{\"fill\":{\"color\":\"#C8D4E3\"},\"line\":{\"color\":\"white\"}},\"type\":\"table\"}],\"barpolar\":[{\"marker\":{\"line\":{\"color\":\"#E5ECF6\",\"width\":0.5},\"pattern\":{\"fillmode\":\"overlay\",\"size\":10,\"solidity\":0.2}},\"type\":\"barpolar\"}],\"pie\":[{\"automargin\":true,\"type\":\"pie\"}]},\"layout\":{\"autotypenumbers\":\"strict\",\"colorway\":[\"#636efa\",\"#EF553B\",\"#00cc96\",\"#ab63fa\",\"#FFA15A\",\"#19d3f3\",\"#FF6692\",\"#B6E880\",\"#FF97FF\",\"#FECB52\"],\"font\":{\"color\":\"#2a3f5f\"},\"hovermode\":\"closest\",\"hoverlabel\":{\"align\":\"left\"},\"paper_bgcolor\":\"white\",\"plot_bgcolor\":\"#E5ECF6\",\"polar\":{\"bgcolor\":\"#E5ECF6\",\"angularaxis\":{\"gridcolor\":\"white\",\"linecolor\":\"white\",\"ticks\":\"\"},\"radialaxis\":{\"gridcolor\":\"white\",\"linecolor\":\"white\",\"ticks\":\"\"}},\"ternary\":{\"bgcolor\":\"#E5ECF6\",\"aaxis\":{\"gridcolor\":\"white\",\"linecolor\":\"white\",\"ticks\":\"\"},\"baxis\":{\"gridcolor\":\"white\",\"linecolor\":\"white\",\"ticks\":\"\"},\"caxis\":{\"gridcolor\":\"white\",\"linecolor\":\"white\",\"ticks\":\"\"}},\"coloraxis\":{\"colorbar\":{\"outlinewidth\":0,\"ticks\":\"\"}},\"colorscale\":{\"sequential\":[[0.0,\"#0d0887\"],[0.1111111111111111,\"#46039f\"],[0.2222222222222222,\"#7201a8\"],[0.3333333333333333,\"#9c179e\"],[0.4444444444444444,\"#bd3786\"],[0.5555555555555556,\"#d8576b\"],[0.6666666666666666,\"#ed7953\"],[0.7777777777777778,\"#fb9f3a\"],[0.8888888888888888,\"#fdca26\"],[1.0,\"#f0f921\"]],\"sequentialminus\":[[0.0,\"#0d0887\"],[0.1111111111111111,\"#46039f\"],[0.2222222222222222,\"#7201a8\"],[0.3333333333333333,\"#9c179e\"],[0.4444444444444444,\"#bd3786\"],[0.5555555555555556,\"#d8576b\"],[0.6666666666666666,\"#ed7953\"],[0.7777777777777778,\"#fb9f3a\"],[0.8888888888888888,\"#fdca26\"],[1.0,\"#f0f921\"]],\"diverging\":[[0,\"#8e0152\"],[0.1,\"#c51b7d\"],[0.2,\"#de77ae\"],[0.3,\"#f1b6da\"],[0.4,\"#fde0ef\"],[0.5,\"#f7f7f7\"],[0.6,\"#e6f5d0\"],[0.7,\"#b8e186\"],[0.8,\"#7fbc41\"],[0.9,\"#4d9221\"],[1,\"#276419\"]]},\"xaxis\":{\"gridcolor\":\"white\",\"linecolor\":\"white\",\"ticks\":\"\",\"title\":{\"standoff\":15},\"zerolinecolor\":\"white\",\"automargin\":true,\"zerolinewidth\":2},\"yaxis\":{\"gridcolor\":\"white\",\"linecolor\":\"white\",\"ticks\":\"\",\"title\":{\"standoff\":15},\"zerolinecolor\":\"white\",\"automargin\":true,\"zerolinewidth\":2},\"scene\":{\"xaxis\":{\"backgroundcolor\":\"#E5ECF6\",\"gridcolor\":\"white\",\"linecolor\":\"white\",\"showbackground\":true,\"ticks\":\"\",\"zerolinecolor\":\"white\",\"gridwidth\":2},\"yaxis\":{\"backgroundcolor\":\"#E5ECF6\",\"gridcolor\":\"white\",\"linecolor\":\"white\",\"showbackground\":true,\"ticks\":\"\",\"zerolinecolor\":\"white\",\"gridwidth\":2},\"zaxis\":{\"backgroundcolor\":\"#E5ECF6\",\"gridcolor\":\"white\",\"linecolor\":\"white\",\"showbackground\":true,\"ticks\":\"\",\"zerolinecolor\":\"white\",\"gridwidth\":2}},\"shapedefaults\":{\"line\":{\"color\":\"#2a3f5f\"}},\"annotationdefaults\":{\"arrowcolor\":\"#2a3f5f\",\"arrowhead\":0,\"arrowwidth\":1},\"geo\":{\"bgcolor\":\"white\",\"landcolor\":\"#E5ECF6\",\"subunitcolor\":\"white\",\"showland\":true,\"showlakes\":true,\"lakecolor\":\"white\"},\"title\":{\"x\":0.05},\"mapbox\":{\"style\":\"light\"}}}},                        {\"responsive\": true}                    ).then(function(){\n",
       "                            \n",
       "var gd = document.getElementById('a434ded7-632e-4fc8-b88b-98460e9d0b1f');\n",
       "var x = new MutationObserver(function (mutations, observer) {{\n",
       "        var display = window.getComputedStyle(gd).display;\n",
       "        if (!display || display === 'none') {{\n",
       "            console.log([gd, 'removed!']);\n",
       "            Plotly.purge(gd);\n",
       "            observer.disconnect();\n",
       "        }}\n",
       "}});\n",
       "\n",
       "// Listen for the removal of the full notebook cells\n",
       "var notebookContainer = gd.closest('#notebook-container');\n",
       "if (notebookContainer) {{\n",
       "    x.observe(notebookContainer, {childList: true});\n",
       "}}\n",
       "\n",
       "// Listen for the clearing of the current output cell\n",
       "var outputEl = gd.closest('.output');\n",
       "if (outputEl) {{\n",
       "    x.observe(outputEl, {childList: true});\n",
       "}}\n",
       "\n",
       "                        })                };                });            </script>        </div>"
      ]
     },
     "metadata": {},
     "output_type": "display_data"
    }
   ],
   "source": [
    "# Plot Sankey\n",
    "\n",
    "# Initiale df filter\n",
    "company_dd = 'ABCLimited' \n",
    "field1_dd = 'threedattempt'\n",
    "field2_dd = 'merchant'\n",
    "field3_dd = 'journaltype'\n",
    "\n",
    "df_view = df2[df2['company'] == company_dd]\n",
    "\n",
    "# Widgets\n",
    "company_dd = widgets.Dropdown(options= companies, value= companies[0], description='Select Company',\n",
    "                              style= {'description_width': 'initial'})\n",
    "field1_dd = widgets.Dropdown(options= fieldtypes, value= 'threedattempt', description='Select Field 1',\n",
    "                              style= {'description_width': 'initial'})\n",
    "field2_dd = widgets.Dropdown(options= fieldtypes, value= 'merchant', description='Select Field 2',\n",
    "                              style= {'description_width': 'initial'})\n",
    "field3_dd = widgets.Dropdown(options= fieldtypes, value= 'journaltype', description='Select Field 3',\n",
    "                              style= {'description_width': 'initial'})\n",
    "\n",
    "def callback(__):\n",
    "    clear_output(wait=True)\n",
    "    main_box.children = [setup_ui, button_run]\n",
    "    display(main_box)\n",
    "    \n",
    "    # Get Dataframe and plot\n",
    "    df_view = df2[df2['company'] == company_dd.value]\n",
    "    txn_flow = genSankey(df_view, cat_cols = [field1_dd.value, field2_dd.value, field3_dd.value], \n",
    "                        value_cols='amount_usd', title=f'TPV flow of {company_dd.value}')\n",
    "    \n",
    "    return txn_flow.show()\n",
    "\n",
    "# Show\n",
    "setup_ui = widgets.VBox([company_dd, field1_dd, field2_dd, field3_dd])\n",
    "display(setup_ui)\n",
    "\n",
    "button_run = widgets.Button(description='Run')\n",
    "main_box = widgets.VBox([button_run])\n",
    "button_run.on_click(callback)\n",
    "\n",
    "display(main_box)"
   ]
  },
  {
   "cell_type": "markdown",
   "metadata": {},
   "source": [
    "## Merchant Performance Overview"
   ]
  },
  {
   "cell_type": "code",
   "execution_count": 139,
   "metadata": {},
   "outputs": [],
   "source": [
    "def plot_merchant_overview(df, company_dd, field_dd, target_dd):\n",
    "    df_comp = df[df['company'] == company_dd]\n",
    "    if target_dd != 'All':\n",
    "        df_comp = df_comp[df_comp['journalcat'] == target_dd]\n",
    "\n",
    "    overview_df = df_comp.groupby('date')['amount_usd'].mean().reset_index()\n",
    "    field_df = df_comp.groupby(field_dd)['amount_usd'].mean().reset_index()\n",
    "\n",
    "    # Time series\n",
    "    fig = make_subplots(rows=2, cols=2,specs=[[{}, {'type':'domain'}], [{}, {}]],\n",
    "                            subplot_titles=['Avg Revenue Across Time',\n",
    "                                            f'Revenue Distribution by {field_dd}',\n",
    "                                           'Intraday Revenue', 'Daily Revenue'])\n",
    "\n",
    "    fig.add_trace(go.Scatter(x=overview_df['date'], y=overview_df['amount_usd']), row=1, col=1)\n",
    "    fig.add_trace(go.Pie(labels=field_df[field_dd], values=field_df['amount_usd']),row=1, col=2)\n",
    "\n",
    "    for merc in np.unique(df_comp[field_dd]):\n",
    "        temp_df = df_comp[df_comp[field_dd] == merc].groupby(['timeofday'])['amount_usd'].mean().reset_index()\n",
    "        fig.add_trace(go.Bar(x=temp_df['timeofday'],\n",
    "                             y=temp_df['amount_usd'], \n",
    "                             name = str(merc)),\n",
    "                                row=2, col=1)\n",
    "        fig.update_xaxes(categoryorder='array', categoryarray= ['day','afternoon','night','latenight'], row=2, col=1)\n",
    "\n",
    "        temp_df = df_comp[df_comp[field_dd] == merc].groupby(['day'])['amount_usd'].mean().reset_index()\n",
    "        fig.add_trace(go.Bar(x=temp_df['day'],\n",
    "                             y=temp_df['amount_usd'], \n",
    "                             name = str(merc)),\n",
    "                            row=2, col=2)\n",
    "        fig.update_xaxes(categoryorder='array', categoryarray= ['Monday', 'Tuesday', 'Wednesday', 'Thursday', 'Friday', 'Saturday', 'Sunday']\n",
    "                         , row=2, col=2)\n",
    "\n",
    "\n",
    "    fig.update_layout(barmode='relative', title_text= f\"{company_dd} for {target_dd} Transactions\", showlegend=False)\n",
    "    return fig\n",
    "\n",
    "## To Test\n",
    "# company_dd = companies[2]\n",
    "# field_dd = 'amount_bin' #fieldtypes[-2]\n",
    "# target_dd = journals[3]\n",
    "# plot_merchant_overview(df2, company_dd, field_dd, target_dd)"
   ]
  },
  {
   "cell_type": "code",
   "execution_count": 140,
   "metadata": {},
   "outputs": [
    {
     "data": {
      "application/vnd.jupyter.widget-view+json": {
       "model_id": "3d37814df7bd4dc08eb8e585377f1212",
       "version_major": 2,
       "version_minor": 0
      },
      "text/plain": [
       "VBox(children=(VBox(children=(Dropdown(description='Select Company', index=2, options=('ABCLimited', 'DEFLimit…"
      ]
     },
     "metadata": {},
     "output_type": "display_data"
    },
    {
     "data": {
      "application/vnd.plotly.v1+json": {
       "config": {
        "plotlyServerURL": "https://plot.ly"
       },
       "data": [
        {
         "type": "scatter",
         "x": [
          "2017-10-01",
          "2017-10-02",
          "2017-10-03",
          "2017-10-04",
          "2017-10-05",
          "2017-10-06",
          "2017-10-07",
          "2017-10-08",
          "2017-10-09",
          "2017-10-10",
          "2017-10-11",
          "2017-10-12",
          "2017-10-13",
          "2017-10-14",
          "2017-10-15",
          "2017-10-16",
          "2017-10-17",
          "2017-10-18",
          "2017-10-19",
          "2017-10-20",
          "2017-10-21",
          "2017-10-22",
          "2017-10-23",
          "2017-10-24",
          "2017-10-25",
          "2017-10-26",
          "2017-10-27",
          "2017-10-28",
          "2017-10-29",
          "2017-10-30",
          "2017-10-31"
         ],
         "xaxis": "x",
         "y": [
          814.7992993691194,
          791.4154695685145,
          740.7245884704365,
          768.1448182906829,
          698.2495849182196,
          791.0020736402398,
          761.2013244921807,
          824.7102819966831,
          708.1150040806775,
          786.2910453807856,
          768.4964026537892,
          773.0602172213634,
          830.050177131127,
          797.73559679982,
          726.1550745725463,
          753.6570134278365,
          740.1844458111735,
          687.5610016782975,
          657.7745078422721,
          722.8830283295158,
          721.391137665117,
          838.6981040291723,
          770.5616868288548,
          807.0295014526478,
          717.5497642309607,
          779.1368658914513,
          779.3477817487573,
          764.8071747066732,
          747.8577988478924,
          741.4640046705401,
          733.8988605650595
         ],
         "yaxis": "y"
        },
        {
         "domain": {
          "x": [
           0.55,
           1
          ],
          "y": [
           0.625,
           1
          ]
         },
         "labels": [
          "XYZ_IDR",
          "XYZ_MYR",
          "XYZ_SGD",
          "XYZ_THB"
         ],
         "type": "pie",
         "values": [
          1.8028759986693725,
          407.7718250137313,
          2208.3264783422565,
          340.7769426900888
         ]
        },
        {
         "name": "XYZ_IDR",
         "type": "bar",
         "x": [
          "afternoon",
          "day",
          "latenight",
          "night"
         ],
         "xaxis": "x2",
         "y": [
          1.903289351396767,
          1.5381062835469066,
          2.715627422078561,
          1.8206590218389898
         ],
         "yaxis": "y2"
        },
        {
         "name": "XYZ_IDR",
         "type": "bar",
         "x": [
          "Friday",
          "Monday",
          "Saturday",
          "Sunday",
          "Thursday",
          "Tuesday",
          "Wednesday"
         ],
         "xaxis": "x3",
         "y": [
          1.7427799887261195,
          1.7451941646086464,
          2.0142852619699614,
          2.038920998765572,
          1.7294615442175585,
          1.6957160245912408,
          1.6730790170995749
         ],
         "yaxis": "y3"
        },
        {
         "name": "XYZ_MYR",
         "type": "bar",
         "x": [
          "afternoon",
          "day",
          "latenight",
          "night"
         ],
         "xaxis": "x2",
         "y": [
          369.64483770581313,
          413.9890001459284,
          572.32072689373,
          425.34181950465376
         ],
         "yaxis": "y2"
        },
        {
         "name": "XYZ_MYR",
         "type": "bar",
         "x": [
          "Friday",
          "Monday",
          "Saturday",
          "Sunday",
          "Thursday",
          "Tuesday",
          "Wednesday"
         ],
         "xaxis": "x3",
         "y": [
          408.18327846820847,
          423.00565190051327,
          390.79983076822595,
          450.91547596857237,
          383.8278042465611,
          396.48818190295486,
          394.21967638371746
         ],
         "yaxis": "y3"
        },
        {
         "name": "XYZ_SGD",
         "type": "bar",
         "x": [
          "afternoon",
          "day",
          "latenight",
          "night"
         ],
         "xaxis": "x2",
         "y": [
          2137.9760038417644,
          2252.3201222748175,
          2172.221682293833,
          2255.054800599865
         ],
         "yaxis": "y2"
        },
        {
         "name": "XYZ_SGD",
         "type": "bar",
         "x": [
          "Friday",
          "Monday",
          "Saturday",
          "Sunday",
          "Thursday",
          "Tuesday",
          "Wednesday"
         ],
         "xaxis": "x3",
         "y": [
          2199.890299352629,
          2205.6670301547388,
          2115.2696961814268,
          2272.975897971503,
          2161.7481221945022,
          2301.665157837212,
          2167.6700535723103
         ],
         "yaxis": "y3"
        },
        {
         "name": "XYZ_THB",
         "type": "bar",
         "x": [
          "afternoon",
          "day",
          "latenight",
          "night"
         ],
         "xaxis": "x2",
         "y": [
          334.9014597723238,
          336.6814944945831,
          425.0451679783812,
          330.6713352829636
         ],
         "yaxis": "y2"
        },
        {
         "name": "XYZ_THB",
         "type": "bar",
         "x": [
          "Friday",
          "Monday",
          "Saturday",
          "Sunday",
          "Thursday",
          "Tuesday",
          "Wednesday"
         ],
         "xaxis": "x3",
         "y": [
          337.41228796053844,
          326.4460741497529,
          358.5215101700292,
          366.94331525932415,
          331.86214391112134,
          324.984485614384,
          343.2516622577316
         ],
         "yaxis": "y3"
        }
       ],
       "layout": {
        "annotations": [
         {
          "font": {
           "size": 16
          },
          "showarrow": false,
          "text": "Avg Revenue Across Time",
          "x": 0.225,
          "xanchor": "center",
          "xref": "paper",
          "y": 1,
          "yanchor": "bottom",
          "yref": "paper"
         },
         {
          "font": {
           "size": 16
          },
          "showarrow": false,
          "text": "Revenue Distribution by merchant",
          "x": 0.775,
          "xanchor": "center",
          "xref": "paper",
          "y": 1,
          "yanchor": "bottom",
          "yref": "paper"
         },
         {
          "font": {
           "size": 16
          },
          "showarrow": false,
          "text": "Intraday Revenue",
          "x": 0.225,
          "xanchor": "center",
          "xref": "paper",
          "y": 0.375,
          "yanchor": "bottom",
          "yref": "paper"
         },
         {
          "font": {
           "size": 16
          },
          "showarrow": false,
          "text": "Daily Revenue",
          "x": 0.775,
          "xanchor": "center",
          "xref": "paper",
          "y": 0.375,
          "yanchor": "bottom",
          "yref": "paper"
         }
        ],
        "barmode": "relative",
        "showlegend": false,
        "template": {
         "data": {
          "bar": [
           {
            "error_x": {
             "color": "#2a3f5f"
            },
            "error_y": {
             "color": "#2a3f5f"
            },
            "marker": {
             "line": {
              "color": "#E5ECF6",
              "width": 0.5
             },
             "pattern": {
              "fillmode": "overlay",
              "size": 10,
              "solidity": 0.2
             }
            },
            "type": "bar"
           }
          ],
          "barpolar": [
           {
            "marker": {
             "line": {
              "color": "#E5ECF6",
              "width": 0.5
             },
             "pattern": {
              "fillmode": "overlay",
              "size": 10,
              "solidity": 0.2
             }
            },
            "type": "barpolar"
           }
          ],
          "carpet": [
           {
            "aaxis": {
             "endlinecolor": "#2a3f5f",
             "gridcolor": "white",
             "linecolor": "white",
             "minorgridcolor": "white",
             "startlinecolor": "#2a3f5f"
            },
            "baxis": {
             "endlinecolor": "#2a3f5f",
             "gridcolor": "white",
             "linecolor": "white",
             "minorgridcolor": "white",
             "startlinecolor": "#2a3f5f"
            },
            "type": "carpet"
           }
          ],
          "choropleth": [
           {
            "colorbar": {
             "outlinewidth": 0,
             "ticks": ""
            },
            "type": "choropleth"
           }
          ],
          "contour": [
           {
            "colorbar": {
             "outlinewidth": 0,
             "ticks": ""
            },
            "colorscale": [
             [
              0,
              "#0d0887"
             ],
             [
              0.1111111111111111,
              "#46039f"
             ],
             [
              0.2222222222222222,
              "#7201a8"
             ],
             [
              0.3333333333333333,
              "#9c179e"
             ],
             [
              0.4444444444444444,
              "#bd3786"
             ],
             [
              0.5555555555555556,
              "#d8576b"
             ],
             [
              0.6666666666666666,
              "#ed7953"
             ],
             [
              0.7777777777777778,
              "#fb9f3a"
             ],
             [
              0.8888888888888888,
              "#fdca26"
             ],
             [
              1,
              "#f0f921"
             ]
            ],
            "type": "contour"
           }
          ],
          "contourcarpet": [
           {
            "colorbar": {
             "outlinewidth": 0,
             "ticks": ""
            },
            "type": "contourcarpet"
           }
          ],
          "heatmap": [
           {
            "colorbar": {
             "outlinewidth": 0,
             "ticks": ""
            },
            "colorscale": [
             [
              0,
              "#0d0887"
             ],
             [
              0.1111111111111111,
              "#46039f"
             ],
             [
              0.2222222222222222,
              "#7201a8"
             ],
             [
              0.3333333333333333,
              "#9c179e"
             ],
             [
              0.4444444444444444,
              "#bd3786"
             ],
             [
              0.5555555555555556,
              "#d8576b"
             ],
             [
              0.6666666666666666,
              "#ed7953"
             ],
             [
              0.7777777777777778,
              "#fb9f3a"
             ],
             [
              0.8888888888888888,
              "#fdca26"
             ],
             [
              1,
              "#f0f921"
             ]
            ],
            "type": "heatmap"
           }
          ],
          "heatmapgl": [
           {
            "colorbar": {
             "outlinewidth": 0,
             "ticks": ""
            },
            "colorscale": [
             [
              0,
              "#0d0887"
             ],
             [
              0.1111111111111111,
              "#46039f"
             ],
             [
              0.2222222222222222,
              "#7201a8"
             ],
             [
              0.3333333333333333,
              "#9c179e"
             ],
             [
              0.4444444444444444,
              "#bd3786"
             ],
             [
              0.5555555555555556,
              "#d8576b"
             ],
             [
              0.6666666666666666,
              "#ed7953"
             ],
             [
              0.7777777777777778,
              "#fb9f3a"
             ],
             [
              0.8888888888888888,
              "#fdca26"
             ],
             [
              1,
              "#f0f921"
             ]
            ],
            "type": "heatmapgl"
           }
          ],
          "histogram": [
           {
            "marker": {
             "pattern": {
              "fillmode": "overlay",
              "size": 10,
              "solidity": 0.2
             }
            },
            "type": "histogram"
           }
          ],
          "histogram2d": [
           {
            "colorbar": {
             "outlinewidth": 0,
             "ticks": ""
            },
            "colorscale": [
             [
              0,
              "#0d0887"
             ],
             [
              0.1111111111111111,
              "#46039f"
             ],
             [
              0.2222222222222222,
              "#7201a8"
             ],
             [
              0.3333333333333333,
              "#9c179e"
             ],
             [
              0.4444444444444444,
              "#bd3786"
             ],
             [
              0.5555555555555556,
              "#d8576b"
             ],
             [
              0.6666666666666666,
              "#ed7953"
             ],
             [
              0.7777777777777778,
              "#fb9f3a"
             ],
             [
              0.8888888888888888,
              "#fdca26"
             ],
             [
              1,
              "#f0f921"
             ]
            ],
            "type": "histogram2d"
           }
          ],
          "histogram2dcontour": [
           {
            "colorbar": {
             "outlinewidth": 0,
             "ticks": ""
            },
            "colorscale": [
             [
              0,
              "#0d0887"
             ],
             [
              0.1111111111111111,
              "#46039f"
             ],
             [
              0.2222222222222222,
              "#7201a8"
             ],
             [
              0.3333333333333333,
              "#9c179e"
             ],
             [
              0.4444444444444444,
              "#bd3786"
             ],
             [
              0.5555555555555556,
              "#d8576b"
             ],
             [
              0.6666666666666666,
              "#ed7953"
             ],
             [
              0.7777777777777778,
              "#fb9f3a"
             ],
             [
              0.8888888888888888,
              "#fdca26"
             ],
             [
              1,
              "#f0f921"
             ]
            ],
            "type": "histogram2dcontour"
           }
          ],
          "mesh3d": [
           {
            "colorbar": {
             "outlinewidth": 0,
             "ticks": ""
            },
            "type": "mesh3d"
           }
          ],
          "parcoords": [
           {
            "line": {
             "colorbar": {
              "outlinewidth": 0,
              "ticks": ""
             }
            },
            "type": "parcoords"
           }
          ],
          "pie": [
           {
            "automargin": true,
            "type": "pie"
           }
          ],
          "scatter": [
           {
            "fillpattern": {
             "fillmode": "overlay",
             "size": 10,
             "solidity": 0.2
            },
            "type": "scatter"
           }
          ],
          "scatter3d": [
           {
            "line": {
             "colorbar": {
              "outlinewidth": 0,
              "ticks": ""
             }
            },
            "marker": {
             "colorbar": {
              "outlinewidth": 0,
              "ticks": ""
             }
            },
            "type": "scatter3d"
           }
          ],
          "scattercarpet": [
           {
            "marker": {
             "colorbar": {
              "outlinewidth": 0,
              "ticks": ""
             }
            },
            "type": "scattercarpet"
           }
          ],
          "scattergeo": [
           {
            "marker": {
             "colorbar": {
              "outlinewidth": 0,
              "ticks": ""
             }
            },
            "type": "scattergeo"
           }
          ],
          "scattergl": [
           {
            "marker": {
             "colorbar": {
              "outlinewidth": 0,
              "ticks": ""
             }
            },
            "type": "scattergl"
           }
          ],
          "scattermapbox": [
           {
            "marker": {
             "colorbar": {
              "outlinewidth": 0,
              "ticks": ""
             }
            },
            "type": "scattermapbox"
           }
          ],
          "scatterpolar": [
           {
            "marker": {
             "colorbar": {
              "outlinewidth": 0,
              "ticks": ""
             }
            },
            "type": "scatterpolar"
           }
          ],
          "scatterpolargl": [
           {
            "marker": {
             "colorbar": {
              "outlinewidth": 0,
              "ticks": ""
             }
            },
            "type": "scatterpolargl"
           }
          ],
          "scatterternary": [
           {
            "marker": {
             "colorbar": {
              "outlinewidth": 0,
              "ticks": ""
             }
            },
            "type": "scatterternary"
           }
          ],
          "surface": [
           {
            "colorbar": {
             "outlinewidth": 0,
             "ticks": ""
            },
            "colorscale": [
             [
              0,
              "#0d0887"
             ],
             [
              0.1111111111111111,
              "#46039f"
             ],
             [
              0.2222222222222222,
              "#7201a8"
             ],
             [
              0.3333333333333333,
              "#9c179e"
             ],
             [
              0.4444444444444444,
              "#bd3786"
             ],
             [
              0.5555555555555556,
              "#d8576b"
             ],
             [
              0.6666666666666666,
              "#ed7953"
             ],
             [
              0.7777777777777778,
              "#fb9f3a"
             ],
             [
              0.8888888888888888,
              "#fdca26"
             ],
             [
              1,
              "#f0f921"
             ]
            ],
            "type": "surface"
           }
          ],
          "table": [
           {
            "cells": {
             "fill": {
              "color": "#EBF0F8"
             },
             "line": {
              "color": "white"
             }
            },
            "header": {
             "fill": {
              "color": "#C8D4E3"
             },
             "line": {
              "color": "white"
             }
            },
            "type": "table"
           }
          ]
         },
         "layout": {
          "annotationdefaults": {
           "arrowcolor": "#2a3f5f",
           "arrowhead": 0,
           "arrowwidth": 1
          },
          "autotypenumbers": "strict",
          "coloraxis": {
           "colorbar": {
            "outlinewidth": 0,
            "ticks": ""
           }
          },
          "colorscale": {
           "diverging": [
            [
             0,
             "#8e0152"
            ],
            [
             0.1,
             "#c51b7d"
            ],
            [
             0.2,
             "#de77ae"
            ],
            [
             0.3,
             "#f1b6da"
            ],
            [
             0.4,
             "#fde0ef"
            ],
            [
             0.5,
             "#f7f7f7"
            ],
            [
             0.6,
             "#e6f5d0"
            ],
            [
             0.7,
             "#b8e186"
            ],
            [
             0.8,
             "#7fbc41"
            ],
            [
             0.9,
             "#4d9221"
            ],
            [
             1,
             "#276419"
            ]
           ],
           "sequential": [
            [
             0,
             "#0d0887"
            ],
            [
             0.1111111111111111,
             "#46039f"
            ],
            [
             0.2222222222222222,
             "#7201a8"
            ],
            [
             0.3333333333333333,
             "#9c179e"
            ],
            [
             0.4444444444444444,
             "#bd3786"
            ],
            [
             0.5555555555555556,
             "#d8576b"
            ],
            [
             0.6666666666666666,
             "#ed7953"
            ],
            [
             0.7777777777777778,
             "#fb9f3a"
            ],
            [
             0.8888888888888888,
             "#fdca26"
            ],
            [
             1,
             "#f0f921"
            ]
           ],
           "sequentialminus": [
            [
             0,
             "#0d0887"
            ],
            [
             0.1111111111111111,
             "#46039f"
            ],
            [
             0.2222222222222222,
             "#7201a8"
            ],
            [
             0.3333333333333333,
             "#9c179e"
            ],
            [
             0.4444444444444444,
             "#bd3786"
            ],
            [
             0.5555555555555556,
             "#d8576b"
            ],
            [
             0.6666666666666666,
             "#ed7953"
            ],
            [
             0.7777777777777778,
             "#fb9f3a"
            ],
            [
             0.8888888888888888,
             "#fdca26"
            ],
            [
             1,
             "#f0f921"
            ]
           ]
          },
          "colorway": [
           "#636efa",
           "#EF553B",
           "#00cc96",
           "#ab63fa",
           "#FFA15A",
           "#19d3f3",
           "#FF6692",
           "#B6E880",
           "#FF97FF",
           "#FECB52"
          ],
          "font": {
           "color": "#2a3f5f"
          },
          "geo": {
           "bgcolor": "white",
           "lakecolor": "white",
           "landcolor": "#E5ECF6",
           "showlakes": true,
           "showland": true,
           "subunitcolor": "white"
          },
          "hoverlabel": {
           "align": "left"
          },
          "hovermode": "closest",
          "mapbox": {
           "style": "light"
          },
          "paper_bgcolor": "white",
          "plot_bgcolor": "#E5ECF6",
          "polar": {
           "angularaxis": {
            "gridcolor": "white",
            "linecolor": "white",
            "ticks": ""
           },
           "bgcolor": "#E5ECF6",
           "radialaxis": {
            "gridcolor": "white",
            "linecolor": "white",
            "ticks": ""
           }
          },
          "scene": {
           "xaxis": {
            "backgroundcolor": "#E5ECF6",
            "gridcolor": "white",
            "gridwidth": 2,
            "linecolor": "white",
            "showbackground": true,
            "ticks": "",
            "zerolinecolor": "white"
           },
           "yaxis": {
            "backgroundcolor": "#E5ECF6",
            "gridcolor": "white",
            "gridwidth": 2,
            "linecolor": "white",
            "showbackground": true,
            "ticks": "",
            "zerolinecolor": "white"
           },
           "zaxis": {
            "backgroundcolor": "#E5ECF6",
            "gridcolor": "white",
            "gridwidth": 2,
            "linecolor": "white",
            "showbackground": true,
            "ticks": "",
            "zerolinecolor": "white"
           }
          },
          "shapedefaults": {
           "line": {
            "color": "#2a3f5f"
           }
          },
          "ternary": {
           "aaxis": {
            "gridcolor": "white",
            "linecolor": "white",
            "ticks": ""
           },
           "baxis": {
            "gridcolor": "white",
            "linecolor": "white",
            "ticks": ""
           },
           "bgcolor": "#E5ECF6",
           "caxis": {
            "gridcolor": "white",
            "linecolor": "white",
            "ticks": ""
           }
          },
          "title": {
           "x": 0.05
          },
          "xaxis": {
           "automargin": true,
           "gridcolor": "white",
           "linecolor": "white",
           "ticks": "",
           "title": {
            "standoff": 15
           },
           "zerolinecolor": "white",
           "zerolinewidth": 2
          },
          "yaxis": {
           "automargin": true,
           "gridcolor": "white",
           "linecolor": "white",
           "ticks": "",
           "title": {
            "standoff": 15
           },
           "zerolinecolor": "white",
           "zerolinewidth": 2
          }
         }
        },
        "title": {
         "text": "XYZLimited for captured Transactions"
        },
        "xaxis": {
         "anchor": "y",
         "domain": [
          0,
          0.45
         ]
        },
        "xaxis2": {
         "anchor": "y2",
         "categoryarray": [
          "day",
          "afternoon",
          "night",
          "latenight"
         ],
         "categoryorder": "array",
         "domain": [
          0,
          0.45
         ]
        },
        "xaxis3": {
         "anchor": "y3",
         "categoryarray": [
          "Monday",
          "Tuesday",
          "Wednesday",
          "Thursday",
          "Friday",
          "Saturday",
          "Sunday"
         ],
         "categoryorder": "array",
         "domain": [
          0.55,
          1
         ]
        },
        "yaxis": {
         "anchor": "x",
         "domain": [
          0.625,
          1
         ]
        },
        "yaxis2": {
         "anchor": "x2",
         "domain": [
          0,
          0.375
         ]
        },
        "yaxis3": {
         "anchor": "x3",
         "domain": [
          0,
          0.375
         ]
        }
       }
      },
      "text/html": [
       "<div>                            <div id=\"dc28be1d-47a8-44d4-a600-7fccaa4f3aed\" class=\"plotly-graph-div\" style=\"height:525px; width:100%;\"></div>            <script type=\"text/javascript\">                require([\"plotly\"], function(Plotly) {                    window.PLOTLYENV=window.PLOTLYENV || {};                                    if (document.getElementById(\"dc28be1d-47a8-44d4-a600-7fccaa4f3aed\")) {                    Plotly.newPlot(                        \"dc28be1d-47a8-44d4-a600-7fccaa4f3aed\",                        [{\"x\":[\"2017-10-01\",\"2017-10-02\",\"2017-10-03\",\"2017-10-04\",\"2017-10-05\",\"2017-10-06\",\"2017-10-07\",\"2017-10-08\",\"2017-10-09\",\"2017-10-10\",\"2017-10-11\",\"2017-10-12\",\"2017-10-13\",\"2017-10-14\",\"2017-10-15\",\"2017-10-16\",\"2017-10-17\",\"2017-10-18\",\"2017-10-19\",\"2017-10-20\",\"2017-10-21\",\"2017-10-22\",\"2017-10-23\",\"2017-10-24\",\"2017-10-25\",\"2017-10-26\",\"2017-10-27\",\"2017-10-28\",\"2017-10-29\",\"2017-10-30\",\"2017-10-31\"],\"y\":[814.7992993691194,791.4154695685145,740.7245884704365,768.1448182906829,698.2495849182196,791.0020736402398,761.2013244921807,824.7102819966831,708.1150040806775,786.2910453807856,768.4964026537892,773.0602172213634,830.050177131127,797.73559679982,726.1550745725463,753.6570134278365,740.1844458111735,687.5610016782975,657.7745078422721,722.8830283295158,721.391137665117,838.6981040291723,770.5616868288548,807.0295014526478,717.5497642309607,779.1368658914513,779.3477817487573,764.8071747066732,747.8577988478924,741.4640046705401,733.8988605650595],\"type\":\"scatter\",\"xaxis\":\"x\",\"yaxis\":\"y\"},{\"labels\":[\"XYZ_IDR\",\"XYZ_MYR\",\"XYZ_SGD\",\"XYZ_THB\"],\"values\":[1.8028759986693725,407.7718250137313,2208.3264783422565,340.7769426900888],\"type\":\"pie\",\"domain\":{\"x\":[0.55,1.0],\"y\":[0.625,1.0]}},{\"name\":\"XYZ_IDR\",\"x\":[\"afternoon\",\"day\",\"latenight\",\"night\"],\"y\":[1.903289351396767,1.5381062835469066,2.715627422078561,1.8206590218389898],\"type\":\"bar\",\"xaxis\":\"x2\",\"yaxis\":\"y2\"},{\"name\":\"XYZ_IDR\",\"x\":[\"Friday\",\"Monday\",\"Saturday\",\"Sunday\",\"Thursday\",\"Tuesday\",\"Wednesday\"],\"y\":[1.7427799887261195,1.7451941646086464,2.0142852619699614,2.038920998765572,1.7294615442175585,1.6957160245912408,1.6730790170995749],\"type\":\"bar\",\"xaxis\":\"x3\",\"yaxis\":\"y3\"},{\"name\":\"XYZ_MYR\",\"x\":[\"afternoon\",\"day\",\"latenight\",\"night\"],\"y\":[369.64483770581313,413.9890001459284,572.32072689373,425.34181950465376],\"type\":\"bar\",\"xaxis\":\"x2\",\"yaxis\":\"y2\"},{\"name\":\"XYZ_MYR\",\"x\":[\"Friday\",\"Monday\",\"Saturday\",\"Sunday\",\"Thursday\",\"Tuesday\",\"Wednesday\"],\"y\":[408.18327846820847,423.00565190051327,390.79983076822595,450.91547596857237,383.8278042465611,396.48818190295486,394.21967638371746],\"type\":\"bar\",\"xaxis\":\"x3\",\"yaxis\":\"y3\"},{\"name\":\"XYZ_SGD\",\"x\":[\"afternoon\",\"day\",\"latenight\",\"night\"],\"y\":[2137.9760038417644,2252.3201222748175,2172.221682293833,2255.054800599865],\"type\":\"bar\",\"xaxis\":\"x2\",\"yaxis\":\"y2\"},{\"name\":\"XYZ_SGD\",\"x\":[\"Friday\",\"Monday\",\"Saturday\",\"Sunday\",\"Thursday\",\"Tuesday\",\"Wednesday\"],\"y\":[2199.890299352629,2205.6670301547388,2115.2696961814268,2272.975897971503,2161.7481221945022,2301.665157837212,2167.6700535723103],\"type\":\"bar\",\"xaxis\":\"x3\",\"yaxis\":\"y3\"},{\"name\":\"XYZ_THB\",\"x\":[\"afternoon\",\"day\",\"latenight\",\"night\"],\"y\":[334.9014597723238,336.6814944945831,425.0451679783812,330.6713352829636],\"type\":\"bar\",\"xaxis\":\"x2\",\"yaxis\":\"y2\"},{\"name\":\"XYZ_THB\",\"x\":[\"Friday\",\"Monday\",\"Saturday\",\"Sunday\",\"Thursday\",\"Tuesday\",\"Wednesday\"],\"y\":[337.41228796053844,326.4460741497529,358.5215101700292,366.94331525932415,331.86214391112134,324.984485614384,343.2516622577316],\"type\":\"bar\",\"xaxis\":\"x3\",\"yaxis\":\"y3\"}],                        {\"template\":{\"data\":{\"histogram2dcontour\":[{\"type\":\"histogram2dcontour\",\"colorbar\":{\"outlinewidth\":0,\"ticks\":\"\"},\"colorscale\":[[0.0,\"#0d0887\"],[0.1111111111111111,\"#46039f\"],[0.2222222222222222,\"#7201a8\"],[0.3333333333333333,\"#9c179e\"],[0.4444444444444444,\"#bd3786\"],[0.5555555555555556,\"#d8576b\"],[0.6666666666666666,\"#ed7953\"],[0.7777777777777778,\"#fb9f3a\"],[0.8888888888888888,\"#fdca26\"],[1.0,\"#f0f921\"]]}],\"choropleth\":[{\"type\":\"choropleth\",\"colorbar\":{\"outlinewidth\":0,\"ticks\":\"\"}}],\"histogram2d\":[{\"type\":\"histogram2d\",\"colorbar\":{\"outlinewidth\":0,\"ticks\":\"\"},\"colorscale\":[[0.0,\"#0d0887\"],[0.1111111111111111,\"#46039f\"],[0.2222222222222222,\"#7201a8\"],[0.3333333333333333,\"#9c179e\"],[0.4444444444444444,\"#bd3786\"],[0.5555555555555556,\"#d8576b\"],[0.6666666666666666,\"#ed7953\"],[0.7777777777777778,\"#fb9f3a\"],[0.8888888888888888,\"#fdca26\"],[1.0,\"#f0f921\"]]}],\"heatmap\":[{\"type\":\"heatmap\",\"colorbar\":{\"outlinewidth\":0,\"ticks\":\"\"},\"colorscale\":[[0.0,\"#0d0887\"],[0.1111111111111111,\"#46039f\"],[0.2222222222222222,\"#7201a8\"],[0.3333333333333333,\"#9c179e\"],[0.4444444444444444,\"#bd3786\"],[0.5555555555555556,\"#d8576b\"],[0.6666666666666666,\"#ed7953\"],[0.7777777777777778,\"#fb9f3a\"],[0.8888888888888888,\"#fdca26\"],[1.0,\"#f0f921\"]]}],\"heatmapgl\":[{\"type\":\"heatmapgl\",\"colorbar\":{\"outlinewidth\":0,\"ticks\":\"\"},\"colorscale\":[[0.0,\"#0d0887\"],[0.1111111111111111,\"#46039f\"],[0.2222222222222222,\"#7201a8\"],[0.3333333333333333,\"#9c179e\"],[0.4444444444444444,\"#bd3786\"],[0.5555555555555556,\"#d8576b\"],[0.6666666666666666,\"#ed7953\"],[0.7777777777777778,\"#fb9f3a\"],[0.8888888888888888,\"#fdca26\"],[1.0,\"#f0f921\"]]}],\"contourcarpet\":[{\"type\":\"contourcarpet\",\"colorbar\":{\"outlinewidth\":0,\"ticks\":\"\"}}],\"contour\":[{\"type\":\"contour\",\"colorbar\":{\"outlinewidth\":0,\"ticks\":\"\"},\"colorscale\":[[0.0,\"#0d0887\"],[0.1111111111111111,\"#46039f\"],[0.2222222222222222,\"#7201a8\"],[0.3333333333333333,\"#9c179e\"],[0.4444444444444444,\"#bd3786\"],[0.5555555555555556,\"#d8576b\"],[0.6666666666666666,\"#ed7953\"],[0.7777777777777778,\"#fb9f3a\"],[0.8888888888888888,\"#fdca26\"],[1.0,\"#f0f921\"]]}],\"surface\":[{\"type\":\"surface\",\"colorbar\":{\"outlinewidth\":0,\"ticks\":\"\"},\"colorscale\":[[0.0,\"#0d0887\"],[0.1111111111111111,\"#46039f\"],[0.2222222222222222,\"#7201a8\"],[0.3333333333333333,\"#9c179e\"],[0.4444444444444444,\"#bd3786\"],[0.5555555555555556,\"#d8576b\"],[0.6666666666666666,\"#ed7953\"],[0.7777777777777778,\"#fb9f3a\"],[0.8888888888888888,\"#fdca26\"],[1.0,\"#f0f921\"]]}],\"mesh3d\":[{\"type\":\"mesh3d\",\"colorbar\":{\"outlinewidth\":0,\"ticks\":\"\"}}],\"scatter\":[{\"fillpattern\":{\"fillmode\":\"overlay\",\"size\":10,\"solidity\":0.2},\"type\":\"scatter\"}],\"parcoords\":[{\"type\":\"parcoords\",\"line\":{\"colorbar\":{\"outlinewidth\":0,\"ticks\":\"\"}}}],\"scatterpolargl\":[{\"type\":\"scatterpolargl\",\"marker\":{\"colorbar\":{\"outlinewidth\":0,\"ticks\":\"\"}}}],\"bar\":[{\"error_x\":{\"color\":\"#2a3f5f\"},\"error_y\":{\"color\":\"#2a3f5f\"},\"marker\":{\"line\":{\"color\":\"#E5ECF6\",\"width\":0.5},\"pattern\":{\"fillmode\":\"overlay\",\"size\":10,\"solidity\":0.2}},\"type\":\"bar\"}],\"scattergeo\":[{\"type\":\"scattergeo\",\"marker\":{\"colorbar\":{\"outlinewidth\":0,\"ticks\":\"\"}}}],\"scatterpolar\":[{\"type\":\"scatterpolar\",\"marker\":{\"colorbar\":{\"outlinewidth\":0,\"ticks\":\"\"}}}],\"histogram\":[{\"marker\":{\"pattern\":{\"fillmode\":\"overlay\",\"size\":10,\"solidity\":0.2}},\"type\":\"histogram\"}],\"scattergl\":[{\"type\":\"scattergl\",\"marker\":{\"colorbar\":{\"outlinewidth\":0,\"ticks\":\"\"}}}],\"scatter3d\":[{\"type\":\"scatter3d\",\"line\":{\"colorbar\":{\"outlinewidth\":0,\"ticks\":\"\"}},\"marker\":{\"colorbar\":{\"outlinewidth\":0,\"ticks\":\"\"}}}],\"scattermapbox\":[{\"type\":\"scattermapbox\",\"marker\":{\"colorbar\":{\"outlinewidth\":0,\"ticks\":\"\"}}}],\"scatterternary\":[{\"type\":\"scatterternary\",\"marker\":{\"colorbar\":{\"outlinewidth\":0,\"ticks\":\"\"}}}],\"scattercarpet\":[{\"type\":\"scattercarpet\",\"marker\":{\"colorbar\":{\"outlinewidth\":0,\"ticks\":\"\"}}}],\"carpet\":[{\"aaxis\":{\"endlinecolor\":\"#2a3f5f\",\"gridcolor\":\"white\",\"linecolor\":\"white\",\"minorgridcolor\":\"white\",\"startlinecolor\":\"#2a3f5f\"},\"baxis\":{\"endlinecolor\":\"#2a3f5f\",\"gridcolor\":\"white\",\"linecolor\":\"white\",\"minorgridcolor\":\"white\",\"startlinecolor\":\"#2a3f5f\"},\"type\":\"carpet\"}],\"table\":[{\"cells\":{\"fill\":{\"color\":\"#EBF0F8\"},\"line\":{\"color\":\"white\"}},\"header\":{\"fill\":{\"color\":\"#C8D4E3\"},\"line\":{\"color\":\"white\"}},\"type\":\"table\"}],\"barpolar\":[{\"marker\":{\"line\":{\"color\":\"#E5ECF6\",\"width\":0.5},\"pattern\":{\"fillmode\":\"overlay\",\"size\":10,\"solidity\":0.2}},\"type\":\"barpolar\"}],\"pie\":[{\"automargin\":true,\"type\":\"pie\"}]},\"layout\":{\"autotypenumbers\":\"strict\",\"colorway\":[\"#636efa\",\"#EF553B\",\"#00cc96\",\"#ab63fa\",\"#FFA15A\",\"#19d3f3\",\"#FF6692\",\"#B6E880\",\"#FF97FF\",\"#FECB52\"],\"font\":{\"color\":\"#2a3f5f\"},\"hovermode\":\"closest\",\"hoverlabel\":{\"align\":\"left\"},\"paper_bgcolor\":\"white\",\"plot_bgcolor\":\"#E5ECF6\",\"polar\":{\"bgcolor\":\"#E5ECF6\",\"angularaxis\":{\"gridcolor\":\"white\",\"linecolor\":\"white\",\"ticks\":\"\"},\"radialaxis\":{\"gridcolor\":\"white\",\"linecolor\":\"white\",\"ticks\":\"\"}},\"ternary\":{\"bgcolor\":\"#E5ECF6\",\"aaxis\":{\"gridcolor\":\"white\",\"linecolor\":\"white\",\"ticks\":\"\"},\"baxis\":{\"gridcolor\":\"white\",\"linecolor\":\"white\",\"ticks\":\"\"},\"caxis\":{\"gridcolor\":\"white\",\"linecolor\":\"white\",\"ticks\":\"\"}},\"coloraxis\":{\"colorbar\":{\"outlinewidth\":0,\"ticks\":\"\"}},\"colorscale\":{\"sequential\":[[0.0,\"#0d0887\"],[0.1111111111111111,\"#46039f\"],[0.2222222222222222,\"#7201a8\"],[0.3333333333333333,\"#9c179e\"],[0.4444444444444444,\"#bd3786\"],[0.5555555555555556,\"#d8576b\"],[0.6666666666666666,\"#ed7953\"],[0.7777777777777778,\"#fb9f3a\"],[0.8888888888888888,\"#fdca26\"],[1.0,\"#f0f921\"]],\"sequentialminus\":[[0.0,\"#0d0887\"],[0.1111111111111111,\"#46039f\"],[0.2222222222222222,\"#7201a8\"],[0.3333333333333333,\"#9c179e\"],[0.4444444444444444,\"#bd3786\"],[0.5555555555555556,\"#d8576b\"],[0.6666666666666666,\"#ed7953\"],[0.7777777777777778,\"#fb9f3a\"],[0.8888888888888888,\"#fdca26\"],[1.0,\"#f0f921\"]],\"diverging\":[[0,\"#8e0152\"],[0.1,\"#c51b7d\"],[0.2,\"#de77ae\"],[0.3,\"#f1b6da\"],[0.4,\"#fde0ef\"],[0.5,\"#f7f7f7\"],[0.6,\"#e6f5d0\"],[0.7,\"#b8e186\"],[0.8,\"#7fbc41\"],[0.9,\"#4d9221\"],[1,\"#276419\"]]},\"xaxis\":{\"gridcolor\":\"white\",\"linecolor\":\"white\",\"ticks\":\"\",\"title\":{\"standoff\":15},\"zerolinecolor\":\"white\",\"automargin\":true,\"zerolinewidth\":2},\"yaxis\":{\"gridcolor\":\"white\",\"linecolor\":\"white\",\"ticks\":\"\",\"title\":{\"standoff\":15},\"zerolinecolor\":\"white\",\"automargin\":true,\"zerolinewidth\":2},\"scene\":{\"xaxis\":{\"backgroundcolor\":\"#E5ECF6\",\"gridcolor\":\"white\",\"linecolor\":\"white\",\"showbackground\":true,\"ticks\":\"\",\"zerolinecolor\":\"white\",\"gridwidth\":2},\"yaxis\":{\"backgroundcolor\":\"#E5ECF6\",\"gridcolor\":\"white\",\"linecolor\":\"white\",\"showbackground\":true,\"ticks\":\"\",\"zerolinecolor\":\"white\",\"gridwidth\":2},\"zaxis\":{\"backgroundcolor\":\"#E5ECF6\",\"gridcolor\":\"white\",\"linecolor\":\"white\",\"showbackground\":true,\"ticks\":\"\",\"zerolinecolor\":\"white\",\"gridwidth\":2}},\"shapedefaults\":{\"line\":{\"color\":\"#2a3f5f\"}},\"annotationdefaults\":{\"arrowcolor\":\"#2a3f5f\",\"arrowhead\":0,\"arrowwidth\":1},\"geo\":{\"bgcolor\":\"white\",\"landcolor\":\"#E5ECF6\",\"subunitcolor\":\"white\",\"showland\":true,\"showlakes\":true,\"lakecolor\":\"white\"},\"title\":{\"x\":0.05},\"mapbox\":{\"style\":\"light\"}}},\"xaxis\":{\"anchor\":\"y\",\"domain\":[0.0,0.45]},\"yaxis\":{\"anchor\":\"x\",\"domain\":[0.625,1.0]},\"xaxis2\":{\"anchor\":\"y2\",\"domain\":[0.0,0.45],\"categoryorder\":\"array\",\"categoryarray\":[\"day\",\"afternoon\",\"night\",\"latenight\"]},\"yaxis2\":{\"anchor\":\"x2\",\"domain\":[0.0,0.375]},\"xaxis3\":{\"anchor\":\"y3\",\"domain\":[0.55,1.0],\"categoryorder\":\"array\",\"categoryarray\":[\"Monday\",\"Tuesday\",\"Wednesday\",\"Thursday\",\"Friday\",\"Saturday\",\"Sunday\"]},\"yaxis3\":{\"anchor\":\"x3\",\"domain\":[0.0,0.375]},\"annotations\":[{\"font\":{\"size\":16},\"showarrow\":false,\"text\":\"Avg Revenue Across Time\",\"x\":0.225,\"xanchor\":\"center\",\"xref\":\"paper\",\"y\":1.0,\"yanchor\":\"bottom\",\"yref\":\"paper\"},{\"font\":{\"size\":16},\"showarrow\":false,\"text\":\"Revenue Distribution by merchant\",\"x\":0.775,\"xanchor\":\"center\",\"xref\":\"paper\",\"y\":1.0,\"yanchor\":\"bottom\",\"yref\":\"paper\"},{\"font\":{\"size\":16},\"showarrow\":false,\"text\":\"Intraday Revenue\",\"x\":0.225,\"xanchor\":\"center\",\"xref\":\"paper\",\"y\":0.375,\"yanchor\":\"bottom\",\"yref\":\"paper\"},{\"font\":{\"size\":16},\"showarrow\":false,\"text\":\"Daily Revenue\",\"x\":0.775,\"xanchor\":\"center\",\"xref\":\"paper\",\"y\":0.375,\"yanchor\":\"bottom\",\"yref\":\"paper\"}],\"title\":{\"text\":\"XYZLimited for captured Transactions\"},\"barmode\":\"relative\",\"showlegend\":false},                        {\"responsive\": true}                    ).then(function(){\n",
       "                            \n",
       "var gd = document.getElementById('dc28be1d-47a8-44d4-a600-7fccaa4f3aed');\n",
       "var x = new MutationObserver(function (mutations, observer) {{\n",
       "        var display = window.getComputedStyle(gd).display;\n",
       "        if (!display || display === 'none') {{\n",
       "            console.log([gd, 'removed!']);\n",
       "            Plotly.purge(gd);\n",
       "            observer.disconnect();\n",
       "        }}\n",
       "}});\n",
       "\n",
       "// Listen for the removal of the full notebook cells\n",
       "var notebookContainer = gd.closest('#notebook-container');\n",
       "if (notebookContainer) {{\n",
       "    x.observe(notebookContainer, {childList: true});\n",
       "}}\n",
       "\n",
       "// Listen for the clearing of the current output cell\n",
       "var outputEl = gd.closest('.output');\n",
       "if (outputEl) {{\n",
       "    x.observe(outputEl, {childList: true});\n",
       "}}\n",
       "\n",
       "                        })                };                });            </script>        </div>"
      ]
     },
     "metadata": {},
     "output_type": "display_data"
    }
   ],
   "source": [
    "# TODO: Switch between TPV and Volume \n",
    "\n",
    "# Initiate filters\n",
    "company_dd = companies[2]\n",
    "field_dd = fieldtypes[-2]\n",
    "target_dd = journals[3]\n",
    "\n",
    "df_comp = df2[df2['company'] == company_dd]\n",
    "\n",
    "# Widgets\n",
    "company_dd = widgets.Dropdown(options= companies, value= companies[0], description='Select Company',\n",
    "                              style= {'description_width': 'initial'})\n",
    "field_dd = widgets.Dropdown(options= fieldtypes, value= fieldtypes[3], description='Select Field for Revenue Breakdown',\n",
    "                              style= {'description_width': 'max-content'},\n",
    "                           layout= {'width': 'max-content'})\n",
    "target_dd = widgets.Dropdown(options= journals, value= 'All', description='Select Target Transaction status',\n",
    "                              style= {'description_width': 'initial'})\n",
    "\n",
    "def callback(__):\n",
    "    clear_output(wait=True)\n",
    "    main_box.children = [setup_ui, button_run]\n",
    "    display(main_box)\n",
    "    \n",
    "    fig = plot_merchant_overview(df2, company_dd.value, field_dd.value, target_dd.value)\n",
    "    return fig.show()\n",
    "\n",
    "# Show\n",
    "setup_ui = widgets.VBox([company_dd, field_dd, target_dd])\n",
    "display(setup_ui)\n",
    "\n",
    "button_run = widgets.Button(description='Run')\n",
    "main_box = widgets.VBox([button_run])\n",
    "button_run.on_click(callback)\n",
    "\n",
    "display(main_box)"
   ]
  },
  {
   "cell_type": "markdown",
   "metadata": {},
   "source": [
    "# Analysis"
   ]
  },
  {
   "cell_type": "markdown",
   "metadata": {},
   "source": [
    "## Fraud Analysis"
   ]
  },
  {
   "cell_type": "code",
   "execution_count": 147,
   "metadata": {},
   "outputs": [
    {
     "data": {
      "text/html": [
       "<div>\n",
       "<style scoped>\n",
       "    .dataframe tbody tr th:only-of-type {\n",
       "        vertical-align: middle;\n",
       "    }\n",
       "\n",
       "    .dataframe tbody tr th {\n",
       "        vertical-align: top;\n",
       "    }\n",
       "\n",
       "    .dataframe thead th {\n",
       "        text-align: right;\n",
       "    }\n",
       "</style>\n",
       "<table border=\"1\" class=\"dataframe\">\n",
       "  <thead>\n",
       "    <tr style=\"text-align: right;\">\n",
       "      <th></th>\n",
       "      <th>is_fraud</th>\n",
       "      <th>n_txns</th>\n",
       "      <th>n_cards</th>\n",
       "      <th>amount_usd</th>\n",
       "    </tr>\n",
       "  </thead>\n",
       "  <tbody>\n",
       "    <tr>\n",
       "      <th>0</th>\n",
       "      <td>Fraud</td>\n",
       "      <td>10509</td>\n",
       "      <td>925</td>\n",
       "      <td>546.956912</td>\n",
       "    </tr>\n",
       "    <tr>\n",
       "      <th>1</th>\n",
       "      <td>Not_Fraud</td>\n",
       "      <td>90143</td>\n",
       "      <td>2436</td>\n",
       "      <td>493.945389</td>\n",
       "    </tr>\n",
       "  </tbody>\n",
       "</table>\n",
       "</div>"
      ],
      "text/plain": [
       "    is_fraud  n_txns  n_cards  amount_usd\n",
       "0      Fraud   10509      925  546.956912\n",
       "1  Not_Fraud   90143     2436  493.945389"
      ]
     },
     "metadata": {},
     "output_type": "display_data"
    },
    {
     "name": "stdout",
     "output_type": "stream",
     "text": [
      " 89.56% of transaction count is fraud for ABCLimited\n",
      " 72.48% of cards are fraud for ABCLimited\n",
      "The average fraud transaction is smaller than non-fraud transaction.\n"
     ]
    }
   ],
   "source": [
    "company_dd = companies[0]\n",
    "fraud_df = df2[df2['company'] == company_dd]\n",
    "\n",
    "\n",
    "fraud_stat= fraud_df.groupby(['is_fraud']).agg({'pspreference':'nunique',\n",
    "                                   'bin': 'nunique',\n",
    "                                   'amount_usd': 'mean'}).reset_index()\n",
    "fraud_stat.columns = ['is_fraud', 'n_txns', 'n_cards', 'amount_usd']\n",
    "display(fraud_stat)\n",
    "\n",
    "print(f'{fraud_stat.loc[1,\"n_txns\"]/(fraud_stat.loc[1,\"n_txns\"]+fraud_stat.loc[0,\"n_txns\"]) *100: .2f}% of transaction count is fraud for {company_dd}')\n",
    "print(f'{fraud_stat.loc[1,\"n_cards\"]/(fraud_stat.loc[1,\"n_cards\"]+fraud_stat.loc[0,\"n_cards\"]) *100: .2f}% of cards are fraud for {company_dd}')\n",
    "\n",
    "if fraud_stat.loc[1,\"amount_usd\"] < fraud_stat.loc[0,\"amount_usd\"]:\n",
    "    print(f'The average fraud transaction is smaller than non-fraud transaction.')\n",
    "else:\n",
    "    print(f'The average fraud transaction is larger than non-fraud transaction.')"
   ]
  },
  {
   "cell_type": "code",
   "execution_count": 152,
   "metadata": {},
   "outputs": [],
   "source": [
    "# Plot fraud vs non-fraud\n",
    "def fraud_barchart(fraud_df, company_dd, field_dd):\n",
    "    temp_df = fraud_df.groupby(['is_fraud', field_dd])['amount_usd'].mean().reset_index()\n",
    "    fig = make_subplots(rows=1, cols=1, subplot_titles= (''))\n",
    "\n",
    "    for i in ['Not_Fraud', 'Fraud']:\n",
    "        temp_df2 = temp_df[temp_df['is_fraud'] == i]\n",
    "        fig.add_trace(go.Bar(x=temp_df2[field_dd], y=temp_df2['amount_usd'], name = i), row=1, col=1)\n",
    "\n",
    "    fig.update_layout(barmode='group', title_text=f'{company_dd} Avg amount, by {field_dd}', showlegend=True)\n",
    "    return fig\n",
    "\n",
    "# # test\n",
    "# company_dd = companies[2]\n",
    "# field_dd = 'amount_bin' #fieldtypes[3]\n",
    "# fraud_df = df2[df2['company'] == company_dd]\n",
    "# fraud_barchart(fraud_df, company_dd, field_dd)"
   ]
  },
  {
   "cell_type": "code",
   "execution_count": 153,
   "metadata": {},
   "outputs": [
    {
     "data": {
      "application/vnd.jupyter.widget-view+json": {
       "model_id": "93e7cd4ac2e34b4db1932a1e4809fd91",
       "version_major": 2,
       "version_minor": 0
      },
      "text/plain": [
       "VBox(children=(VBox(children=(Dropdown(description='Select Company', options=('ABCLimited', 'DEFLimited', 'XYZ…"
      ]
     },
     "metadata": {},
     "output_type": "display_data"
    },
    {
     "data": {
      "application/vnd.plotly.v1+json": {
       "config": {
        "plotlyServerURL": "https://plot.ly"
       },
       "data": [
        {
         "name": "Not_Fraud",
         "type": "bar",
         "x": [
          "commercial",
          "corporate",
          "normal",
          "premium"
         ],
         "xaxis": "x",
         "y": [
          415.39493259502757,
          516.8310612781564,
          334.9417221980972,
          684.6127887719854
         ],
         "yaxis": "y"
        },
        {
         "name": "Fraud",
         "type": "bar",
         "x": [
          "commercial",
          "corporate",
          "normal",
          "premium"
         ],
         "xaxis": "x",
         "y": [
          571.0517844869041,
          568.139604206514,
          363.68318328466484,
          886.710574686155
         ],
         "yaxis": "y"
        }
       ],
       "layout": {
        "barmode": "group",
        "showlegend": true,
        "template": {
         "data": {
          "bar": [
           {
            "error_x": {
             "color": "#2a3f5f"
            },
            "error_y": {
             "color": "#2a3f5f"
            },
            "marker": {
             "line": {
              "color": "#E5ECF6",
              "width": 0.5
             },
             "pattern": {
              "fillmode": "overlay",
              "size": 10,
              "solidity": 0.2
             }
            },
            "type": "bar"
           }
          ],
          "barpolar": [
           {
            "marker": {
             "line": {
              "color": "#E5ECF6",
              "width": 0.5
             },
             "pattern": {
              "fillmode": "overlay",
              "size": 10,
              "solidity": 0.2
             }
            },
            "type": "barpolar"
           }
          ],
          "carpet": [
           {
            "aaxis": {
             "endlinecolor": "#2a3f5f",
             "gridcolor": "white",
             "linecolor": "white",
             "minorgridcolor": "white",
             "startlinecolor": "#2a3f5f"
            },
            "baxis": {
             "endlinecolor": "#2a3f5f",
             "gridcolor": "white",
             "linecolor": "white",
             "minorgridcolor": "white",
             "startlinecolor": "#2a3f5f"
            },
            "type": "carpet"
           }
          ],
          "choropleth": [
           {
            "colorbar": {
             "outlinewidth": 0,
             "ticks": ""
            },
            "type": "choropleth"
           }
          ],
          "contour": [
           {
            "colorbar": {
             "outlinewidth": 0,
             "ticks": ""
            },
            "colorscale": [
             [
              0,
              "#0d0887"
             ],
             [
              0.1111111111111111,
              "#46039f"
             ],
             [
              0.2222222222222222,
              "#7201a8"
             ],
             [
              0.3333333333333333,
              "#9c179e"
             ],
             [
              0.4444444444444444,
              "#bd3786"
             ],
             [
              0.5555555555555556,
              "#d8576b"
             ],
             [
              0.6666666666666666,
              "#ed7953"
             ],
             [
              0.7777777777777778,
              "#fb9f3a"
             ],
             [
              0.8888888888888888,
              "#fdca26"
             ],
             [
              1,
              "#f0f921"
             ]
            ],
            "type": "contour"
           }
          ],
          "contourcarpet": [
           {
            "colorbar": {
             "outlinewidth": 0,
             "ticks": ""
            },
            "type": "contourcarpet"
           }
          ],
          "heatmap": [
           {
            "colorbar": {
             "outlinewidth": 0,
             "ticks": ""
            },
            "colorscale": [
             [
              0,
              "#0d0887"
             ],
             [
              0.1111111111111111,
              "#46039f"
             ],
             [
              0.2222222222222222,
              "#7201a8"
             ],
             [
              0.3333333333333333,
              "#9c179e"
             ],
             [
              0.4444444444444444,
              "#bd3786"
             ],
             [
              0.5555555555555556,
              "#d8576b"
             ],
             [
              0.6666666666666666,
              "#ed7953"
             ],
             [
              0.7777777777777778,
              "#fb9f3a"
             ],
             [
              0.8888888888888888,
              "#fdca26"
             ],
             [
              1,
              "#f0f921"
             ]
            ],
            "type": "heatmap"
           }
          ],
          "heatmapgl": [
           {
            "colorbar": {
             "outlinewidth": 0,
             "ticks": ""
            },
            "colorscale": [
             [
              0,
              "#0d0887"
             ],
             [
              0.1111111111111111,
              "#46039f"
             ],
             [
              0.2222222222222222,
              "#7201a8"
             ],
             [
              0.3333333333333333,
              "#9c179e"
             ],
             [
              0.4444444444444444,
              "#bd3786"
             ],
             [
              0.5555555555555556,
              "#d8576b"
             ],
             [
              0.6666666666666666,
              "#ed7953"
             ],
             [
              0.7777777777777778,
              "#fb9f3a"
             ],
             [
              0.8888888888888888,
              "#fdca26"
             ],
             [
              1,
              "#f0f921"
             ]
            ],
            "type": "heatmapgl"
           }
          ],
          "histogram": [
           {
            "marker": {
             "pattern": {
              "fillmode": "overlay",
              "size": 10,
              "solidity": 0.2
             }
            },
            "type": "histogram"
           }
          ],
          "histogram2d": [
           {
            "colorbar": {
             "outlinewidth": 0,
             "ticks": ""
            },
            "colorscale": [
             [
              0,
              "#0d0887"
             ],
             [
              0.1111111111111111,
              "#46039f"
             ],
             [
              0.2222222222222222,
              "#7201a8"
             ],
             [
              0.3333333333333333,
              "#9c179e"
             ],
             [
              0.4444444444444444,
              "#bd3786"
             ],
             [
              0.5555555555555556,
              "#d8576b"
             ],
             [
              0.6666666666666666,
              "#ed7953"
             ],
             [
              0.7777777777777778,
              "#fb9f3a"
             ],
             [
              0.8888888888888888,
              "#fdca26"
             ],
             [
              1,
              "#f0f921"
             ]
            ],
            "type": "histogram2d"
           }
          ],
          "histogram2dcontour": [
           {
            "colorbar": {
             "outlinewidth": 0,
             "ticks": ""
            },
            "colorscale": [
             [
              0,
              "#0d0887"
             ],
             [
              0.1111111111111111,
              "#46039f"
             ],
             [
              0.2222222222222222,
              "#7201a8"
             ],
             [
              0.3333333333333333,
              "#9c179e"
             ],
             [
              0.4444444444444444,
              "#bd3786"
             ],
             [
              0.5555555555555556,
              "#d8576b"
             ],
             [
              0.6666666666666666,
              "#ed7953"
             ],
             [
              0.7777777777777778,
              "#fb9f3a"
             ],
             [
              0.8888888888888888,
              "#fdca26"
             ],
             [
              1,
              "#f0f921"
             ]
            ],
            "type": "histogram2dcontour"
           }
          ],
          "mesh3d": [
           {
            "colorbar": {
             "outlinewidth": 0,
             "ticks": ""
            },
            "type": "mesh3d"
           }
          ],
          "parcoords": [
           {
            "line": {
             "colorbar": {
              "outlinewidth": 0,
              "ticks": ""
             }
            },
            "type": "parcoords"
           }
          ],
          "pie": [
           {
            "automargin": true,
            "type": "pie"
           }
          ],
          "scatter": [
           {
            "fillpattern": {
             "fillmode": "overlay",
             "size": 10,
             "solidity": 0.2
            },
            "type": "scatter"
           }
          ],
          "scatter3d": [
           {
            "line": {
             "colorbar": {
              "outlinewidth": 0,
              "ticks": ""
             }
            },
            "marker": {
             "colorbar": {
              "outlinewidth": 0,
              "ticks": ""
             }
            },
            "type": "scatter3d"
           }
          ],
          "scattercarpet": [
           {
            "marker": {
             "colorbar": {
              "outlinewidth": 0,
              "ticks": ""
             }
            },
            "type": "scattercarpet"
           }
          ],
          "scattergeo": [
           {
            "marker": {
             "colorbar": {
              "outlinewidth": 0,
              "ticks": ""
             }
            },
            "type": "scattergeo"
           }
          ],
          "scattergl": [
           {
            "marker": {
             "colorbar": {
              "outlinewidth": 0,
              "ticks": ""
             }
            },
            "type": "scattergl"
           }
          ],
          "scattermapbox": [
           {
            "marker": {
             "colorbar": {
              "outlinewidth": 0,
              "ticks": ""
             }
            },
            "type": "scattermapbox"
           }
          ],
          "scatterpolar": [
           {
            "marker": {
             "colorbar": {
              "outlinewidth": 0,
              "ticks": ""
             }
            },
            "type": "scatterpolar"
           }
          ],
          "scatterpolargl": [
           {
            "marker": {
             "colorbar": {
              "outlinewidth": 0,
              "ticks": ""
             }
            },
            "type": "scatterpolargl"
           }
          ],
          "scatterternary": [
           {
            "marker": {
             "colorbar": {
              "outlinewidth": 0,
              "ticks": ""
             }
            },
            "type": "scatterternary"
           }
          ],
          "surface": [
           {
            "colorbar": {
             "outlinewidth": 0,
             "ticks": ""
            },
            "colorscale": [
             [
              0,
              "#0d0887"
             ],
             [
              0.1111111111111111,
              "#46039f"
             ],
             [
              0.2222222222222222,
              "#7201a8"
             ],
             [
              0.3333333333333333,
              "#9c179e"
             ],
             [
              0.4444444444444444,
              "#bd3786"
             ],
             [
              0.5555555555555556,
              "#d8576b"
             ],
             [
              0.6666666666666666,
              "#ed7953"
             ],
             [
              0.7777777777777778,
              "#fb9f3a"
             ],
             [
              0.8888888888888888,
              "#fdca26"
             ],
             [
              1,
              "#f0f921"
             ]
            ],
            "type": "surface"
           }
          ],
          "table": [
           {
            "cells": {
             "fill": {
              "color": "#EBF0F8"
             },
             "line": {
              "color": "white"
             }
            },
            "header": {
             "fill": {
              "color": "#C8D4E3"
             },
             "line": {
              "color": "white"
             }
            },
            "type": "table"
           }
          ]
         },
         "layout": {
          "annotationdefaults": {
           "arrowcolor": "#2a3f5f",
           "arrowhead": 0,
           "arrowwidth": 1
          },
          "autotypenumbers": "strict",
          "coloraxis": {
           "colorbar": {
            "outlinewidth": 0,
            "ticks": ""
           }
          },
          "colorscale": {
           "diverging": [
            [
             0,
             "#8e0152"
            ],
            [
             0.1,
             "#c51b7d"
            ],
            [
             0.2,
             "#de77ae"
            ],
            [
             0.3,
             "#f1b6da"
            ],
            [
             0.4,
             "#fde0ef"
            ],
            [
             0.5,
             "#f7f7f7"
            ],
            [
             0.6,
             "#e6f5d0"
            ],
            [
             0.7,
             "#b8e186"
            ],
            [
             0.8,
             "#7fbc41"
            ],
            [
             0.9,
             "#4d9221"
            ],
            [
             1,
             "#276419"
            ]
           ],
           "sequential": [
            [
             0,
             "#0d0887"
            ],
            [
             0.1111111111111111,
             "#46039f"
            ],
            [
             0.2222222222222222,
             "#7201a8"
            ],
            [
             0.3333333333333333,
             "#9c179e"
            ],
            [
             0.4444444444444444,
             "#bd3786"
            ],
            [
             0.5555555555555556,
             "#d8576b"
            ],
            [
             0.6666666666666666,
             "#ed7953"
            ],
            [
             0.7777777777777778,
             "#fb9f3a"
            ],
            [
             0.8888888888888888,
             "#fdca26"
            ],
            [
             1,
             "#f0f921"
            ]
           ],
           "sequentialminus": [
            [
             0,
             "#0d0887"
            ],
            [
             0.1111111111111111,
             "#46039f"
            ],
            [
             0.2222222222222222,
             "#7201a8"
            ],
            [
             0.3333333333333333,
             "#9c179e"
            ],
            [
             0.4444444444444444,
             "#bd3786"
            ],
            [
             0.5555555555555556,
             "#d8576b"
            ],
            [
             0.6666666666666666,
             "#ed7953"
            ],
            [
             0.7777777777777778,
             "#fb9f3a"
            ],
            [
             0.8888888888888888,
             "#fdca26"
            ],
            [
             1,
             "#f0f921"
            ]
           ]
          },
          "colorway": [
           "#636efa",
           "#EF553B",
           "#00cc96",
           "#ab63fa",
           "#FFA15A",
           "#19d3f3",
           "#FF6692",
           "#B6E880",
           "#FF97FF",
           "#FECB52"
          ],
          "font": {
           "color": "#2a3f5f"
          },
          "geo": {
           "bgcolor": "white",
           "lakecolor": "white",
           "landcolor": "#E5ECF6",
           "showlakes": true,
           "showland": true,
           "subunitcolor": "white"
          },
          "hoverlabel": {
           "align": "left"
          },
          "hovermode": "closest",
          "mapbox": {
           "style": "light"
          },
          "paper_bgcolor": "white",
          "plot_bgcolor": "#E5ECF6",
          "polar": {
           "angularaxis": {
            "gridcolor": "white",
            "linecolor": "white",
            "ticks": ""
           },
           "bgcolor": "#E5ECF6",
           "radialaxis": {
            "gridcolor": "white",
            "linecolor": "white",
            "ticks": ""
           }
          },
          "scene": {
           "xaxis": {
            "backgroundcolor": "#E5ECF6",
            "gridcolor": "white",
            "gridwidth": 2,
            "linecolor": "white",
            "showbackground": true,
            "ticks": "",
            "zerolinecolor": "white"
           },
           "yaxis": {
            "backgroundcolor": "#E5ECF6",
            "gridcolor": "white",
            "gridwidth": 2,
            "linecolor": "white",
            "showbackground": true,
            "ticks": "",
            "zerolinecolor": "white"
           },
           "zaxis": {
            "backgroundcolor": "#E5ECF6",
            "gridcolor": "white",
            "gridwidth": 2,
            "linecolor": "white",
            "showbackground": true,
            "ticks": "",
            "zerolinecolor": "white"
           }
          },
          "shapedefaults": {
           "line": {
            "color": "#2a3f5f"
           }
          },
          "ternary": {
           "aaxis": {
            "gridcolor": "white",
            "linecolor": "white",
            "ticks": ""
           },
           "baxis": {
            "gridcolor": "white",
            "linecolor": "white",
            "ticks": ""
           },
           "bgcolor": "#E5ECF6",
           "caxis": {
            "gridcolor": "white",
            "linecolor": "white",
            "ticks": ""
           }
          },
          "title": {
           "x": 0.05
          },
          "xaxis": {
           "automargin": true,
           "gridcolor": "white",
           "linecolor": "white",
           "ticks": "",
           "title": {
            "standoff": 15
           },
           "zerolinecolor": "white",
           "zerolinewidth": 2
          },
          "yaxis": {
           "automargin": true,
           "gridcolor": "white",
           "linecolor": "white",
           "ticks": "",
           "title": {
            "standoff": 15
           },
           "zerolinecolor": "white",
           "zerolinewidth": 2
          }
         }
        },
        "title": {
         "text": "ABCLimited Avg amount, by cardtype"
        },
        "xaxis": {
         "anchor": "y",
         "domain": [
          0,
          1
         ]
        },
        "yaxis": {
         "anchor": "x",
         "domain": [
          0,
          1
         ]
        }
       }
      },
      "text/html": [
       "<div>                            <div id=\"1a63a070-a004-473c-b8db-bb25dc6e04a9\" class=\"plotly-graph-div\" style=\"height:525px; width:100%;\"></div>            <script type=\"text/javascript\">                require([\"plotly\"], function(Plotly) {                    window.PLOTLYENV=window.PLOTLYENV || {};                                    if (document.getElementById(\"1a63a070-a004-473c-b8db-bb25dc6e04a9\")) {                    Plotly.newPlot(                        \"1a63a070-a004-473c-b8db-bb25dc6e04a9\",                        [{\"name\":\"Not_Fraud\",\"x\":[\"commercial\",\"corporate\",\"normal\",\"premium\"],\"y\":[415.39493259502757,516.8310612781564,334.9417221980972,684.6127887719854],\"type\":\"bar\",\"xaxis\":\"x\",\"yaxis\":\"y\"},{\"name\":\"Fraud\",\"x\":[\"commercial\",\"corporate\",\"normal\",\"premium\"],\"y\":[571.0517844869041,568.139604206514,363.68318328466484,886.710574686155],\"type\":\"bar\",\"xaxis\":\"x\",\"yaxis\":\"y\"}],                        {\"template\":{\"data\":{\"histogram2dcontour\":[{\"type\":\"histogram2dcontour\",\"colorbar\":{\"outlinewidth\":0,\"ticks\":\"\"},\"colorscale\":[[0.0,\"#0d0887\"],[0.1111111111111111,\"#46039f\"],[0.2222222222222222,\"#7201a8\"],[0.3333333333333333,\"#9c179e\"],[0.4444444444444444,\"#bd3786\"],[0.5555555555555556,\"#d8576b\"],[0.6666666666666666,\"#ed7953\"],[0.7777777777777778,\"#fb9f3a\"],[0.8888888888888888,\"#fdca26\"],[1.0,\"#f0f921\"]]}],\"choropleth\":[{\"type\":\"choropleth\",\"colorbar\":{\"outlinewidth\":0,\"ticks\":\"\"}}],\"histogram2d\":[{\"type\":\"histogram2d\",\"colorbar\":{\"outlinewidth\":0,\"ticks\":\"\"},\"colorscale\":[[0.0,\"#0d0887\"],[0.1111111111111111,\"#46039f\"],[0.2222222222222222,\"#7201a8\"],[0.3333333333333333,\"#9c179e\"],[0.4444444444444444,\"#bd3786\"],[0.5555555555555556,\"#d8576b\"],[0.6666666666666666,\"#ed7953\"],[0.7777777777777778,\"#fb9f3a\"],[0.8888888888888888,\"#fdca26\"],[1.0,\"#f0f921\"]]}],\"heatmap\":[{\"type\":\"heatmap\",\"colorbar\":{\"outlinewidth\":0,\"ticks\":\"\"},\"colorscale\":[[0.0,\"#0d0887\"],[0.1111111111111111,\"#46039f\"],[0.2222222222222222,\"#7201a8\"],[0.3333333333333333,\"#9c179e\"],[0.4444444444444444,\"#bd3786\"],[0.5555555555555556,\"#d8576b\"],[0.6666666666666666,\"#ed7953\"],[0.7777777777777778,\"#fb9f3a\"],[0.8888888888888888,\"#fdca26\"],[1.0,\"#f0f921\"]]}],\"heatmapgl\":[{\"type\":\"heatmapgl\",\"colorbar\":{\"outlinewidth\":0,\"ticks\":\"\"},\"colorscale\":[[0.0,\"#0d0887\"],[0.1111111111111111,\"#46039f\"],[0.2222222222222222,\"#7201a8\"],[0.3333333333333333,\"#9c179e\"],[0.4444444444444444,\"#bd3786\"],[0.5555555555555556,\"#d8576b\"],[0.6666666666666666,\"#ed7953\"],[0.7777777777777778,\"#fb9f3a\"],[0.8888888888888888,\"#fdca26\"],[1.0,\"#f0f921\"]]}],\"contourcarpet\":[{\"type\":\"contourcarpet\",\"colorbar\":{\"outlinewidth\":0,\"ticks\":\"\"}}],\"contour\":[{\"type\":\"contour\",\"colorbar\":{\"outlinewidth\":0,\"ticks\":\"\"},\"colorscale\":[[0.0,\"#0d0887\"],[0.1111111111111111,\"#46039f\"],[0.2222222222222222,\"#7201a8\"],[0.3333333333333333,\"#9c179e\"],[0.4444444444444444,\"#bd3786\"],[0.5555555555555556,\"#d8576b\"],[0.6666666666666666,\"#ed7953\"],[0.7777777777777778,\"#fb9f3a\"],[0.8888888888888888,\"#fdca26\"],[1.0,\"#f0f921\"]]}],\"surface\":[{\"type\":\"surface\",\"colorbar\":{\"outlinewidth\":0,\"ticks\":\"\"},\"colorscale\":[[0.0,\"#0d0887\"],[0.1111111111111111,\"#46039f\"],[0.2222222222222222,\"#7201a8\"],[0.3333333333333333,\"#9c179e\"],[0.4444444444444444,\"#bd3786\"],[0.5555555555555556,\"#d8576b\"],[0.6666666666666666,\"#ed7953\"],[0.7777777777777778,\"#fb9f3a\"],[0.8888888888888888,\"#fdca26\"],[1.0,\"#f0f921\"]]}],\"mesh3d\":[{\"type\":\"mesh3d\",\"colorbar\":{\"outlinewidth\":0,\"ticks\":\"\"}}],\"scatter\":[{\"fillpattern\":{\"fillmode\":\"overlay\",\"size\":10,\"solidity\":0.2},\"type\":\"scatter\"}],\"parcoords\":[{\"type\":\"parcoords\",\"line\":{\"colorbar\":{\"outlinewidth\":0,\"ticks\":\"\"}}}],\"scatterpolargl\":[{\"type\":\"scatterpolargl\",\"marker\":{\"colorbar\":{\"outlinewidth\":0,\"ticks\":\"\"}}}],\"bar\":[{\"error_x\":{\"color\":\"#2a3f5f\"},\"error_y\":{\"color\":\"#2a3f5f\"},\"marker\":{\"line\":{\"color\":\"#E5ECF6\",\"width\":0.5},\"pattern\":{\"fillmode\":\"overlay\",\"size\":10,\"solidity\":0.2}},\"type\":\"bar\"}],\"scattergeo\":[{\"type\":\"scattergeo\",\"marker\":{\"colorbar\":{\"outlinewidth\":0,\"ticks\":\"\"}}}],\"scatterpolar\":[{\"type\":\"scatterpolar\",\"marker\":{\"colorbar\":{\"outlinewidth\":0,\"ticks\":\"\"}}}],\"histogram\":[{\"marker\":{\"pattern\":{\"fillmode\":\"overlay\",\"size\":10,\"solidity\":0.2}},\"type\":\"histogram\"}],\"scattergl\":[{\"type\":\"scattergl\",\"marker\":{\"colorbar\":{\"outlinewidth\":0,\"ticks\":\"\"}}}],\"scatter3d\":[{\"type\":\"scatter3d\",\"line\":{\"colorbar\":{\"outlinewidth\":0,\"ticks\":\"\"}},\"marker\":{\"colorbar\":{\"outlinewidth\":0,\"ticks\":\"\"}}}],\"scattermapbox\":[{\"type\":\"scattermapbox\",\"marker\":{\"colorbar\":{\"outlinewidth\":0,\"ticks\":\"\"}}}],\"scatterternary\":[{\"type\":\"scatterternary\",\"marker\":{\"colorbar\":{\"outlinewidth\":0,\"ticks\":\"\"}}}],\"scattercarpet\":[{\"type\":\"scattercarpet\",\"marker\":{\"colorbar\":{\"outlinewidth\":0,\"ticks\":\"\"}}}],\"carpet\":[{\"aaxis\":{\"endlinecolor\":\"#2a3f5f\",\"gridcolor\":\"white\",\"linecolor\":\"white\",\"minorgridcolor\":\"white\",\"startlinecolor\":\"#2a3f5f\"},\"baxis\":{\"endlinecolor\":\"#2a3f5f\",\"gridcolor\":\"white\",\"linecolor\":\"white\",\"minorgridcolor\":\"white\",\"startlinecolor\":\"#2a3f5f\"},\"type\":\"carpet\"}],\"table\":[{\"cells\":{\"fill\":{\"color\":\"#EBF0F8\"},\"line\":{\"color\":\"white\"}},\"header\":{\"fill\":{\"color\":\"#C8D4E3\"},\"line\":{\"color\":\"white\"}},\"type\":\"table\"}],\"barpolar\":[{\"marker\":{\"line\":{\"color\":\"#E5ECF6\",\"width\":0.5},\"pattern\":{\"fillmode\":\"overlay\",\"size\":10,\"solidity\":0.2}},\"type\":\"barpolar\"}],\"pie\":[{\"automargin\":true,\"type\":\"pie\"}]},\"layout\":{\"autotypenumbers\":\"strict\",\"colorway\":[\"#636efa\",\"#EF553B\",\"#00cc96\",\"#ab63fa\",\"#FFA15A\",\"#19d3f3\",\"#FF6692\",\"#B6E880\",\"#FF97FF\",\"#FECB52\"],\"font\":{\"color\":\"#2a3f5f\"},\"hovermode\":\"closest\",\"hoverlabel\":{\"align\":\"left\"},\"paper_bgcolor\":\"white\",\"plot_bgcolor\":\"#E5ECF6\",\"polar\":{\"bgcolor\":\"#E5ECF6\",\"angularaxis\":{\"gridcolor\":\"white\",\"linecolor\":\"white\",\"ticks\":\"\"},\"radialaxis\":{\"gridcolor\":\"white\",\"linecolor\":\"white\",\"ticks\":\"\"}},\"ternary\":{\"bgcolor\":\"#E5ECF6\",\"aaxis\":{\"gridcolor\":\"white\",\"linecolor\":\"white\",\"ticks\":\"\"},\"baxis\":{\"gridcolor\":\"white\",\"linecolor\":\"white\",\"ticks\":\"\"},\"caxis\":{\"gridcolor\":\"white\",\"linecolor\":\"white\",\"ticks\":\"\"}},\"coloraxis\":{\"colorbar\":{\"outlinewidth\":0,\"ticks\":\"\"}},\"colorscale\":{\"sequential\":[[0.0,\"#0d0887\"],[0.1111111111111111,\"#46039f\"],[0.2222222222222222,\"#7201a8\"],[0.3333333333333333,\"#9c179e\"],[0.4444444444444444,\"#bd3786\"],[0.5555555555555556,\"#d8576b\"],[0.6666666666666666,\"#ed7953\"],[0.7777777777777778,\"#fb9f3a\"],[0.8888888888888888,\"#fdca26\"],[1.0,\"#f0f921\"]],\"sequentialminus\":[[0.0,\"#0d0887\"],[0.1111111111111111,\"#46039f\"],[0.2222222222222222,\"#7201a8\"],[0.3333333333333333,\"#9c179e\"],[0.4444444444444444,\"#bd3786\"],[0.5555555555555556,\"#d8576b\"],[0.6666666666666666,\"#ed7953\"],[0.7777777777777778,\"#fb9f3a\"],[0.8888888888888888,\"#fdca26\"],[1.0,\"#f0f921\"]],\"diverging\":[[0,\"#8e0152\"],[0.1,\"#c51b7d\"],[0.2,\"#de77ae\"],[0.3,\"#f1b6da\"],[0.4,\"#fde0ef\"],[0.5,\"#f7f7f7\"],[0.6,\"#e6f5d0\"],[0.7,\"#b8e186\"],[0.8,\"#7fbc41\"],[0.9,\"#4d9221\"],[1,\"#276419\"]]},\"xaxis\":{\"gridcolor\":\"white\",\"linecolor\":\"white\",\"ticks\":\"\",\"title\":{\"standoff\":15},\"zerolinecolor\":\"white\",\"automargin\":true,\"zerolinewidth\":2},\"yaxis\":{\"gridcolor\":\"white\",\"linecolor\":\"white\",\"ticks\":\"\",\"title\":{\"standoff\":15},\"zerolinecolor\":\"white\",\"automargin\":true,\"zerolinewidth\":2},\"scene\":{\"xaxis\":{\"backgroundcolor\":\"#E5ECF6\",\"gridcolor\":\"white\",\"linecolor\":\"white\",\"showbackground\":true,\"ticks\":\"\",\"zerolinecolor\":\"white\",\"gridwidth\":2},\"yaxis\":{\"backgroundcolor\":\"#E5ECF6\",\"gridcolor\":\"white\",\"linecolor\":\"white\",\"showbackground\":true,\"ticks\":\"\",\"zerolinecolor\":\"white\",\"gridwidth\":2},\"zaxis\":{\"backgroundcolor\":\"#E5ECF6\",\"gridcolor\":\"white\",\"linecolor\":\"white\",\"showbackground\":true,\"ticks\":\"\",\"zerolinecolor\":\"white\",\"gridwidth\":2}},\"shapedefaults\":{\"line\":{\"color\":\"#2a3f5f\"}},\"annotationdefaults\":{\"arrowcolor\":\"#2a3f5f\",\"arrowhead\":0,\"arrowwidth\":1},\"geo\":{\"bgcolor\":\"white\",\"landcolor\":\"#E5ECF6\",\"subunitcolor\":\"white\",\"showland\":true,\"showlakes\":true,\"lakecolor\":\"white\"},\"title\":{\"x\":0.05},\"mapbox\":{\"style\":\"light\"}}},\"xaxis\":{\"anchor\":\"y\",\"domain\":[0.0,1.0]},\"yaxis\":{\"anchor\":\"x\",\"domain\":[0.0,1.0]},\"title\":{\"text\":\"ABCLimited Avg amount, by cardtype\"},\"barmode\":\"group\",\"showlegend\":true},                        {\"responsive\": true}                    ).then(function(){\n",
       "                            \n",
       "var gd = document.getElementById('1a63a070-a004-473c-b8db-bb25dc6e04a9');\n",
       "var x = new MutationObserver(function (mutations, observer) {{\n",
       "        var display = window.getComputedStyle(gd).display;\n",
       "        if (!display || display === 'none') {{\n",
       "            console.log([gd, 'removed!']);\n",
       "            Plotly.purge(gd);\n",
       "            observer.disconnect();\n",
       "        }}\n",
       "}});\n",
       "\n",
       "// Listen for the removal of the full notebook cells\n",
       "var notebookContainer = gd.closest('#notebook-container');\n",
       "if (notebookContainer) {{\n",
       "    x.observe(notebookContainer, {childList: true});\n",
       "}}\n",
       "\n",
       "// Listen for the clearing of the current output cell\n",
       "var outputEl = gd.closest('.output');\n",
       "if (outputEl) {{\n",
       "    x.observe(outputEl, {childList: true});\n",
       "}}\n",
       "\n",
       "                        })                };                });            </script>        </div>"
      ]
     },
     "metadata": {},
     "output_type": "display_data"
    }
   ],
   "source": [
    "# Initiate filters\n",
    "company_dd = companies[2]\n",
    "field_dd = 'amount_bin' #fieldtypes[3]\n",
    "\n",
    "fraud_df = df2[df2['company'] == company_dd]\n",
    "\n",
    "# Widgets\n",
    "company_dd = widgets.Dropdown(options= companies, value= companies[0], description='Select Company',\n",
    "                              style= {'description_width': 'initial'})\n",
    "field_dd = widgets.Dropdown(options= fieldtypes, value= fieldtypes[3], description='Select Field',\n",
    "                              style= {'description_width': 'max-content'},\n",
    "                           layout= {'width': 'max-content'})\n",
    "\n",
    "def callback(__):\n",
    "    clear_output(wait=True)\n",
    "    main_box.children = [setup_ui, button_run]\n",
    "    display(main_box)\n",
    "    \n",
    "    fraud_df = df2[df2['company'] == company_dd.value]\n",
    "    fig = fraud_barchart(fraud_df, company_dd.value, field_dd.value)\n",
    "    return fig.show()\n",
    "\n",
    "# Show\n",
    "setup_ui = widgets.VBox([company_dd, field_dd])\n",
    "display(setup_ui)\n",
    "\n",
    "button_run = widgets.Button(description='Run')\n",
    "main_box = widgets.VBox([button_run])\n",
    "button_run.on_click(callback)\n",
    "\n",
    "display(main_box)\n",
    "\n",
    "# threedattempt == 1 has 0 fraud"
   ]
  },
  {
   "cell_type": "code",
   "execution_count": null,
   "metadata": {},
   "outputs": [],
   "source": []
  },
  {
   "cell_type": "markdown",
   "metadata": {},
   "source": [
    "## Export dataset"
   ]
  },
  {
   "cell_type": "code",
   "execution_count": 137,
   "metadata": {},
   "outputs": [],
   "source": [
    "# df2.to_csv('dataset_processed.csv')"
   ]
  },
  {
   "cell_type": "code",
   "execution_count": 41,
   "metadata": {},
   "outputs": [],
   "source": []
  },
  {
   "cell_type": "code",
   "execution_count": 55,
   "metadata": {},
   "outputs": [],
   "source": []
  },
  {
   "cell_type": "code",
   "execution_count": null,
   "metadata": {},
   "outputs": [],
   "source": []
  },
  {
   "cell_type": "code",
   "execution_count": null,
   "metadata": {},
   "outputs": [],
   "source": []
  },
  {
   "cell_type": "code",
   "execution_count": null,
   "metadata": {},
   "outputs": [],
   "source": []
  },
  {
   "cell_type": "code",
   "execution_count": null,
   "metadata": {},
   "outputs": [],
   "source": []
  }
 ],
 "metadata": {
  "kernelspec": {
   "display_name": "Python 3",
   "language": "python",
   "name": "python3"
  },
  "language_info": {
   "codemirror_mode": {
    "name": "ipython",
    "version": 3
   },
   "file_extension": ".py",
   "mimetype": "text/x-python",
   "name": "python",
   "nbconvert_exporter": "python",
   "pygments_lexer": "ipython3",
   "version": "3.8.3"
  },
  "toc": {
   "base_numbering": 1,
   "nav_menu": {},
   "number_sections": true,
   "sideBar": true,
   "skip_h1_title": false,
   "title_cell": "Table of Contents",
   "title_sidebar": "Contents",
   "toc_cell": false,
   "toc_position": {},
   "toc_section_display": true,
   "toc_window_display": false
  }
 },
 "nbformat": 4,
 "nbformat_minor": 4
}
