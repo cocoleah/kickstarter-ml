{
 "cells": [
  {
   "cell_type": "markdown",
   "metadata": {},
   "source": [
    "# Preprocessing"
   ]
  },
  {
   "cell_type": "code",
   "execution_count": 60,
   "metadata": {},
   "outputs": [],
   "source": [
    "# import libraries\n",
    "import pandas as pd\n",
    "import numpy as np \n",
    "import datetime as dt\n",
    "import math\n",
    "\n",
    "from sklearn.preprocessing import MinMaxScaler\n",
    "\n",
    "# Visualization \n",
    "import matplotlib.pyplot as plt \n",
    "import seaborn as sns\n",
    "import plotly.graph_objects as go\n",
    "from plotly.subplots import make_subplots\n",
    "from dash import Dash, dcc, html, dash_table\n",
    "from dash.dependencies import Input, Output, State\n",
    "import ipywidgets as widgets\n",
    "from IPython.display import clear_output\n"
   ]
  },
  {
   "cell_type": "code",
   "execution_count": 127,
   "metadata": {},
   "outputs": [
    {
     "data": {
      "text/html": [
       "<div>\n",
       "<style scoped>\n",
       "    .dataframe tbody tr th:only-of-type {\n",
       "        vertical-align: middle;\n",
       "    }\n",
       "\n",
       "    .dataframe tbody tr th {\n",
       "        vertical-align: top;\n",
       "    }\n",
       "\n",
       "    .dataframe thead th {\n",
       "        text-align: right;\n",
       "    }\n",
       "</style>\n",
       "<table border=\"1\" class=\"dataframe\">\n",
       "  <thead>\n",
       "    <tr style=\"text-align: right;\">\n",
       "      <th></th>\n",
       "      <th>Unnamed: 0</th>\n",
       "      <th>pspreference</th>\n",
       "      <th>currencycode</th>\n",
       "      <th>issuercountrycode</th>\n",
       "      <th>bin</th>\n",
       "      <th>creationdate</th>\n",
       "      <th>genericresponse</th>\n",
       "      <th>amount</th>\n",
       "      <th>scheme</th>\n",
       "      <th>merchant</th>\n",
       "      <th>company</th>\n",
       "      <th>acquireraccount</th>\n",
       "      <th>acquirer</th>\n",
       "      <th>journaltype</th>\n",
       "      <th>paymentmethod</th>\n",
       "      <th>approved</th>\n",
       "      <th>refused</th>\n",
       "      <th>received</th>\n",
       "      <th>threedattempt</th>\n",
       "    </tr>\n",
       "  </thead>\n",
       "  <tbody>\n",
       "    <tr>\n",
       "      <th>0</th>\n",
       "      <td>1</td>\n",
       "      <td>psp:89068059460259968</td>\n",
       "      <td>IDR</td>\n",
       "      <td>ID</td>\n",
       "      <td>552695</td>\n",
       "      <td>2017-10-01 18:58:11</td>\n",
       "      <td>APPROVED</td>\n",
       "      <td>1000.0</td>\n",
       "      <td>mastercard</td>\n",
       "      <td>ABC_IDR</td>\n",
       "      <td>ABCLimited</td>\n",
       "      <td>AdyenMasterCardMalaysia_ABC_IDR</td>\n",
       "      <td>AdyenMasterCardMalaysia</td>\n",
       "      <td>Cancelled</td>\n",
       "      <td>commercialcredit</td>\n",
       "      <td>1</td>\n",
       "      <td>0</td>\n",
       "      <td>1</td>\n",
       "      <td>Yes</td>\n",
       "    </tr>\n",
       "    <tr>\n",
       "      <th>1</th>\n",
       "      <td>2</td>\n",
       "      <td>psp:67025064257904888</td>\n",
       "      <td>IDR</td>\n",
       "      <td>ID</td>\n",
       "      <td>547582</td>\n",
       "      <td>2017-10-01 12:47:47</td>\n",
       "      <td>APPROVED</td>\n",
       "      <td>1000.0</td>\n",
       "      <td>mastercard</td>\n",
       "      <td>ABC_IDR</td>\n",
       "      <td>ABCLimited</td>\n",
       "      <td>AdyenMasterCardMalaysia_ABC_IDR</td>\n",
       "      <td>AdyenMasterCardMalaysia</td>\n",
       "      <td>Cancelled</td>\n",
       "      <td>commercialcredit</td>\n",
       "      <td>1</td>\n",
       "      <td>0</td>\n",
       "      <td>1</td>\n",
       "      <td>Yes</td>\n",
       "    </tr>\n",
       "    <tr>\n",
       "      <th>2</th>\n",
       "      <td>3</td>\n",
       "      <td>psp:61362098320387304</td>\n",
       "      <td>IDR</td>\n",
       "      <td>ID</td>\n",
       "      <td>547582</td>\n",
       "      <td>2017-10-01 22:44:06</td>\n",
       "      <td>NOT_3D_AUTHENTICATED</td>\n",
       "      <td>1000.0</td>\n",
       "      <td>mastercard</td>\n",
       "      <td>ABC_IDR</td>\n",
       "      <td>ABCLimited</td>\n",
       "      <td>AdyenMasterCardMalaysia_ABC_IDR</td>\n",
       "      <td>AdyenMasterCardMalaysia</td>\n",
       "      <td>Refused</td>\n",
       "      <td>commercialcredit</td>\n",
       "      <td>0</td>\n",
       "      <td>1</td>\n",
       "      <td>1</td>\n",
       "      <td>Yes</td>\n",
       "    </tr>\n",
       "    <tr>\n",
       "      <th>3</th>\n",
       "      <td>4</td>\n",
       "      <td>psp:78486269968561824</td>\n",
       "      <td>IDR</td>\n",
       "      <td>ID</td>\n",
       "      <td>547582</td>\n",
       "      <td>2017-10-01 22:41:30</td>\n",
       "      <td>NOT_3D_AUTHENTICATED</td>\n",
       "      <td>1000.0</td>\n",
       "      <td>mastercard</td>\n",
       "      <td>ABC_IDR</td>\n",
       "      <td>ABCLimited</td>\n",
       "      <td>AdyenMasterCardMalaysia_ABC_IDR</td>\n",
       "      <td>AdyenMasterCardMalaysia</td>\n",
       "      <td>Refused</td>\n",
       "      <td>commercialcredit</td>\n",
       "      <td>0</td>\n",
       "      <td>1</td>\n",
       "      <td>1</td>\n",
       "      <td>Yes</td>\n",
       "    </tr>\n",
       "    <tr>\n",
       "      <th>4</th>\n",
       "      <td>5</td>\n",
       "      <td>psp:6116164638660848</td>\n",
       "      <td>IDR</td>\n",
       "      <td>KR</td>\n",
       "      <td>558420</td>\n",
       "      <td>2017-10-01 21:56:04</td>\n",
       "      <td>NOT_3D_AUTHENTICATED</td>\n",
       "      <td>1000.0</td>\n",
       "      <td>mastercard</td>\n",
       "      <td>ABC_IDR</td>\n",
       "      <td>ABCLimited</td>\n",
       "      <td>AdyenMasterCardMalaysia_ABC_IDR</td>\n",
       "      <td>AdyenMasterCardMalaysia</td>\n",
       "      <td>Refused</td>\n",
       "      <td>commercialcredit</td>\n",
       "      <td>0</td>\n",
       "      <td>1</td>\n",
       "      <td>1</td>\n",
       "      <td>Yes</td>\n",
       "    </tr>\n",
       "  </tbody>\n",
       "</table>\n",
       "</div>"
      ],
      "text/plain": [
       "   Unnamed: 0           pspreference currencycode issuercountrycode     bin  \\\n",
       "0           1  psp:89068059460259968          IDR                ID  552695   \n",
       "1           2  psp:67025064257904888          IDR                ID  547582   \n",
       "2           3  psp:61362098320387304          IDR                ID  547582   \n",
       "3           4  psp:78486269968561824          IDR                ID  547582   \n",
       "4           5   psp:6116164638660848          IDR                KR  558420   \n",
       "\n",
       "          creationdate       genericresponse  amount      scheme merchant  \\\n",
       "0  2017-10-01 18:58:11              APPROVED  1000.0  mastercard  ABC_IDR   \n",
       "1  2017-10-01 12:47:47              APPROVED  1000.0  mastercard  ABC_IDR   \n",
       "2  2017-10-01 22:44:06  NOT_3D_AUTHENTICATED  1000.0  mastercard  ABC_IDR   \n",
       "3  2017-10-01 22:41:30  NOT_3D_AUTHENTICATED  1000.0  mastercard  ABC_IDR   \n",
       "4  2017-10-01 21:56:04  NOT_3D_AUTHENTICATED  1000.0  mastercard  ABC_IDR   \n",
       "\n",
       "      company                  acquireraccount                 acquirer  \\\n",
       "0  ABCLimited  AdyenMasterCardMalaysia_ABC_IDR  AdyenMasterCardMalaysia   \n",
       "1  ABCLimited  AdyenMasterCardMalaysia_ABC_IDR  AdyenMasterCardMalaysia   \n",
       "2  ABCLimited  AdyenMasterCardMalaysia_ABC_IDR  AdyenMasterCardMalaysia   \n",
       "3  ABCLimited  AdyenMasterCardMalaysia_ABC_IDR  AdyenMasterCardMalaysia   \n",
       "4  ABCLimited  AdyenMasterCardMalaysia_ABC_IDR  AdyenMasterCardMalaysia   \n",
       "\n",
       "  journaltype     paymentmethod  approved  refused  received threedattempt  \n",
       "0   Cancelled  commercialcredit         1        0         1           Yes  \n",
       "1   Cancelled  commercialcredit         1        0         1           Yes  \n",
       "2     Refused  commercialcredit         0        1         1           Yes  \n",
       "3     Refused  commercialcredit         0        1         1           Yes  \n",
       "4     Refused  commercialcredit         0        1         1           Yes  "
      ]
     },
     "execution_count": 127,
     "metadata": {},
     "output_type": "execute_result"
    }
   ],
   "source": [
    "# Import raw data\n",
    "rawdf = pd.read_csv('APAC Data Analytics Case Study.csv')\n",
    "rawdf.head()"
   ]
  },
  {
   "cell_type": "code",
   "execution_count": null,
   "metadata": {},
   "outputs": [],
   "source": []
  },
  {
   "cell_type": "code",
   "execution_count": 3,
   "metadata": {
    "scrolled": false
   },
   "outputs": [
    {
     "name": "stdout",
     "output_type": "stream",
     "text": [
      "pspreference\n",
      "['psp:89068059460259968' 'psp:67025064257904888' 'psp:61362098320387304'\n",
      " ... 'psp:20574157754890620' 'psp:73109800834208720'\n",
      " 'psp:1238853996619582']\n",
      "226868\n",
      "----------------------------------------\n",
      "currencycode\n",
      "['IDR' 'MYR' 'SGD' 'THB']\n",
      "4\n",
      "----------------------------------------\n",
      "issuercountrycode\n",
      "['ID' 'KR' 'IN' 'US' nan 'NL' 'GB' 'MY' 'DE' 'HK' 'SG' 'FR' 'VN' 'TW' 'CN'\n",
      " 'HU' 'CA' 'CL' 'BR' 'AU' 'CZ' 'PH' 'MX' 'RU' 'ES' 'LB' 'AR' 'SA' 'SI'\n",
      " 'ZA' 'JP' 'TR' 'EG' 'TH' 'AE' 'LK' 'NO' 'CO' 'PK' 'BN' 'KE' 'SE' 'QA'\n",
      " 'KW' 'NZ' 'AT' 'SR' 'IT' 'CH' 'KH' 'MO' 'BE' 'PL' 'DK' 'IE' 'BY' 'CR'\n",
      " 'NG' 'EE' 'FI' 'PE' 'IL' 'LV' 'UA' 'BG' 'EC' 'KZ' 'PR' 'SO' 'BZ' 'TC'\n",
      " 'PA' 'LT' 'OM' 'PT' 'JO' 'MM' 'BD' 'DO' 'RS' 'RO' 'HR' 'AM' 'LU' 'UY'\n",
      " 'FJ' 'SK' 'MT' 'BB' 'HN' 'GI' 'PY' 'JM' 'SV' 'ZM' 'MU' 'BM' 'AF' 'MV'\n",
      " 'TJ' 'IS' 'SM' 'MN' 'LA' 'AD' 'TT' 'VE' 'BH' 'GT' 'KG' 'GR' 'UZ' 'AG'\n",
      " 'TZ' 'BA' 'CY' 'KM' 'GE']\n",
      "118\n",
      "----------------------------------------\n",
      "bin\n",
      "[552695 547582 558420 ... 557722 420003 472752]\n",
      "3980\n",
      "----------------------------------------\n",
      "creationdate\n",
      "['2017-10-01 18:58:11' '2017-10-01 12:47:47' '2017-10-01 22:44:06' ...\n",
      " '2017-10-31 08:25:10' '2017-10-31 17:49:14' '2017-10-31 03:32:13']\n",
      "192593\n",
      "----------------------------------------\n",
      "genericresponse\n",
      "['APPROVED' 'NOT_3D_AUTHENTICATED' 'DECLINED' 'CVC_DECLINED' 'ERROR'\n",
      " 'FRAUD' 'TRANSACTION_NOT_PERMITTED' 'NOT_ENOUGH_BALANCE'\n",
      " 'ISSUER_UNAVAILABLE' 'CARD_EXPIRED' 'BLOCK_CARD' 'INVALID_CARD' 'UNKNOWN'\n",
      " 'REFERRAL']\n",
      "14\n",
      "----------------------------------------\n",
      "amount\n",
      "[ 1000. 30000. 16000. ...  1835. 34425. 53400.]\n",
      "2007\n",
      "----------------------------------------\n",
      "scheme\n",
      "['mastercard' 'visa']\n",
      "2\n",
      "----------------------------------------\n",
      "merchant\n",
      "['ABC_IDR' 'ABC_MYR' 'ABC_SGD' 'DEF_IDR' 'DEF_SGD' 'DEF_THB' 'XYZ_IDR'\n",
      " 'XYZ_MYR' 'XYZ_SGD' 'XYZ_THB']\n",
      "10\n",
      "----------------------------------------\n",
      "company\n",
      "['ABCLimited' 'DEFLimited' 'XYZLimited']\n",
      "3\n",
      "----------------------------------------\n",
      "acquireraccount\n",
      "['AdyenMasterCardMalaysia_ABC_IDR' 'AdyenMasterCardSingapore_ABC_IDR'\n",
      " 'AdyenVisaMalaysia_ABC_IDR' 'AdyenVisaSingapore_ABC_IDR'\n",
      " 'RefusedRiskAcquirerAccount' 'AdyenMasterCardMalaysia_ABC_MYR'\n",
      " 'AdyenVisaMalaysia_ABC_MYR' 'AdyenMasterCardSingapore_ABC_SGD'\n",
      " 'AdyenVisaSingapore_ABC_SGD' 'AdyenMasterCardEurope_DEF_IDR'\n",
      " 'AdyenVisaEurope_DEF_IDR' 'AdyenMasterCardSingapore_DEF_SGD'\n",
      " 'AdyenVisaSingapore_DEF_SGD' 'AdyenMasterCardSingapore_DEF_THB'\n",
      " 'AdyenVisaSingapore_DEF_THB' 'AdyenMasterCardMalaysia_XYZ_IDR'\n",
      " 'AdyenVisaMalaysia_XYZ_IDR' 'AdyenMasterCardMalaysia_XYZ_MYR'\n",
      " 'AdyenVisaMalaysia_XYZ_MYR' 'AdyenMasterCardSingapore_XYZ_SGD'\n",
      " 'AdyenVisaSingapore_XYZ_SGD' 'AdyenMasterCardEurope_XYZ_THB'\n",
      " 'AdyenVisaEurope_XYZ_THB']\n",
      "23\n",
      "----------------------------------------\n",
      "acquirer\n",
      "['AdyenMasterCardMalaysia' 'AdyenMasterCardSingapore' 'AdyenVisaMalaysia'\n",
      " 'AdyenVisaSingapore' 'RefusedAcquirer' 'AdyenMasterCardEurope'\n",
      " 'AdyenVisaEurope']\n",
      "7\n",
      "----------------------------------------\n",
      "journaltype\n",
      "['Cancelled' 'Refused' 'SettledExternally' 'Error' 'RefundedExternally'\n",
      " 'Settled' 'Refunded' 'Expired' 'CaptureFailed' 'RefundFailed'\n",
      " 'Authorised' 'SentForSettle' 'SentForRefund' 'SettledBulk']\n",
      "14\n",
      "----------------------------------------\n",
      "paymentmethod\n",
      "['commercialcredit' 'commercialdebit' 'credit' 'debit' 'premiumcredit'\n",
      " 'standardcredit' 'standarddebit' 'superpremiumcredit' 'fleetcredit'\n",
      " 'superpremiumdebit' 'commercialsuperpremiumcredit' 'corporatecredit'\n",
      " 'premiumdebit' 'commercialpremiumcredit' 'purchasingcredit'\n",
      " 'commercialpremiumdebit' 'corporatedebit' 'proprietary']\n",
      "18\n",
      "----------------------------------------\n",
      "approved\n",
      "[1 0]\n",
      "2\n",
      "----------------------------------------\n",
      "refused\n",
      "[0 1]\n",
      "2\n",
      "----------------------------------------\n",
      "threedattempt\n",
      "['Yes' 'No']\n",
      "2\n",
      "----------------------------------------\n"
     ]
    }
   ],
   "source": [
    "for col in rawdf:\n",
    "    print(col)\n",
    "    print(rawdf[col].unique())\n",
    "    print(len(rawdf[col].unique()))\n",
    "    print('----------------------------------------')\n",
    "    \n",
    "# assume all merchants have no relation to each other, therefore cant cross compare across merchants in the market / conduct market analysis "
   ]
  },
  {
   "cell_type": "markdown",
   "metadata": {},
   "source": [
    "## Data Cleaning"
   ]
  },
  {
   "cell_type": "code",
   "execution_count": 380,
   "metadata": {},
   "outputs": [],
   "source": [
    "df = rawdf.copy() \n",
    "df = df.drop(['Unnamed: 0', 'received'], axis=1)\n",
    "\n",
    "df['issuercountrycode'] = np.where(df['issuercountrycode'].isna(), 'unspecified', df['issuercountrycode'])"
   ]
  },
  {
   "cell_type": "markdown",
   "metadata": {},
   "source": [
    "## Feature Engineering"
   ]
  },
  {
   "cell_type": "code",
   "execution_count": 381,
   "metadata": {},
   "outputs": [],
   "source": [
    "# Combine approve and refused columns into a boolean field\n",
    "df['is_approved'] = np.where(df['approved'] ==1, 1, 0) # 1= approved, 0 = refused\n",
    "\n",
    "# Identify FRAUD transactions (boolean field)\n",
    "df['is_fraud'] = np.where(df['genericresponse'] == 'FRAUD', 1, 0)\n",
    "\n",
    "# Change threedattempt into boolean field\n",
    "df['threedattempt'] = np.where(df['threedattempt'] == 'Yes', 1, 0) #1= Ready to support native 3D Secure 2 authentication\n",
    "\n",
    "# Time & Day\n",
    "df['date_time'] = pd.to_datetime(df['creationdate'])\n",
    "df['date'] = df['date_time'].dt.date\n",
    "df['day'] = df['date_time'].dt.day_name()\n",
    "df['weektype'] = np.where(df['day'].isin(['Saturday', 'Sunday']), 'weekend', 'weekday')\n",
    "\n",
    "df['hour'] = df['date_time'].dt.hour\n",
    "df['timeofday'] = np.where(df['hour'].isin(np.arange(6, 12)), 'day', \n",
    "                          np.where(df['hour'].isin(np.arange(12, 18)), 'afternoon', \n",
    "                          np.where(df['hour'].isin(np.arange(18, 24)), 'night', \n",
    "                          np.where(df['hour'].isin(np.arange(0, 6)), 'latenight', \n",
    "                          'unspecified'))))\n",
    "\n",
    "# Transaction type: shopper type\n",
    "df['domestic_shopper'] = np.where(df['currencycode'].str[:2] == df['issuercountrycode'], 1, 0)"
   ]
  },
  {
   "cell_type": "code",
   "execution_count": 382,
   "metadata": {},
   "outputs": [],
   "source": [
    "# Payment method by card type\n",
    "normal = ['credit', 'debit', 'standardcredit', 'standarddebit']\n",
    "premium = ['premiumcredit', 'premiumdebit', 'superpremiumcredit', 'superpremiumdebit']\n",
    "commercial = ['commercialcredit', 'commercialdebit', 'commercialpremiumcredit', 'commercialpremiumdebit', 'commercialsuperpremiumcredit']\n",
    "corporate = ['corporatecredit', 'corporatedebit', 'fleetcredit', 'purchasingcredit', 'proprietary']\n",
    "\n",
    "df['cardtype'] = np.where(df['paymentmethod'].isin(normal), 'normal', \n",
    "                          np.where(df['paymentmethod'].isin(premium), 'premium', \n",
    "                          np.where(df['paymentmethod'].isin(commercial), 'commercial', \n",
    "                          np.where(df['paymentmethod'].isin(corporate), 'corporate', \n",
    "                          'unspecified'))))\n",
    "\n",
    "# Payment method by payment card\n",
    "df['debit_credit'] = np.where(df['paymentmethod'].str.contains('credit'), 'credit', \n",
    "                          np.where(df['paymentmethod'].str.contains('debit'), 'debit',\n",
    "                          'proprietary'))"
   ]
  },
  {
   "cell_type": "code",
   "execution_count": 383,
   "metadata": {},
   "outputs": [],
   "source": [
    "# Categorize journal type\n",
    "captured =['Authorised', 'SettledExternally', 'Settled', 'SentForSettle', 'SettledBulk']\n",
    "tryagain =['Cancelled', 'Expired', 'CaptureFailed']\n",
    "refunds =['RefundedExternally', 'Refunded', 'RefundFailed', 'SentForRefund']\n",
    "refused =['Refused', 'Error'] # there are no refused journal type under genericersponse == Approved\n",
    "\n",
    "df['journalcat'] = np.where(df['journaltype'].isin(captured), 'captured', \n",
    "                          np.where(df['journaltype'].isin(tryagain), 'tryagain', \n",
    "                          np.where(df['journaltype'].isin(refunds), 'refunds', \n",
    "                          np.where(df['journaltype'].isin(refused), 'refused', \n",
    "                          'unspecified'))))"
   ]
  },
  {
   "cell_type": "code",
   "execution_count": 384,
   "metadata": {},
   "outputs": [
    {
     "name": "stdout",
     "output_type": "stream",
     "text": [
      "Index(['IDR', 'MYR', 'SGD', 'THB'], dtype='object')\n"
     ]
    },
    {
     "data": {
      "image/png": "[encoded data removed]",
      "text/plain": [
       "<Figure size 1080x216 with 4 Axes>"
      ]
     },
     "metadata": {
      "needs_background": "light"
     },
     "output_type": "display_data"
    }
   ],
   "source": [
    "# Convert all amount to USD for standardization \n",
    "\n",
    "# Import fx rate data\n",
    "fxdf = pd.read_csv('currency.csv')\n",
    "fxdf['date'] = pd.to_datetime(fxdf['date'])\n",
    "\n",
    "currencies = fxdf.columns[1:]\n",
    "print(currencies)\n",
    "\n",
    "fig, axs = plt.subplots(1, 4, figsize=(15, 3))\n",
    "ind = 0\n",
    "while ind < 4:\n",
    "    axs[ind].plot(np.array(fxdf['date']) , np.array(fxdf[currencies[ind]]), label = currencies[ind])\n",
    "    axs[ind].title.set_text('USD' +currencies[ind])\n",
    "    axs[ind].tick_params(labelrotation=90)\n",
    "    ind += 1\n",
    "    \n",
    "plt.tight_layout()\n",
    "plt.show()"
   ]
  },
  {
   "cell_type": "code",
   "execution_count": 385,
   "metadata": {},
   "outputs": [],
   "source": [
    "# Melt fx data \n",
    "fxdf_melt = pd.melt(fxdf, id_vars =['date'], value_vars = fxdf.columns[1:]).dropna()\n",
    "fxdf_melt['date'] = fxdf_melt['date'].apply(lambda x: x.strftime('%Y-%m-%d'))\n",
    "fxdf_melt.columns = ['date_str', 'currencycode', 'fx_rate']\n",
    "\n",
    "# Merge fx data into main df on date and currency\n",
    "df['date_str'] = df['date'].apply(lambda x: x.strftime('%Y-%m-%d'))\n",
    "df2 = pd.merge(df, fxdf_melt, how='left', on=['date_str', 'currencycode'])\n",
    "\n",
    "# Get amount spent in standardized currency: USD\n",
    "df2['amount_usd'] = df2['amount'] / df2['fx_rate']"
   ]
  },
  {
   "cell_type": "code",
   "execution_count": 386,
   "metadata": {},
   "outputs": [
    {
     "data": {
      "text/html": [
       "<div>\n",
       "<style scoped>\n",
       "    .dataframe tbody tr th:only-of-type {\n",
       "        vertical-align: middle;\n",
       "    }\n",
       "\n",
       "    .dataframe tbody tr th {\n",
       "        vertical-align: top;\n",
       "    }\n",
       "\n",
       "    .dataframe thead th {\n",
       "        text-align: right;\n",
       "    }\n",
       "</style>\n",
       "<table border=\"1\" class=\"dataframe\">\n",
       "  <thead>\n",
       "    <tr style=\"text-align: right;\">\n",
       "      <th></th>\n",
       "      <th>amount_bin</th>\n",
       "      <th>pspreference</th>\n",
       "    </tr>\n",
       "  </thead>\n",
       "  <tbody>\n",
       "    <tr>\n",
       "      <th>0</th>\n",
       "      <td>micro</td>\n",
       "      <td>64290</td>\n",
       "    </tr>\n",
       "    <tr>\n",
       "      <th>1</th>\n",
       "      <td>small</td>\n",
       "      <td>69075</td>\n",
       "    </tr>\n",
       "    <tr>\n",
       "      <th>2</th>\n",
       "      <td>average</td>\n",
       "      <td>38947</td>\n",
       "    </tr>\n",
       "    <tr>\n",
       "      <th>3</th>\n",
       "      <td>large</td>\n",
       "      <td>54364</td>\n",
       "    </tr>\n",
       "    <tr>\n",
       "      <th>4</th>\n",
       "      <td>massive</td>\n",
       "      <td>192</td>\n",
       "    </tr>\n",
       "  </tbody>\n",
       "</table>\n",
       "</div>"
      ],
      "text/plain": [
       "  amount_bin  pspreference\n",
       "0      micro         64290\n",
       "1      small         69075\n",
       "2    average         38947\n",
       "3      large         54364\n",
       "4    massive           192"
      ]
     },
     "metadata": {},
     "output_type": "display_data"
    },
    {
     "data": {
      "text/plain": [
       "<BarContainer object of 5 artists>"
      ]
     },
     "execution_count": 386,
     "metadata": {},
     "output_type": "execute_result"
    },
    {
     "data": {
      "image/png": "[encoded data removed]",
      "text/plain": [
       "<Figure size 432x288 with 1 Axes>"
      ]
     },
     "metadata": {
      "needs_background": "light"
     },
     "output_type": "display_data"
    }
   ],
   "source": [
    "# Bin amount into sizes\n",
    "df2['amount_bin'] =  pd.cut(df2['amount_usd'] , bins=[0.0, 1.0, 25, 500, 10000, 100000], \n",
    "                            labels= ['micro', 'small', 'average', 'large', 'massive']) # Ballparked bins based on 25%, 50% and 75%\n",
    "t1 = df2.groupby(['amount_bin'])['pspreference'].count().reset_index()\n",
    "display(t1)\n",
    "plt.title('Number of Transactions, by Size of Amount')\n",
    "plt.bar(t1.amount_bin.astype(str), t1.pspreference)"
   ]
  },
  {
   "cell_type": "code",
   "execution_count": 387,
   "metadata": {},
   "outputs": [
    {
     "data": {
      "text/html": [
       "<div>\n",
       "<style scoped>\n",
       "    .dataframe tbody tr th:only-of-type {\n",
       "        vertical-align: middle;\n",
       "    }\n",
       "\n",
       "    .dataframe tbody tr th {\n",
       "        vertical-align: top;\n",
       "    }\n",
       "\n",
       "    .dataframe thead th {\n",
       "        text-align: right;\n",
       "    }\n",
       "</style>\n",
       "<table border=\"1\" class=\"dataframe\">\n",
       "  <thead>\n",
       "    <tr style=\"text-align: right;\">\n",
       "      <th></th>\n",
       "      <th>pspreference</th>\n",
       "      <th>currencycode</th>\n",
       "      <th>issuercountrycode</th>\n",
       "      <th>bin</th>\n",
       "      <th>genericresponse</th>\n",
       "      <th>scheme</th>\n",
       "      <th>merchant</th>\n",
       "      <th>company</th>\n",
       "      <th>acquireraccount</th>\n",
       "      <th>acquirer</th>\n",
       "      <th>...</th>\n",
       "      <th>date</th>\n",
       "      <th>day</th>\n",
       "      <th>weektype</th>\n",
       "      <th>timeofday</th>\n",
       "      <th>domestic_shopper</th>\n",
       "      <th>cardtype</th>\n",
       "      <th>debit_credit</th>\n",
       "      <th>journalcat</th>\n",
       "      <th>amount_usd</th>\n",
       "      <th>amount_bin</th>\n",
       "    </tr>\n",
       "  </thead>\n",
       "  <tbody>\n",
       "    <tr>\n",
       "      <th>91735</th>\n",
       "      <td>psp:28523170063272120</td>\n",
       "      <td>IDR</td>\n",
       "      <td>ID</td>\n",
       "      <td>524169</td>\n",
       "      <td>APPROVED</td>\n",
       "      <td>mastercard</td>\n",
       "      <td>XYZ_IDR</td>\n",
       "      <td>XYZLimited</td>\n",
       "      <td>AdyenMasterCardMalaysia_XYZ_IDR</td>\n",
       "      <td>AdyenMasterCardMalaysia</td>\n",
       "      <td>...</td>\n",
       "      <td>2017-10-13</td>\n",
       "      <td>Friday</td>\n",
       "      <td>weekday</td>\n",
       "      <td>day</td>\n",
       "      <td>1</td>\n",
       "      <td>normal</td>\n",
       "      <td>credit</td>\n",
       "      <td>captured</td>\n",
       "      <td>0.518557</td>\n",
       "      <td>micro</td>\n",
       "    </tr>\n",
       "    <tr>\n",
       "      <th>106045</th>\n",
       "      <td>psp:52301585371606048</td>\n",
       "      <td>IDR</td>\n",
       "      <td>ID</td>\n",
       "      <td>466160</td>\n",
       "      <td>APPROVED</td>\n",
       "      <td>visa</td>\n",
       "      <td>XYZ_IDR</td>\n",
       "      <td>XYZLimited</td>\n",
       "      <td>AdyenVisaMalaysia_XYZ_IDR</td>\n",
       "      <td>AdyenVisaMalaysia</td>\n",
       "      <td>...</td>\n",
       "      <td>2017-10-15</td>\n",
       "      <td>Sunday</td>\n",
       "      <td>weekend</td>\n",
       "      <td>day</td>\n",
       "      <td>1</td>\n",
       "      <td>normal</td>\n",
       "      <td>debit</td>\n",
       "      <td>captured</td>\n",
       "      <td>0.592636</td>\n",
       "      <td>micro</td>\n",
       "    </tr>\n",
       "    <tr>\n",
       "      <th>54399</th>\n",
       "      <td>psp:56005807872861624</td>\n",
       "      <td>SGD</td>\n",
       "      <td>SG</td>\n",
       "      <td>452419</td>\n",
       "      <td>FRAUD</td>\n",
       "      <td>visa</td>\n",
       "      <td>DEF_SGD</td>\n",
       "      <td>DEFLimited</td>\n",
       "      <td>RefusedRiskAcquirerAccount</td>\n",
       "      <td>RefusedAcquirer</td>\n",
       "      <td>...</td>\n",
       "      <td>2017-10-08</td>\n",
       "      <td>Sunday</td>\n",
       "      <td>weekend</td>\n",
       "      <td>day</td>\n",
       "      <td>1</td>\n",
       "      <td>premium</td>\n",
       "      <td>credit</td>\n",
       "      <td>refused</td>\n",
       "      <td>3663.003663</td>\n",
       "      <td>large</td>\n",
       "    </tr>\n",
       "    <tr>\n",
       "      <th>200012</th>\n",
       "      <td>psp:50099505623802544</td>\n",
       "      <td>MYR</td>\n",
       "      <td>MY</td>\n",
       "      <td>428332</td>\n",
       "      <td>APPROVED</td>\n",
       "      <td>visa</td>\n",
       "      <td>ABC_MYR</td>\n",
       "      <td>ABCLimited</td>\n",
       "      <td>AdyenVisaMalaysia_ABC_MYR</td>\n",
       "      <td>AdyenVisaMalaysia</td>\n",
       "      <td>...</td>\n",
       "      <td>2017-10-28</td>\n",
       "      <td>Saturday</td>\n",
       "      <td>weekend</td>\n",
       "      <td>afternoon</td>\n",
       "      <td>1</td>\n",
       "      <td>normal</td>\n",
       "      <td>debit</td>\n",
       "      <td>tryagain</td>\n",
       "      <td>23.573786</td>\n",
       "      <td>small</td>\n",
       "    </tr>\n",
       "    <tr>\n",
       "      <th>135300</th>\n",
       "      <td>psp:57395364390686152</td>\n",
       "      <td>IDR</td>\n",
       "      <td>ID</td>\n",
       "      <td>524325</td>\n",
       "      <td>APPROVED</td>\n",
       "      <td>mastercard</td>\n",
       "      <td>XYZ_IDR</td>\n",
       "      <td>XYZLimited</td>\n",
       "      <td>AdyenMasterCardMalaysia_XYZ_IDR</td>\n",
       "      <td>AdyenMasterCardMalaysia</td>\n",
       "      <td>...</td>\n",
       "      <td>2017-10-19</td>\n",
       "      <td>Thursday</td>\n",
       "      <td>weekday</td>\n",
       "      <td>afternoon</td>\n",
       "      <td>1</td>\n",
       "      <td>normal</td>\n",
       "      <td>credit</td>\n",
       "      <td>captured</td>\n",
       "      <td>3.254679</td>\n",
       "      <td>small</td>\n",
       "    </tr>\n",
       "  </tbody>\n",
       "</table>\n",
       "<p>5 rows × 26 columns</p>\n",
       "</div>"
      ],
      "text/plain": [
       "                 pspreference currencycode issuercountrycode     bin  \\\n",
       "91735   psp:28523170063272120          IDR                ID  524169   \n",
       "106045  psp:52301585371606048          IDR                ID  466160   \n",
       "54399   psp:56005807872861624          SGD                SG  452419   \n",
       "200012  psp:50099505623802544          MYR                MY  428332   \n",
       "135300  psp:57395364390686152          IDR                ID  524325   \n",
       "\n",
       "       genericresponse      scheme merchant     company  \\\n",
       "91735         APPROVED  mastercard  XYZ_IDR  XYZLimited   \n",
       "106045        APPROVED        visa  XYZ_IDR  XYZLimited   \n",
       "54399            FRAUD        visa  DEF_SGD  DEFLimited   \n",
       "200012        APPROVED        visa  ABC_MYR  ABCLimited   \n",
       "135300        APPROVED  mastercard  XYZ_IDR  XYZLimited   \n",
       "\n",
       "                        acquireraccount                 acquirer  ...  \\\n",
       "91735   AdyenMasterCardMalaysia_XYZ_IDR  AdyenMasterCardMalaysia  ...   \n",
       "106045        AdyenVisaMalaysia_XYZ_IDR        AdyenVisaMalaysia  ...   \n",
       "54399        RefusedRiskAcquirerAccount          RefusedAcquirer  ...   \n",
       "200012        AdyenVisaMalaysia_ABC_MYR        AdyenVisaMalaysia  ...   \n",
       "135300  AdyenMasterCardMalaysia_XYZ_IDR  AdyenMasterCardMalaysia  ...   \n",
       "\n",
       "              date       day  weektype  timeofday  domestic_shopper cardtype  \\\n",
       "91735   2017-10-13    Friday   weekday        day                 1   normal   \n",
       "106045  2017-10-15    Sunday   weekend        day                 1   normal   \n",
       "54399   2017-10-08    Sunday   weekend        day                 1  premium   \n",
       "200012  2017-10-28  Saturday   weekend  afternoon                 1   normal   \n",
       "135300  2017-10-19  Thursday   weekday  afternoon                 1   normal   \n",
       "\n",
       "       debit_credit journalcat   amount_usd amount_bin  \n",
       "91735        credit   captured     0.518557      micro  \n",
       "106045        debit   captured     0.592636      micro  \n",
       "54399        credit    refused  3663.003663      large  \n",
       "200012        debit   tryagain    23.573786      small  \n",
       "135300       credit   captured     3.254679      small  \n",
       "\n",
       "[5 rows x 26 columns]"
      ]
     },
     "execution_count": 387,
     "metadata": {},
     "output_type": "execute_result"
    }
   ],
   "source": [
    "# Drop irrelevant columns\n",
    "df2 = df2.drop(['amount', 'date_str', 'approved', 'refused', 'fx_rate', 'hour', 'creationdate'], axis =1) # fx rate is for standardization only, assume merchant does not bear any fx loss\n",
    "df2.sample(5)"
   ]
  },
  {
   "cell_type": "code",
   "execution_count": null,
   "metadata": {},
   "outputs": [],
   "source": []
  },
  {
   "cell_type": "markdown",
   "metadata": {},
   "source": [
    "# EDA"
   ]
  },
  {
   "cell_type": "markdown",
   "metadata": {},
   "source": [
    "## Descriptive Summary"
   ]
  },
  {
   "cell_type": "code",
   "execution_count": 388,
   "metadata": {},
   "outputs": [
    {
     "data": {
      "text/html": [
       "<div>\n",
       "<style scoped>\n",
       "    .dataframe tbody tr th:only-of-type {\n",
       "        vertical-align: middle;\n",
       "    }\n",
       "\n",
       "    .dataframe tbody tr th {\n",
       "        vertical-align: top;\n",
       "    }\n",
       "\n",
       "    .dataframe thead th {\n",
       "        text-align: right;\n",
       "    }\n",
       "</style>\n",
       "<table border=\"1\" class=\"dataframe\">\n",
       "  <thead>\n",
       "    <tr style=\"text-align: right;\">\n",
       "      <th></th>\n",
       "      <th>bin</th>\n",
       "      <th>threedattempt</th>\n",
       "      <th>is_approved</th>\n",
       "      <th>is_fraud</th>\n",
       "      <th>domestic_shopper</th>\n",
       "      <th>amount_usd</th>\n",
       "    </tr>\n",
       "  </thead>\n",
       "  <tbody>\n",
       "    <tr>\n",
       "      <th>count</th>\n",
       "      <td>226868.000000</td>\n",
       "      <td>226868.000000</td>\n",
       "      <td>226868.000000</td>\n",
       "      <td>226868.000000</td>\n",
       "      <td>226868.000000</td>\n",
       "      <td>226868.000000</td>\n",
       "    </tr>\n",
       "    <tr>\n",
       "      <th>mean</th>\n",
       "      <td>491153.083432</td>\n",
       "      <td>0.429999</td>\n",
       "      <td>0.882275</td>\n",
       "      <td>0.080170</td>\n",
       "      <td>0.861408</td>\n",
       "      <td>531.510847</td>\n",
       "    </tr>\n",
       "    <tr>\n",
       "      <th>std</th>\n",
       "      <td>50233.273537</td>\n",
       "      <td>0.495077</td>\n",
       "      <td>0.322283</td>\n",
       "      <td>0.271557</td>\n",
       "      <td>0.345521</td>\n",
       "      <td>1292.215587</td>\n",
       "    </tr>\n",
       "    <tr>\n",
       "      <th>min</th>\n",
       "      <td>400000.000000</td>\n",
       "      <td>0.000000</td>\n",
       "      <td>0.000000</td>\n",
       "      <td>0.000000</td>\n",
       "      <td>0.000000</td>\n",
       "      <td>0.036716</td>\n",
       "    </tr>\n",
       "    <tr>\n",
       "      <th>25%</th>\n",
       "      <td>450824.000000</td>\n",
       "      <td>0.000000</td>\n",
       "      <td>1.000000</td>\n",
       "      <td>0.000000</td>\n",
       "      <td>1.000000</td>\n",
       "      <td>0.665779</td>\n",
       "    </tr>\n",
       "    <tr>\n",
       "      <th>50%</th>\n",
       "      <td>498001.000000</td>\n",
       "      <td>0.000000</td>\n",
       "      <td>1.000000</td>\n",
       "      <td>0.000000</td>\n",
       "      <td>1.000000</td>\n",
       "      <td>23.615539</td>\n",
       "    </tr>\n",
       "    <tr>\n",
       "      <th>75%</th>\n",
       "      <td>540912.000000</td>\n",
       "      <td>1.000000</td>\n",
       "      <td>1.000000</td>\n",
       "      <td>0.000000</td>\n",
       "      <td>1.000000</td>\n",
       "      <td>444.005929</td>\n",
       "    </tr>\n",
       "    <tr>\n",
       "      <th>max</th>\n",
       "      <td>591882.000000</td>\n",
       "      <td>1.000000</td>\n",
       "      <td>1.000000</td>\n",
       "      <td>1.000000</td>\n",
       "      <td>1.000000</td>\n",
       "      <td>73364.177132</td>\n",
       "    </tr>\n",
       "  </tbody>\n",
       "</table>\n",
       "</div>"
      ],
      "text/plain": [
       "                 bin  threedattempt    is_approved       is_fraud  \\\n",
       "count  226868.000000  226868.000000  226868.000000  226868.000000   \n",
       "mean   491153.083432       0.429999       0.882275       0.080170   \n",
       "std     50233.273537       0.495077       0.322283       0.271557   \n",
       "min    400000.000000       0.000000       0.000000       0.000000   \n",
       "25%    450824.000000       0.000000       1.000000       0.000000   \n",
       "50%    498001.000000       0.000000       1.000000       0.000000   \n",
       "75%    540912.000000       1.000000       1.000000       0.000000   \n",
       "max    591882.000000       1.000000       1.000000       1.000000   \n",
       "\n",
       "       domestic_shopper     amount_usd  \n",
       "count     226868.000000  226868.000000  \n",
       "mean           0.861408     531.510847  \n",
       "std            0.345521    1292.215587  \n",
       "min            0.000000       0.036716  \n",
       "25%            1.000000       0.665779  \n",
       "50%            1.000000      23.615539  \n",
       "75%            1.000000     444.005929  \n",
       "max            1.000000   73364.177132  "
      ]
     },
     "execution_count": 388,
     "metadata": {},
     "output_type": "execute_result"
    }
   ],
   "source": [
    "# Lists\n",
    "companies = np.unique(df2.company)\n",
    "dates = np.unique(df2.date)\n",
    "days = np.unique(df2.day)\n",
    "cards = np.unique(df2.cardtype)\n",
    "schemes = np.unique(df2.scheme)\n",
    "journals = list(np.unique(df2.journalcat)) + ['All']\n",
    "\n",
    "# List of fields available to filter on\n",
    "fieldtypes = [elem for elem in df2.columns if elem not in ['pspreference', 'bin', 'company', 'amount_usd', 'date_time', 'date']]\n",
    "fieldtypes = sorted(fieldtypes)\n",
    "\n",
    "# Summary statistics\n",
    "df2.describe()\n",
    "# df2.loc[:, ~df2.columns.isin(['pspreference', 'creationdate', 'amount'])].apply(lambda x : pd.factorize(x)[0]).corr(method='pearson', min_periods=1).style.background_gradient(cmap='coolwarm')"
   ]
  },
  {
   "cell_type": "code",
   "execution_count": 389,
   "metadata": {},
   "outputs": [
    {
     "name": "stderr",
     "output_type": "stream",
     "text": [
      "<ipython-input-389-36ff1664efd4>:3: UserWarning:\n",
      "\n",
      "To output multiple subplots, the figure containing the passed axes is being cleared\n",
      "\n"
     ]
    },
    {
     "data": {
      "image/png": "[encoded data removed]",
      "text/plain": [
       "<Figure size 1080x720 with 6 Axes>"
      ]
     },
     "metadata": {
      "needs_background": "light"
     },
     "output_type": "display_data"
    }
   ],
   "source": [
    "fig = plt.figure(figsize = (15,10))\n",
    "ax = fig.gca()\n",
    "df2.hist(ax = ax);"
   ]
  },
  {
   "cell_type": "markdown",
   "metadata": {},
   "source": [
    "## Transaction flow (sankey)"
   ]
  },
  {
   "cell_type": "code",
   "execution_count": 390,
   "metadata": {},
   "outputs": [],
   "source": [
    "def genSankey(df,cat_cols=[],value_cols='',title='Sankey Diagram'):\n",
    "    # maximum of 6 cat cols -> 6 colors\n",
    "    colorPalette = ['#4B8BBE','#309871','#FFE873','#FFD43B','#646464']\n",
    "    labelList = []\n",
    "    colorNumList = []\n",
    "    for catCol in cat_cols:\n",
    "        labelListTemp =  list(set(df[catCol].values))\n",
    "        colorNumList.append(len(labelListTemp))\n",
    "        labelList = labelList + labelListTemp\n",
    "#         labelList = [str(i) for i in labelList]\n",
    "        \n",
    "    # remove duplicates from labelList\n",
    "    labelList = list(dict.fromkeys(labelList))\n",
    "    \n",
    "    # define colors based on number of levels\n",
    "    colorList = []\n",
    "    for idx, colorNum in enumerate(colorNumList):\n",
    "        colorList = colorList + [colorPalette[idx]]*colorNum\n",
    "        \n",
    "    # transform df into a source-target pair\n",
    "    for i in range(len(cat_cols)-1):\n",
    "        if i==0:\n",
    "            sourceTargetDf = df[[cat_cols[i],cat_cols[i+1],value_cols]]\n",
    "            sourceTargetDf.columns = ['source','target','count']\n",
    "        else:\n",
    "            tempDf = df[[cat_cols[i],cat_cols[i+1],value_cols]]\n",
    "            tempDf.columns = ['source','target','count']\n",
    "            sourceTargetDf = pd.concat([sourceTargetDf,tempDf])\n",
    "        sourceTargetDf = sourceTargetDf.groupby(['source','target']).agg({'count':'sum'}).reset_index()\n",
    "        \n",
    "    # add index for source-target pair\n",
    "    sourceTargetDf['sourceID'] = sourceTargetDf['source'].apply(lambda x: labelList.index(x))\n",
    "    sourceTargetDf['targetID'] = sourceTargetDf['target'].apply(lambda x: labelList.index(x))\n",
    "    \n",
    "    # creating the sankey diagram\n",
    "    data = dict(\n",
    "        type='sankey',\n",
    "        node = dict(\n",
    "          pad = 15,\n",
    "          thickness = 20,\n",
    "          line = dict(\n",
    "            color = \"black\",\n",
    "            width = 0.5\n",
    "          ),\n",
    "          label = labelList,\n",
    "          color = colorList\n",
    "        ),\n",
    "        link = dict(\n",
    "          source = sourceTargetDf['sourceID'],\n",
    "          target = sourceTargetDf['targetID'],\n",
    "          value = sourceTargetDf['count']\n",
    "        )\n",
    "      )\n",
    "    \n",
    "    layout =  dict(\n",
    "        title = title,\n",
    "        font = dict(\n",
    "          size = 10\n",
    "        )\n",
    "    )\n",
    "       \n",
    "    fig = go.Figure(data= dict(data=[data], layout=layout))\n",
    "    return fig\n",
    "\n",
    "\n",
    "# # Test\n",
    "# company_dd = 'ABCLimited' \n",
    "# field1_dd = 'is_approved'\n",
    "# field2_dd = 'merchant'\n",
    "# field3_dd = 'journaltype'\n",
    "\n",
    "# df_view = df2[df2['company'] == company_dd]\n",
    "# fig = genSankey(df_view, cat_cols = [field1_dd, field2_dd, field3_dd], \n",
    "#             value_cols='amount_usd', title=f'TPV flow of {company_dd}')\n",
    "# fig.show()"
   ]
  },
  {
   "cell_type": "code",
   "execution_count": 391,
   "metadata": {},
   "outputs": [
    {
     "data": {
      "application/vnd.jupyter.widget-view+json": {
       "model_id": "5189e533c3a74a619b2a33c216bae0ee",
       "version_major": 2,
       "version_minor": 0
      },
      "text/plain": [
       "VBox(children=(Dropdown(description='Select Company', options=('ABCLimited', 'DEFLimited', 'XYZLimited'), styl…"
      ]
     },
     "metadata": {},
     "output_type": "display_data"
    },
    {
     "data": {
      "application/vnd.jupyter.widget-view+json": {
       "model_id": "79b239b2b8644d4cb69526d3a67550ac",
       "version_major": 2,
       "version_minor": 0
      },
      "text/plain": [
       "VBox(children=(Button(description='Run', style=ButtonStyle()),))"
      ]
     },
     "metadata": {},
     "output_type": "display_data"
    }
   ],
   "source": [
    "# Plot Sankey\n",
    "\n",
    "# Initiale df filter\n",
    "company_dd = 'ABCLimited' \n",
    "field1_dd = 'threedattempt'\n",
    "field2_dd = 'merchant'\n",
    "field3_dd = 'journaltype'\n",
    "\n",
    "df_view = df2[df2['company'] == company_dd]\n",
    "\n",
    "# Widgets\n",
    "company_dd = widgets.Dropdown(options= companies, value= companies[0], description='Select Company',\n",
    "                              style= {'description_width': 'initial'})\n",
    "field1_dd = widgets.Dropdown(options= fieldtypes, value= 'threedattempt', description='Select Field 1',\n",
    "                              style= {'description_width': 'initial'})\n",
    "field2_dd = widgets.Dropdown(options= fieldtypes, value= 'merchant', description='Select Field 2',\n",
    "                              style= {'description_width': 'initial'})\n",
    "field3_dd = widgets.Dropdown(options= fieldtypes, value= 'journaltype', description='Select Field 3',\n",
    "                              style= {'description_width': 'initial'})\n",
    "\n",
    "def callback(__):\n",
    "    clear_output(wait=True)\n",
    "    main_box.children = [setup_ui, button_run]\n",
    "    display(main_box)\n",
    "    \n",
    "    # Get Dataframe and plot\n",
    "    df_view = df2[df2['company'] == company_dd.value]\n",
    "    txn_flow = genSankey(df_view, cat_cols = [field1_dd.value, field2_dd.value, field3_dd.value], \n",
    "                        value_cols='amount_usd', title=f'TPV flow of {company_dd.value}')\n",
    "    \n",
    "    return txn_flow.show()\n",
    "\n",
    "# Show\n",
    "setup_ui = widgets.VBox([company_dd, field1_dd, field2_dd, field3_dd])\n",
    "display(setup_ui)\n",
    "\n",
    "button_run = widgets.Button(description='Run')\n",
    "main_box = widgets.VBox([button_run])\n",
    "button_run.on_click(callback)\n",
    "\n",
    "display(main_box)"
   ]
  },
  {
   "cell_type": "markdown",
   "metadata": {},
   "source": [
    "## Merchant Performance Overview"
   ]
  },
  {
   "cell_type": "code",
   "execution_count": 392,
   "metadata": {},
   "outputs": [],
   "source": [
    "def plot_merchant_overview(df, company_dd, field_dd, target_dd):\n",
    "    df_comp = df[df['company'] == company_dd]\n",
    "    if target_dd != 'All':\n",
    "        df_comp = df_comp[df_comp['journalcat'] == target_dd]\n",
    "\n",
    "    overview_df = df_comp.groupby('date')['amount_usd'].mean().reset_index()\n",
    "    field_df = df_comp.groupby(field_dd)['amount_usd'].mean().reset_index()\n",
    "\n",
    "    # Time series\n",
    "    fig = make_subplots(rows=2, cols=2,specs=[[{}, {'type':'domain'}], [{}, {}]],\n",
    "                            subplot_titles=['Avg Revenue Across Time',\n",
    "                                            f'Revenue Distribution by {field_dd}',\n",
    "                                           'Intraday Revenue', 'Daily Revenue'])\n",
    "\n",
    "    fig.add_trace(go.Scatter(x=overview_df['date'], y=overview_df['amount_usd']), row=1, col=1)\n",
    "    fig.add_trace(go.Pie(labels=field_df[field_dd], values=field_df['amount_usd']),row=1, col=2)\n",
    "\n",
    "    for merc in np.unique(df_comp[field_dd]):\n",
    "        temp_df = df_comp[df_comp[field_dd] == merc].groupby(['timeofday'])['amount_usd'].mean().reset_index()\n",
    "        fig.add_trace(go.Bar(x=temp_df['timeofday'],\n",
    "                             y=temp_df['amount_usd'], \n",
    "                             name = str(merc)),\n",
    "                                row=2, col=1)\n",
    "        fig.update_xaxes(categoryorder='array', categoryarray= ['day','afternoon','night','latenight'], row=2, col=1)\n",
    "\n",
    "        temp_df = df_comp[df_comp[field_dd] == merc].groupby(['day'])['amount_usd'].mean().reset_index()\n",
    "        fig.add_trace(go.Bar(x=temp_df['day'],\n",
    "                             y=temp_df['amount_usd'], \n",
    "                             name = str(merc)),\n",
    "                            row=2, col=2)\n",
    "        fig.update_xaxes(categoryorder='array', categoryarray= ['Monday', 'Tuesday', 'Wednesday', 'Thursday', 'Friday', 'Saturday', 'Sunday']\n",
    "                         , row=2, col=2)\n",
    "\n",
    "\n",
    "    fig.update_layout(barmode='relative', title_text= f\"{company_dd} for {target_dd} Transactions\", showlegend=False)\n",
    "    return fig\n",
    "\n",
    "## To Test\n",
    "# company_dd = companies[2]\n",
    "# field_dd = fieldtypes[-2]\n",
    "# target_dd = journals[3]\n",
    "# plot_merchant_overview(df2, company_dd, field_dd, target_dd)"
   ]
  },
  {
   "cell_type": "code",
   "execution_count": 393,
   "metadata": {},
   "outputs": [
    {
     "data": {
      "application/vnd.jupyter.widget-view+json": {
       "model_id": "6c48c760d26c4b108c4104039a759e19",
       "version_major": 2,
       "version_minor": 0
      },
      "text/plain": [
       "VBox(children=(Dropdown(description='Select Company', options=('ABCLimited', 'DEFLimited', 'XYZLimited'), styl…"
      ]
     },
     "metadata": {},
     "output_type": "display_data"
    },
    {
     "data": {
      "application/vnd.jupyter.widget-view+json": {
       "model_id": "97cfdfeed8b944e197210dec9029d56b",
       "version_major": 2,
       "version_minor": 0
      },
      "text/plain": [
       "VBox(children=(Button(description='Run', style=ButtonStyle()),))"
      ]
     },
     "metadata": {},
     "output_type": "display_data"
    }
   ],
   "source": [
    "# TODO: Switch between TPV and Volume \n",
    "\n",
    "# Initiate filters\n",
    "company_dd = companies[2]\n",
    "field_dd = fieldtypes[-2]\n",
    "target_dd = journals[3]\n",
    "\n",
    "df_comp = df2[df2['company'] == company_dd]\n",
    "\n",
    "# Widgets\n",
    "company_dd = widgets.Dropdown(options= companies, value= companies[0], description='Select Company',\n",
    "                              style= {'description_width': 'initial'})\n",
    "field_dd = widgets.Dropdown(options= fieldtypes, value= fieldtypes[3], description='Select Field for Revenue Breakdown',\n",
    "                              style= {'description_width': 'max-content'},\n",
    "                           layout= {'width': 'max-content'})\n",
    "target_dd = widgets.Dropdown(options= journals, value= 'All', description='Select Target Transaction status',\n",
    "                              style= {'description_width': 'initial'})\n",
    "\n",
    "def callback(__):\n",
    "    clear_output(wait=True)\n",
    "    main_box.children = [setup_ui, button_run]\n",
    "    display(main_box)\n",
    "    \n",
    "    fig = plot_merchant_overview(df2, company_dd.value, field_dd.value, target_dd.value)\n",
    "    return fig.show()\n",
    "\n",
    "# Show\n",
    "setup_ui = widgets.VBox([company_dd, field_dd, target_dd])\n",
    "display(setup_ui)\n",
    "\n",
    "button_run = widgets.Button(description='Run')\n",
    "main_box = widgets.VBox([button_run])\n",
    "button_run.on_click(callback)\n",
    "\n",
    "display(main_box)"
   ]
  },
  {
   "cell_type": "markdown",
   "metadata": {},
   "source": [
    "# Analysis"
   ]
  },
  {
   "cell_type": "markdown",
   "metadata": {},
   "source": [
    "## Fraud Analysis"
   ]
  },
  {
   "cell_type": "code",
   "execution_count": 394,
   "metadata": {},
   "outputs": [
    {
     "data": {
      "text/html": [
       "<div>\n",
       "<style scoped>\n",
       "    .dataframe tbody tr th:only-of-type {\n",
       "        vertical-align: middle;\n",
       "    }\n",
       "\n",
       "    .dataframe tbody tr th {\n",
       "        vertical-align: top;\n",
       "    }\n",
       "\n",
       "    .dataframe thead th {\n",
       "        text-align: right;\n",
       "    }\n",
       "</style>\n",
       "<table border=\"1\" class=\"dataframe\">\n",
       "  <thead>\n",
       "    <tr style=\"text-align: right;\">\n",
       "      <th></th>\n",
       "      <th>is_fraud</th>\n",
       "      <th>pspreference</th>\n",
       "      <th>bin</th>\n",
       "      <th>amount_usd</th>\n",
       "    </tr>\n",
       "  </thead>\n",
       "  <tbody>\n",
       "    <tr>\n",
       "      <th>0</th>\n",
       "      <td>0</td>\n",
       "      <td>90143</td>\n",
       "      <td>2436</td>\n",
       "      <td>493.945389</td>\n",
       "    </tr>\n",
       "    <tr>\n",
       "      <th>1</th>\n",
       "      <td>1</td>\n",
       "      <td>10509</td>\n",
       "      <td>925</td>\n",
       "      <td>546.956912</td>\n",
       "    </tr>\n",
       "  </tbody>\n",
       "</table>\n",
       "</div>"
      ],
      "text/plain": [
       "   is_fraud  pspreference   bin  amount_usd\n",
       "0         0         90143  2436  493.945389\n",
       "1         1         10509   925  546.956912"
      ]
     },
     "metadata": {},
     "output_type": "display_data"
    },
    {
     "name": "stdout",
     "output_type": "stream",
     "text": [
      " 10.44% of transactions are fraud for ABCLimited\n",
      " 27.52% of cards are fraud for ABCLimited\n",
      "The average fraud transaction is larger than non-fraud transaction.\n"
     ]
    }
   ],
   "source": [
    "company_dd = companies[0]\n",
    "fraud_df = df2[df2['company'] == company_dd]\n",
    "\n",
    "\n",
    "fraud_stat= fraud_df.groupby(['is_fraud']).agg({'pspreference':'nunique',\n",
    "                                   'bin': 'nunique',\n",
    "                                   'amount_usd': 'mean'}).reset_index()\n",
    "display(fraud_stat)\n",
    "\n",
    "print(f'{fraud_stat.loc[1,\"pspreference\"]/(fraud_stat.loc[1,\"pspreference\"]+fraud_stat.loc[0,\"pspreference\"]) *100: .2f}% of transactions are fraud for {company_dd}')\n",
    "print(f'{fraud_stat.loc[1,\"bin\"]/(fraud_stat.loc[1,\"bin\"]+fraud_stat.loc[0,\"bin\"]) *100: .2f}% of cards are fraud for {company_dd}')\n",
    "\n",
    "if fraud_stat.loc[1,\"amount_usd\"] < fraud_stat.loc[0,\"amount_usd\"]:\n",
    "    print(f'The average fraud transaction is smaller than non-fraud transaction.')\n",
    "else:\n",
    "    print(f'The average fraud transaction is larger than non-fraud transaction.')"
   ]
  },
  {
   "cell_type": "code",
   "execution_count": 427,
   "metadata": {},
   "outputs": [
    {
     "data": {
      "application/vnd.plotly.v1+json": {
       "config": {
        "plotlyServerURL": "https://plot.ly"
       },
       "data": [
        {
         "name": "Not Fraud",
         "type": "bar",
         "x": [
          0,
          1
         ],
         "xaxis": "x",
         "y": [
          313.4749956687583,
          770.666435360549
         ],
         "yaxis": "y"
        },
        {
         "name": "Fraud",
         "type": "bar",
         "x": [
          0
         ],
         "xaxis": "x",
         "y": [
          340.66445645921317
         ],
         "yaxis": "y"
        }
       ],
       "layout": {
        "barmode": "group",
        "showlegend": true,
        "template": {
         "data": {
          "bar": [
           {
            "error_x": {
             "color": "#2a3f5f"
            },
            "error_y": {
             "color": "#2a3f5f"
            },
            "marker": {
             "line": {
              "color": "#E5ECF6",
              "width": 0.5
             },
             "pattern": {
              "fillmode": "overlay",
              "size": 10,
              "solidity": 0.2
             }
            },
            "type": "bar"
           }
          ],
          "barpolar": [
           {
            "marker": {
             "line": {
              "color": "#E5ECF6",
              "width": 0.5
             },
             "pattern": {
              "fillmode": "overlay",
              "size": 10,
              "solidity": 0.2
             }
            },
            "type": "barpolar"
           }
          ],
          "carpet": [
           {
            "aaxis": {
             "endlinecolor": "#2a3f5f",
             "gridcolor": "white",
             "linecolor": "white",
             "minorgridcolor": "white",
             "startlinecolor": "#2a3f5f"
            },
            "baxis": {
             "endlinecolor": "#2a3f5f",
             "gridcolor": "white",
             "linecolor": "white",
             "minorgridcolor": "white",
             "startlinecolor": "#2a3f5f"
            },
            "type": "carpet"
           }
          ],
          "choropleth": [
           {
            "colorbar": {
             "outlinewidth": 0,
             "ticks": ""
            },
            "type": "choropleth"
           }
          ],
          "contour": [
           {
            "colorbar": {
             "outlinewidth": 0,
             "ticks": ""
            },
            "colorscale": [
             [
              0,
              "#0d0887"
             ],
             [
              0.1111111111111111,
              "#46039f"
             ],
             [
              0.2222222222222222,
              "#7201a8"
             ],
             [
              0.3333333333333333,
              "#9c179e"
             ],
             [
              0.4444444444444444,
              "#bd3786"
             ],
             [
              0.5555555555555556,
              "#d8576b"
             ],
             [
              0.6666666666666666,
              "#ed7953"
             ],
             [
              0.7777777777777778,
              "#fb9f3a"
             ],
             [
              0.8888888888888888,
              "#fdca26"
             ],
             [
              1,
              "#f0f921"
             ]
            ],
            "type": "contour"
           }
          ],
          "contourcarpet": [
           {
            "colorbar": {
             "outlinewidth": 0,
             "ticks": ""
            },
            "type": "contourcarpet"
           }
          ],
          "heatmap": [
           {
            "colorbar": {
             "outlinewidth": 0,
             "ticks": ""
            },
            "colorscale": [
             [
              0,
              "#0d0887"
             ],
             [
              0.1111111111111111,
              "#46039f"
             ],
             [
              0.2222222222222222,
              "#7201a8"
             ],
             [
              0.3333333333333333,
              "#9c179e"
             ],
             [
              0.4444444444444444,
              "#bd3786"
             ],
             [
              0.5555555555555556,
              "#d8576b"
             ],
             [
              0.6666666666666666,
              "#ed7953"
             ],
             [
              0.7777777777777778,
              "#fb9f3a"
             ],
             [
              0.8888888888888888,
              "#fdca26"
             ],
             [
              1,
              "#f0f921"
             ]
            ],
            "type": "heatmap"
           }
          ],
          "heatmapgl": [
           {
            "colorbar": {
             "outlinewidth": 0,
             "ticks": ""
            },
            "colorscale": [
             [
              0,
              "#0d0887"
             ],
             [
              0.1111111111111111,
              "#46039f"
             ],
             [
              0.2222222222222222,
              "#7201a8"
             ],
             [
              0.3333333333333333,
              "#9c179e"
             ],
             [
              0.4444444444444444,
              "#bd3786"
             ],
             [
              0.5555555555555556,
              "#d8576b"
             ],
             [
              0.6666666666666666,
              "#ed7953"
             ],
             [
              0.7777777777777778,
              "#fb9f3a"
             ],
             [
              0.8888888888888888,
              "#fdca26"
             ],
             [
              1,
              "#f0f921"
             ]
            ],
            "type": "heatmapgl"
           }
          ],
          "histogram": [
           {
            "marker": {
             "pattern": {
              "fillmode": "overlay",
              "size": 10,
              "solidity": 0.2
             }
            },
            "type": "histogram"
           }
          ],
          "histogram2d": [
           {
            "colorbar": {
             "outlinewidth": 0,
             "ticks": ""
            },
            "colorscale": [
             [
              0,
              "#0d0887"
             ],
             [
              0.1111111111111111,
              "#46039f"
             ],
             [
              0.2222222222222222,
              "#7201a8"
             ],
             [
              0.3333333333333333,
              "#9c179e"
             ],
             [
              0.4444444444444444,
              "#bd3786"
             ],
             [
              0.5555555555555556,
              "#d8576b"
             ],
             [
              0.6666666666666666,
              "#ed7953"
             ],
             [
              0.7777777777777778,
              "#fb9f3a"
             ],
             [
              0.8888888888888888,
              "#fdca26"
             ],
             [
              1,
              "#f0f921"
             ]
            ],
            "type": "histogram2d"
           }
          ],
          "histogram2dcontour": [
           {
            "colorbar": {
             "outlinewidth": 0,
             "ticks": ""
            },
            "colorscale": [
             [
              0,
              "#0d0887"
             ],
             [
              0.1111111111111111,
              "#46039f"
             ],
             [
              0.2222222222222222,
              "#7201a8"
             ],
             [
              0.3333333333333333,
              "#9c179e"
             ],
             [
              0.4444444444444444,
              "#bd3786"
             ],
             [
              0.5555555555555556,
              "#d8576b"
             ],
             [
              0.6666666666666666,
              "#ed7953"
             ],
             [
              0.7777777777777778,
              "#fb9f3a"
             ],
             [
              0.8888888888888888,
              "#fdca26"
             ],
             [
              1,
              "#f0f921"
             ]
            ],
            "type": "histogram2dcontour"
           }
          ],
          "mesh3d": [
           {
            "colorbar": {
             "outlinewidth": 0,
             "ticks": ""
            },
            "type": "mesh3d"
           }
          ],
          "parcoords": [
           {
            "line": {
             "colorbar": {
              "outlinewidth": 0,
              "ticks": ""
             }
            },
            "type": "parcoords"
           }
          ],
          "pie": [
           {
            "automargin": true,
            "type": "pie"
           }
          ],
          "scatter": [
           {
            "fillpattern": {
             "fillmode": "overlay",
             "size": 10,
             "solidity": 0.2
            },
            "type": "scatter"
           }
          ],
          "scatter3d": [
           {
            "line": {
             "colorbar": {
              "outlinewidth": 0,
              "ticks": ""
             }
            },
            "marker": {
             "colorbar": {
              "outlinewidth": 0,
              "ticks": ""
             }
            },
            "type": "scatter3d"
           }
          ],
          "scattercarpet": [
           {
            "marker": {
             "colorbar": {
              "outlinewidth": 0,
              "ticks": ""
             }
            },
            "type": "scattercarpet"
           }
          ],
          "scattergeo": [
           {
            "marker": {
             "colorbar": {
              "outlinewidth": 0,
              "ticks": ""
             }
            },
            "type": "scattergeo"
           }
          ],
          "scattergl": [
           {
            "marker": {
             "colorbar": {
              "outlinewidth": 0,
              "ticks": ""
             }
            },
            "type": "scattergl"
           }
          ],
          "scattermapbox": [
           {
            "marker": {
             "colorbar": {
              "outlinewidth": 0,
              "ticks": ""
             }
            },
            "type": "scattermapbox"
           }
          ],
          "scatterpolar": [
           {
            "marker": {
             "colorbar": {
              "outlinewidth": 0,
              "ticks": ""
             }
            },
            "type": "scatterpolar"
           }
          ],
          "scatterpolargl": [
           {
            "marker": {
             "colorbar": {
              "outlinewidth": 0,
              "ticks": ""
             }
            },
            "type": "scatterpolargl"
           }
          ],
          "scatterternary": [
           {
            "marker": {
             "colorbar": {
              "outlinewidth": 0,
              "ticks": ""
             }
            },
            "type": "scatterternary"
           }
          ],
          "surface": [
           {
            "colorbar": {
             "outlinewidth": 0,
             "ticks": ""
            },
            "colorscale": [
             [
              0,
              "#0d0887"
             ],
             [
              0.1111111111111111,
              "#46039f"
             ],
             [
              0.2222222222222222,
              "#7201a8"
             ],
             [
              0.3333333333333333,
              "#9c179e"
             ],
             [
              0.4444444444444444,
              "#bd3786"
             ],
             [
              0.5555555555555556,
              "#d8576b"
             ],
             [
              0.6666666666666666,
              "#ed7953"
             ],
             [
              0.7777777777777778,
              "#fb9f3a"
             ],
             [
              0.8888888888888888,
              "#fdca26"
             ],
             [
              1,
              "#f0f921"
             ]
            ],
            "type": "surface"
           }
          ],
          "table": [
           {
            "cells": {
             "fill": {
              "color": "#EBF0F8"
             },
             "line": {
              "color": "white"
             }
            },
            "header": {
             "fill": {
              "color": "#C8D4E3"
             },
             "line": {
              "color": "white"
             }
            },
            "type": "table"
           }
          ]
         },
         "layout": {
          "annotationdefaults": {
           "arrowcolor": "#2a3f5f",
           "arrowhead": 0,
           "arrowwidth": 1
          },
          "autotypenumbers": "strict",
          "coloraxis": {
           "colorbar": {
            "outlinewidth": 0,
            "ticks": ""
           }
          },
          "colorscale": {
           "diverging": [
            [
             0,
             "#8e0152"
            ],
            [
             0.1,
             "#c51b7d"
            ],
            [
             0.2,
             "#de77ae"
            ],
            [
             0.3,
             "#f1b6da"
            ],
            [
             0.4,
             "#fde0ef"
            ],
            [
             0.5,
             "#f7f7f7"
            ],
            [
             0.6,
             "#e6f5d0"
            ],
            [
             0.7,
             "#b8e186"
            ],
            [
             0.8,
             "#7fbc41"
            ],
            [
             0.9,
             "#4d9221"
            ],
            [
             1,
             "#276419"
            ]
           ],
           "sequential": [
            [
             0,
             "#0d0887"
            ],
            [
             0.1111111111111111,
             "#46039f"
            ],
            [
             0.2222222222222222,
             "#7201a8"
            ],
            [
             0.3333333333333333,
             "#9c179e"
            ],
            [
             0.4444444444444444,
             "#bd3786"
            ],
            [
             0.5555555555555556,
             "#d8576b"
            ],
            [
             0.6666666666666666,
             "#ed7953"
            ],
            [
             0.7777777777777778,
             "#fb9f3a"
            ],
            [
             0.8888888888888888,
             "#fdca26"
            ],
            [
             1,
             "#f0f921"
            ]
           ],
           "sequentialminus": [
            [
             0,
             "#0d0887"
            ],
            [
             0.1111111111111111,
             "#46039f"
            ],
            [
             0.2222222222222222,
             "#7201a8"
            ],
            [
             0.3333333333333333,
             "#9c179e"
            ],
            [
             0.4444444444444444,
             "#bd3786"
            ],
            [
             0.5555555555555556,
             "#d8576b"
            ],
            [
             0.6666666666666666,
             "#ed7953"
            ],
            [
             0.7777777777777778,
             "#fb9f3a"
            ],
            [
             0.8888888888888888,
             "#fdca26"
            ],
            [
             1,
             "#f0f921"
            ]
           ]
          },
          "colorway": [
           "#636efa",
           "#EF553B",
           "#00cc96",
           "#ab63fa",
           "#FFA15A",
           "#19d3f3",
           "#FF6692",
           "#B6E880",
           "#FF97FF",
           "#FECB52"
          ],
          "font": {
           "color": "#2a3f5f"
          },
          "geo": {
           "bgcolor": "white",
           "lakecolor": "white",
           "landcolor": "#E5ECF6",
           "showlakes": true,
           "showland": true,
           "subunitcolor": "white"
          },
          "hoverlabel": {
           "align": "left"
          },
          "hovermode": "closest",
          "mapbox": {
           "style": "light"
          },
          "paper_bgcolor": "white",
          "plot_bgcolor": "#E5ECF6",
          "polar": {
           "angularaxis": {
            "gridcolor": "white",
            "linecolor": "white",
            "ticks": ""
           },
           "bgcolor": "#E5ECF6",
           "radialaxis": {
            "gridcolor": "white",
            "linecolor": "white",
            "ticks": ""
           }
          },
          "scene": {
           "xaxis": {
            "backgroundcolor": "#E5ECF6",
            "gridcolor": "white",
            "gridwidth": 2,
            "linecolor": "white",
            "showbackground": true,
            "ticks": "",
            "zerolinecolor": "white"
           },
           "yaxis": {
            "backgroundcolor": "#E5ECF6",
            "gridcolor": "white",
            "gridwidth": 2,
            "linecolor": "white",
            "showbackground": true,
            "ticks": "",
            "zerolinecolor": "white"
           },
           "zaxis": {
            "backgroundcolor": "#E5ECF6",
            "gridcolor": "white",
            "gridwidth": 2,
            "linecolor": "white",
            "showbackground": true,
            "ticks": "",
            "zerolinecolor": "white"
           }
          },
          "shapedefaults": {
           "line": {
            "color": "#2a3f5f"
           }
          },
          "ternary": {
           "aaxis": {
            "gridcolor": "white",
            "linecolor": "white",
            "ticks": ""
           },
           "baxis": {
            "gridcolor": "white",
            "linecolor": "white",
            "ticks": ""
           },
           "bgcolor": "#E5ECF6",
           "caxis": {
            "gridcolor": "white",
            "linecolor": "white",
            "ticks": ""
           }
          },
          "title": {
           "x": 0.05
          },
          "xaxis": {
           "automargin": true,
           "gridcolor": "white",
           "linecolor": "white",
           "ticks": "",
           "title": {
            "standoff": 15
           },
           "zerolinecolor": "white",
           "zerolinewidth": 2
          },
          "yaxis": {
           "automargin": true,
           "gridcolor": "white",
           "linecolor": "white",
           "ticks": "",
           "title": {
            "standoff": 15
           },
           "zerolinecolor": "white",
           "zerolinewidth": 2
          }
         }
        },
        "title": {
         "text": "XYZLimited Avg amount, by threedattempt"
        },
        "xaxis": {
         "anchor": "y",
         "domain": [
          0,
          1
         ]
        },
        "yaxis": {
         "anchor": "x",
         "domain": [
          0,
          1
         ]
        }
       }
      },
      "text/html": [
       "<div>                            <div id=\"fdc7fdb7-2556-4341-b404-a64626394647\" class=\"plotly-graph-div\" style=\"height:525px; width:100%;\"></div>            <script type=\"text/javascript\">                require([\"plotly\"], function(Plotly) {                    window.PLOTLYENV=window.PLOTLYENV || {};                                    if (document.getElementById(\"fdc7fdb7-2556-4341-b404-a64626394647\")) {                    Plotly.newPlot(                        \"fdc7fdb7-2556-4341-b404-a64626394647\",                        [{\"name\":\"Not Fraud\",\"x\":[0,1],\"y\":[313.4749956687583,770.666435360549],\"type\":\"bar\",\"xaxis\":\"x\",\"yaxis\":\"y\"},{\"name\":\"Fraud\",\"x\":[0],\"y\":[340.66445645921317],\"type\":\"bar\",\"xaxis\":\"x\",\"yaxis\":\"y\"}],                        {\"template\":{\"data\":{\"histogram2dcontour\":[{\"type\":\"histogram2dcontour\",\"colorbar\":{\"outlinewidth\":0,\"ticks\":\"\"},\"colorscale\":[[0.0,\"#0d0887\"],[0.1111111111111111,\"#46039f\"],[0.2222222222222222,\"#7201a8\"],[0.3333333333333333,\"#9c179e\"],[0.4444444444444444,\"#bd3786\"],[0.5555555555555556,\"#d8576b\"],[0.6666666666666666,\"#ed7953\"],[0.7777777777777778,\"#fb9f3a\"],[0.8888888888888888,\"#fdca26\"],[1.0,\"#f0f921\"]]}],\"choropleth\":[{\"type\":\"choropleth\",\"colorbar\":{\"outlinewidth\":0,\"ticks\":\"\"}}],\"histogram2d\":[{\"type\":\"histogram2d\",\"colorbar\":{\"outlinewidth\":0,\"ticks\":\"\"},\"colorscale\":[[0.0,\"#0d0887\"],[0.1111111111111111,\"#46039f\"],[0.2222222222222222,\"#7201a8\"],[0.3333333333333333,\"#9c179e\"],[0.4444444444444444,\"#bd3786\"],[0.5555555555555556,\"#d8576b\"],[0.6666666666666666,\"#ed7953\"],[0.7777777777777778,\"#fb9f3a\"],[0.8888888888888888,\"#fdca26\"],[1.0,\"#f0f921\"]]}],\"heatmap\":[{\"type\":\"heatmap\",\"colorbar\":{\"outlinewidth\":0,\"ticks\":\"\"},\"colorscale\":[[0.0,\"#0d0887\"],[0.1111111111111111,\"#46039f\"],[0.2222222222222222,\"#7201a8\"],[0.3333333333333333,\"#9c179e\"],[0.4444444444444444,\"#bd3786\"],[0.5555555555555556,\"#d8576b\"],[0.6666666666666666,\"#ed7953\"],[0.7777777777777778,\"#fb9f3a\"],[0.8888888888888888,\"#fdca26\"],[1.0,\"#f0f921\"]]}],\"heatmapgl\":[{\"type\":\"heatmapgl\",\"colorbar\":{\"outlinewidth\":0,\"ticks\":\"\"},\"colorscale\":[[0.0,\"#0d0887\"],[0.1111111111111111,\"#46039f\"],[0.2222222222222222,\"#7201a8\"],[0.3333333333333333,\"#9c179e\"],[0.4444444444444444,\"#bd3786\"],[0.5555555555555556,\"#d8576b\"],[0.6666666666666666,\"#ed7953\"],[0.7777777777777778,\"#fb9f3a\"],[0.8888888888888888,\"#fdca26\"],[1.0,\"#f0f921\"]]}],\"contourcarpet\":[{\"type\":\"contourcarpet\",\"colorbar\":{\"outlinewidth\":0,\"ticks\":\"\"}}],\"contour\":[{\"type\":\"contour\",\"colorbar\":{\"outlinewidth\":0,\"ticks\":\"\"},\"colorscale\":[[0.0,\"#0d0887\"],[0.1111111111111111,\"#46039f\"],[0.2222222222222222,\"#7201a8\"],[0.3333333333333333,\"#9c179e\"],[0.4444444444444444,\"#bd3786\"],[0.5555555555555556,\"#d8576b\"],[0.6666666666666666,\"#ed7953\"],[0.7777777777777778,\"#fb9f3a\"],[0.8888888888888888,\"#fdca26\"],[1.0,\"#f0f921\"]]}],\"surface\":[{\"type\":\"surface\",\"colorbar\":{\"outlinewidth\":0,\"ticks\":\"\"},\"colorscale\":[[0.0,\"#0d0887\"],[0.1111111111111111,\"#46039f\"],[0.2222222222222222,\"#7201a8\"],[0.3333333333333333,\"#9c179e\"],[0.4444444444444444,\"#bd3786\"],[0.5555555555555556,\"#d8576b\"],[0.6666666666666666,\"#ed7953\"],[0.7777777777777778,\"#fb9f3a\"],[0.8888888888888888,\"#fdca26\"],[1.0,\"#f0f921\"]]}],\"mesh3d\":[{\"type\":\"mesh3d\",\"colorbar\":{\"outlinewidth\":0,\"ticks\":\"\"}}],\"scatter\":[{\"fillpattern\":{\"fillmode\":\"overlay\",\"size\":10,\"solidity\":0.2},\"type\":\"scatter\"}],\"parcoords\":[{\"type\":\"parcoords\",\"line\":{\"colorbar\":{\"outlinewidth\":0,\"ticks\":\"\"}}}],\"scatterpolargl\":[{\"type\":\"scatterpolargl\",\"marker\":{\"colorbar\":{\"outlinewidth\":0,\"ticks\":\"\"}}}],\"bar\":[{\"error_x\":{\"color\":\"#2a3f5f\"},\"error_y\":{\"color\":\"#2a3f5f\"},\"marker\":{\"line\":{\"color\":\"#E5ECF6\",\"width\":0.5},\"pattern\":{\"fillmode\":\"overlay\",\"size\":10,\"solidity\":0.2}},\"type\":\"bar\"}],\"scattergeo\":[{\"type\":\"scattergeo\",\"marker\":{\"colorbar\":{\"outlinewidth\":0,\"ticks\":\"\"}}}],\"scatterpolar\":[{\"type\":\"scatterpolar\",\"marker\":{\"colorbar\":{\"outlinewidth\":0,\"ticks\":\"\"}}}],\"histogram\":[{\"marker\":{\"pattern\":{\"fillmode\":\"overlay\",\"size\":10,\"solidity\":0.2}},\"type\":\"histogram\"}],\"scattergl\":[{\"type\":\"scattergl\",\"marker\":{\"colorbar\":{\"outlinewidth\":0,\"ticks\":\"\"}}}],\"scatter3d\":[{\"type\":\"scatter3d\",\"line\":{\"colorbar\":{\"outlinewidth\":0,\"ticks\":\"\"}},\"marker\":{\"colorbar\":{\"outlinewidth\":0,\"ticks\":\"\"}}}],\"scattermapbox\":[{\"type\":\"scattermapbox\",\"marker\":{\"colorbar\":{\"outlinewidth\":0,\"ticks\":\"\"}}}],\"scatterternary\":[{\"type\":\"scatterternary\",\"marker\":{\"colorbar\":{\"outlinewidth\":0,\"ticks\":\"\"}}}],\"scattercarpet\":[{\"type\":\"scattercarpet\",\"marker\":{\"colorbar\":{\"outlinewidth\":0,\"ticks\":\"\"}}}],\"carpet\":[{\"aaxis\":{\"endlinecolor\":\"#2a3f5f\",\"gridcolor\":\"white\",\"linecolor\":\"white\",\"minorgridcolor\":\"white\",\"startlinecolor\":\"#2a3f5f\"},\"baxis\":{\"endlinecolor\":\"#2a3f5f\",\"gridcolor\":\"white\",\"linecolor\":\"white\",\"minorgridcolor\":\"white\",\"startlinecolor\":\"#2a3f5f\"},\"type\":\"carpet\"}],\"table\":[{\"cells\":{\"fill\":{\"color\":\"#EBF0F8\"},\"line\":{\"color\":\"white\"}},\"header\":{\"fill\":{\"color\":\"#C8D4E3\"},\"line\":{\"color\":\"white\"}},\"type\":\"table\"}],\"barpolar\":[{\"marker\":{\"line\":{\"color\":\"#E5ECF6\",\"width\":0.5},\"pattern\":{\"fillmode\":\"overlay\",\"size\":10,\"solidity\":0.2}},\"type\":\"barpolar\"}],\"pie\":[{\"automargin\":true,\"type\":\"pie\"}]},\"layout\":{\"autotypenumbers\":\"strict\",\"colorway\":[\"#636efa\",\"#EF553B\",\"#00cc96\",\"#ab63fa\",\"#FFA15A\",\"#19d3f3\",\"#FF6692\",\"#B6E880\",\"#FF97FF\",\"#FECB52\"],\"font\":{\"color\":\"#2a3f5f\"},\"hovermode\":\"closest\",\"hoverlabel\":{\"align\":\"left\"},\"paper_bgcolor\":\"white\",\"plot_bgcolor\":\"#E5ECF6\",\"polar\":{\"bgcolor\":\"#E5ECF6\",\"angularaxis\":{\"gridcolor\":\"white\",\"linecolor\":\"white\",\"ticks\":\"\"},\"radialaxis\":{\"gridcolor\":\"white\",\"linecolor\":\"white\",\"ticks\":\"\"}},\"ternary\":{\"bgcolor\":\"#E5ECF6\",\"aaxis\":{\"gridcolor\":\"white\",\"linecolor\":\"white\",\"ticks\":\"\"},\"baxis\":{\"gridcolor\":\"white\",\"linecolor\":\"white\",\"ticks\":\"\"},\"caxis\":{\"gridcolor\":\"white\",\"linecolor\":\"white\",\"ticks\":\"\"}},\"coloraxis\":{\"colorbar\":{\"outlinewidth\":0,\"ticks\":\"\"}},\"colorscale\":{\"sequential\":[[0.0,\"#0d0887\"],[0.1111111111111111,\"#46039f\"],[0.2222222222222222,\"#7201a8\"],[0.3333333333333333,\"#9c179e\"],[0.4444444444444444,\"#bd3786\"],[0.5555555555555556,\"#d8576b\"],[0.6666666666666666,\"#ed7953\"],[0.7777777777777778,\"#fb9f3a\"],[0.8888888888888888,\"#fdca26\"],[1.0,\"#f0f921\"]],\"sequentialminus\":[[0.0,\"#0d0887\"],[0.1111111111111111,\"#46039f\"],[0.2222222222222222,\"#7201a8\"],[0.3333333333333333,\"#9c179e\"],[0.4444444444444444,\"#bd3786\"],[0.5555555555555556,\"#d8576b\"],[0.6666666666666666,\"#ed7953\"],[0.7777777777777778,\"#fb9f3a\"],[0.8888888888888888,\"#fdca26\"],[1.0,\"#f0f921\"]],\"diverging\":[[0,\"#8e0152\"],[0.1,\"#c51b7d\"],[0.2,\"#de77ae\"],[0.3,\"#f1b6da\"],[0.4,\"#fde0ef\"],[0.5,\"#f7f7f7\"],[0.6,\"#e6f5d0\"],[0.7,\"#b8e186\"],[0.8,\"#7fbc41\"],[0.9,\"#4d9221\"],[1,\"#276419\"]]},\"xaxis\":{\"gridcolor\":\"white\",\"linecolor\":\"white\",\"ticks\":\"\",\"title\":{\"standoff\":15},\"zerolinecolor\":\"white\",\"automargin\":true,\"zerolinewidth\":2},\"yaxis\":{\"gridcolor\":\"white\",\"linecolor\":\"white\",\"ticks\":\"\",\"title\":{\"standoff\":15},\"zerolinecolor\":\"white\",\"automargin\":true,\"zerolinewidth\":2},\"scene\":{\"xaxis\":{\"backgroundcolor\":\"#E5ECF6\",\"gridcolor\":\"white\",\"linecolor\":\"white\",\"showbackground\":true,\"ticks\":\"\",\"zerolinecolor\":\"white\",\"gridwidth\":2},\"yaxis\":{\"backgroundcolor\":\"#E5ECF6\",\"gridcolor\":\"white\",\"linecolor\":\"white\",\"showbackground\":true,\"ticks\":\"\",\"zerolinecolor\":\"white\",\"gridwidth\":2},\"zaxis\":{\"backgroundcolor\":\"#E5ECF6\",\"gridcolor\":\"white\",\"linecolor\":\"white\",\"showbackground\":true,\"ticks\":\"\",\"zerolinecolor\":\"white\",\"gridwidth\":2}},\"shapedefaults\":{\"line\":{\"color\":\"#2a3f5f\"}},\"annotationdefaults\":{\"arrowcolor\":\"#2a3f5f\",\"arrowhead\":0,\"arrowwidth\":1},\"geo\":{\"bgcolor\":\"white\",\"landcolor\":\"#E5ECF6\",\"subunitcolor\":\"white\",\"showland\":true,\"showlakes\":true,\"lakecolor\":\"white\"},\"title\":{\"x\":0.05},\"mapbox\":{\"style\":\"light\"}}},\"xaxis\":{\"anchor\":\"y\",\"domain\":[0.0,1.0]},\"yaxis\":{\"anchor\":\"x\",\"domain\":[0.0,1.0]},\"title\":{\"text\":\"XYZLimited Avg amount, by threedattempt\"},\"barmode\":\"group\",\"showlegend\":true},                        {\"responsive\": true}                    ).then(function(){\n",
       "                            \n",
       "var gd = document.getElementById('fdc7fdb7-2556-4341-b404-a64626394647');\n",
       "var x = new MutationObserver(function (mutations, observer) {{\n",
       "        var display = window.getComputedStyle(gd).display;\n",
       "        if (!display || display === 'none') {{\n",
       "            console.log([gd, 'removed!']);\n",
       "            Plotly.purge(gd);\n",
       "            observer.disconnect();\n",
       "        }}\n",
       "}});\n",
       "\n",
       "// Listen for the removal of the full notebook cells\n",
       "var notebookContainer = gd.closest('#notebook-container');\n",
       "if (notebookContainer) {{\n",
       "    x.observe(notebookContainer, {childList: true});\n",
       "}}\n",
       "\n",
       "// Listen for the clearing of the current output cell\n",
       "var outputEl = gd.closest('.output');\n",
       "if (outputEl) {{\n",
       "    x.observe(outputEl, {childList: true});\n",
       "}}\n",
       "\n",
       "                        })                };                });            </script>        </div>"
      ]
     },
     "metadata": {},
     "output_type": "display_data"
    }
   ],
   "source": [
    "company_dd = companies[2]\n",
    "field_dd = 'threedattempt' #fieldtypes[3]\n",
    "\n",
    "fraud_df = df2[df2['company'] == company_dd]\n",
    "temp_df = fraud_df.groupby(['is_fraud', field_dd])['amount_usd'].mean().reset_index()\n",
    "\n",
    "fig = make_subplots(rows=1, cols=1, subplot_titles= (''))\n",
    "\n",
    "for i,f in zip([0,1], ['Not Fraud', 'Fraud']):\n",
    "    temp_df2 = temp_df[temp_df['is_fraud'] == i]\n",
    "    fig.add_trace(go.Bar(x=temp_df2[field_dd], y=temp_df2['amount_usd'], name = f), row=1, col=1)\n",
    "                    \n",
    "fig.update_layout(barmode='group', title_text=f'{company_dd} Avg amount, by {field_dd}', showlegend=True)\n",
    "fig.show()\n",
    "\n",
    "# threedattempt == 1 has 0 fraud"
   ]
  },
  {
   "cell_type": "code",
   "execution_count": null,
   "metadata": {},
   "outputs": [],
   "source": []
  },
  {
   "cell_type": "markdown",
   "metadata": {},
   "source": [
    "# ML"
   ]
  },
  {
   "cell_type": "markdown",
   "metadata": {},
   "source": [
    "### DT: Fraud or not fraud?"
   ]
  },
  {
   "cell_type": "code",
   "execution_count": 409,
   "metadata": {},
   "outputs": [],
   "source": [
    "from sklearn import tree, model_selection, metrics\n",
    "from pandas.api.types import CategoricalDtype \n",
    "from sklearn.preprocessing import LabelEncoder\n",
    "from sklearn.metrics import confusion_matrix, accuracy_score, mean_squared_error\n",
    "from sklearn.preprocessing import OneHotEncoder\n",
    "from sklearn.model_selection import GridSearchCV\n",
    "from sklearn.tree import DecisionTreeClassifier\n"
   ]
  },
  {
   "cell_type": "code",
   "execution_count": 428,
   "metadata": {},
   "outputs": [],
   "source": [
    "company_dd = companies[0]\n",
    "\n",
    "# Drop irrelevant columns \n",
    "fraud_ml = df2[df2['company'] == company_dd].drop(['pspreference', 'company', 'bin', 'date_time', 'date', 'is_approved', 'genericresponse', 'threedattempt', 'journalcat', 'journaltype', 'acquirer', 'acquireraccount'], axis=1)\n",
    "\n",
    "# Split dataset\n",
    "X = fraud_ml.drop('is_fraud', axis=1)\n",
    "y = fraud_ml['is_fraud']\n",
    "\n",
    "X_train, X_test, y_train, y_test = model_selection.train_test_split(X, y, test_size=0.2, random_state=2019)"
   ]
  },
  {
   "cell_type": "code",
   "execution_count": 430,
   "metadata": {},
   "outputs": [],
   "source": [
    "# One Hot Encoding with training set only\n",
    "OHE_df = pd.DataFrame()\n",
    "categorical_cols = ['currencycode', 'issuercountrycode', 'scheme', 'merchant', 'paymentmethod', \n",
    "                    'day', 'weektype', 'timeofday', 'cardtype', 'debit_credit', 'amount_bin']\n",
    "\n",
    "for i in categorical_cols:\n",
    "    OHE_df[i] = X_train[i].astype(CategoricalDtype(list(set(X[i]))))\n",
    "    OHE_df = pd.concat([OHE_df, pd.get_dummies(X[i], prefix=i)],axis=1)\n",
    "    \n",
    "    \n",
    "OHE_df = OHE_df.drop(categorical_cols, axis= 1) # remove original categorical columns, keep OHE columns only\n",
    "X_no_cat = X.drop(categorical_cols, axis= 1) # Get numerical column\n",
    "OHE_df = pd.concat([X_no_cat, OHE_df],axis=1) # concat numeric and OHE columns into OHE_df"
   ]
  },
  {
   "cell_type": "code",
   "execution_count": 433,
   "metadata": {},
   "outputs": [
    {
     "name": "stdout",
     "output_type": "stream",
     "text": [
      "Before OHE, n features =  13\n",
      "After OHE, n features =  159\n"
     ]
    }
   ],
   "source": [
    "# Resplit X dataset with OHE columns\n",
    "OHE_train, OHE_test, y_train, y_test = model_selection.train_test_split(OHE_df, y, test_size=0.2, random_state=2019)\n",
    "\n",
    "print('Before OHE, n features = ', X_train.shape[1])\n",
    "print('After OHE, n features = ', OHE_train.shape[1])"
   ]
  },
  {
   "cell_type": "code",
   "execution_count": 434,
   "metadata": {},
   "outputs": [],
   "source": [
    "# Build Model\n",
    "dt_estimator = tree.DecisionTreeClassifier(random_state=40)"
   ]
  },
  {
   "cell_type": "code",
   "execution_count": 435,
   "metadata": {},
   "outputs": [
    {
     "name": "stdout",
     "output_type": "stream",
     "text": [
      "Training Accuracy:  0.938587449236845\n",
      "Test Accuracy:  0.9065620187770106\n",
      "\n",
      "Top 5 most important features: \n",
      "\n",
      "1: amount_usd, Score: 0.403 \n",
      "2: debit_credit_debit, Score: 0.068 \n",
      "3: issuercountrycode_ID, Score: 0.067 \n",
      "4: scheme_visa, Score: 0.054 \n",
      "5: timeofday_night, Score: 0.026 \n"
     ]
    }
   ],
   "source": [
    "# Base Model\n",
    "dt_estimator.fit(OHE_train, y_train)\n",
    "\n",
    "# Evaluation\n",
    "y_predict_train = dt_estimator.predict(OHE_train)\n",
    "print('Training Accuracy: ', accuracy_score(y_train, y_predict_train))\n",
    "\n",
    "y_predict = dt_estimator.predict(OHE_test)\n",
    "print('Test Accuracy: ', accuracy_score(y_test, y_predict))\n",
    "\n",
    "# Feature Importance \n",
    "important_features_dict = {}\n",
    "for idx, val in enumerate(dt_estimator.feature_importances_):\n",
    "    important_features_dict[idx] = val\n",
    "\n",
    "top_idx = sorted(important_features_dict,\n",
    "                                 key=important_features_dict.get,\n",
    "                                 reverse=True)[:10]\n",
    "\n",
    "top_features_names = OHE_train.columns[top_idx]\n",
    "top_features_scores = dt_estimator.feature_importances_[top_idx]\n",
    "print('\\nTop 5 most important features: \\n')\n",
    "for i in range(5):\n",
    "    print('%s: %s, Score: %.3f ' % (i+1, top_features_names[i], top_features_scores[i]))"
   ]
  },
  {
   "cell_type": "code",
   "execution_count": null,
   "metadata": {},
   "outputs": [
    {
     "name": "stdout",
     "output_type": "stream",
     "text": [
      "Fitting 10 folds for each of 48 candidates, totalling 480 fits\n"
     ]
    },
    {
     "name": "stderr",
     "output_type": "stream",
     "text": [
      "[Parallel(n_jobs=-1)]: Using backend LokyBackend with 4 concurrent workers.\n",
      "[Parallel(n_jobs=-1)]: Done   5 tasks      | elapsed:    7.0s\n",
      "[Parallel(n_jobs=-1)]: Done  10 tasks      | elapsed:    8.5s\n",
      "[Parallel(n_jobs=-1)]: Done  17 tasks      | elapsed:   11.3s\n",
      "[Parallel(n_jobs=-1)]: Done  24 tasks      | elapsed:   13.0s\n",
      "[Parallel(n_jobs=-1)]: Done  33 tasks      | elapsed:   16.5s\n",
      "[Parallel(n_jobs=-1)]: Done  42 tasks      | elapsed:   19.1s\n",
      "[Parallel(n_jobs=-1)]: Done  53 tasks      | elapsed:   22.9s\n",
      "[Parallel(n_jobs=-1)]: Done  64 tasks      | elapsed:   25.7s\n",
      "[Parallel(n_jobs=-1)]: Done  77 tasks      | elapsed:   30.6s\n",
      "[Parallel(n_jobs=-1)]: Done  90 tasks      | elapsed:   34.7s\n",
      "[Parallel(n_jobs=-1)]: Done 105 tasks      | elapsed:   39.9s\n",
      "[Parallel(n_jobs=-1)]: Done 120 tasks      | elapsed:   44.0s\n",
      "[Parallel(n_jobs=-1)]: Done 137 tasks      | elapsed:   50.9s\n",
      "[Parallel(n_jobs=-1)]: Done 154 tasks      | elapsed:   56.6s\n",
      "[Parallel(n_jobs=-1)]: Done 173 tasks      | elapsed:  1.1min\n",
      "[Parallel(n_jobs=-1)]: Done 192 tasks      | elapsed:  1.2min\n",
      "[Parallel(n_jobs=-1)]: Done 213 tasks      | elapsed:  1.3min\n",
      "[Parallel(n_jobs=-1)]: Done 234 tasks      | elapsed:  1.4min\n",
      "[Parallel(n_jobs=-1)]: Done 257 tasks      | elapsed:  1.6min\n",
      "[Parallel(n_jobs=-1)]: Done 280 tasks      | elapsed:  1.7min\n",
      "[Parallel(n_jobs=-1)]: Done 305 tasks      | elapsed:  1.8min\n",
      "[Parallel(n_jobs=-1)]: Done 330 tasks      | elapsed:  2.0min\n",
      "[Parallel(n_jobs=-1)]: Done 357 tasks      | elapsed:  2.1min\n",
      "[Parallel(n_jobs=-1)]: Done 384 tasks      | elapsed:  2.3min\n",
      "[Parallel(n_jobs=-1)]: Done 413 tasks      | elapsed:  2.5min\n"
     ]
    }
   ],
   "source": [
    "# GridSearch\n",
    "criterions = ['entropy', 'gini']\n",
    "max_depth = [5,6]\n",
    "min_samples_split = [2,5,10]\n",
    "min_samples_leaf = [3,4,5,6]\n",
    "\n",
    "param_grid = {'criterion': criterions, \n",
    "              'max_depth': max_depth, \n",
    "              'min_samples_split': min_samples_split, \n",
    "              'min_samples_leaf': min_samples_leaf}\n",
    "\n",
    "grid_dt_class = GridSearchCV(estimator = dt_estimator, param_grid = param_grid, \n",
    "                             scoring='accuracy', n_jobs=-1, cv = 10, \n",
    "                             refit=True, return_train_score=True, verbose=10)\n",
    "\n",
    "grid_dt_class.fit(OHE_df, y)"
   ]
  },
  {
   "cell_type": "code",
   "execution_count": null,
   "metadata": {},
   "outputs": [],
   "source": [
    "def plot_search_results(grid):\n",
    "    \"\"\"\n",
    "    Params: \n",
    "        grid: A trained GridSearchCV object.\n",
    "    \"\"\"\n",
    "    ## Results from grid search\n",
    "    results = grid.cv_results_\n",
    "    means_test = results['mean_test_score']\n",
    "    stds_test = results['std_test_score']\n",
    "    means_train = results['mean_train_score']\n",
    "    stds_train = results['std_train_score']\n",
    "\n",
    "    ## Getting indexes of values per hyper-parameter\n",
    "    masks=[]\n",
    "    masks_names= list(grid.best_params_.keys())\n",
    "    for p_k, p_v in grid.best_params_.items():\n",
    "        masks.append(list(results['param_'+p_k].data==p_v))\n",
    "\n",
    "    params=grid.param_grid\n",
    "\n",
    "    ## Ploting results\n",
    "    fig, ax = plt.subplots(1,len(params),sharex='none', sharey='all',figsize=(20,5))\n",
    "    fig.suptitle('Score per parameter')\n",
    "    fig.text(0.04, 0.5, 'MEAN SCORE', va='center', rotation='vertical')\n",
    "    pram_preformace_in_best = {}\n",
    "    for i, p in enumerate(masks_names):\n",
    "        m = np.stack(masks[:i] + masks[i+1:])\n",
    "        pram_preformace_in_best\n",
    "        best_parms_mask = m.all(axis=0)\n",
    "        best_index = np.where(best_parms_mask)[0]\n",
    "        x = np.array(params[p])\n",
    "        y_1 = np.array(means_test[best_index])\n",
    "        e_1 = np.array(stds_test[best_index])\n",
    "        y_2 = np.array(means_train[best_index])\n",
    "        e_2 = np.array(stds_train[best_index])\n",
    "        ax[i].errorbar(x, y_2, e_2, linestyle='-', marker='^',label='train' )\n",
    "        ax[i].errorbar(x, y_1, e_1, linestyle='--', marker='o', label='cv')\n",
    "        ax[i].set_xlabel(p.upper())\n",
    "\n",
    "    plt.legend(loc = 'lower right')\n",
    "    plt.show()\n",
    "    \n",
    "plot_search_results(grid_dt_class)"
   ]
  },
  {
   "cell_type": "code",
   "execution_count": null,
   "metadata": {},
   "outputs": [],
   "source": [
    "# Evaluation\n",
    "print(grid_dt_class.best_params_)\n",
    "print(\"Model best score: \", grid_dt_class.best_score_)"
   ]
  },
  {
   "cell_type": "code",
   "execution_count": null,
   "metadata": {},
   "outputs": [],
   "source": [
    "# Build Tuned Model\n",
    "dtree = DecisionTreeClassifier(criterion= 'entropy', max_depth= 6,\n",
    "                               min_samples_leaf= 10,\n",
    "                               min_samples_split= 5, random_state = 40\n",
    "                              )\n",
    "dtree.fit(OHE_train, y_train)\n",
    "y_predict = dtree.predict(OHE_test)\n",
    "\n",
    "report = \"\"\"\n",
    "The evaluation report is:\n",
    "Confusion Matrix:\n",
    "{}\n",
    "Accuracy: {}\n",
    "\"\"\".format(confusion_matrix(y_test, y_predict),\n",
    "           accuracy_score(y_test, y_predict))\n",
    "print(report)"
   ]
  },
  {
   "cell_type": "code",
   "execution_count": null,
   "metadata": {},
   "outputs": [],
   "source": [
    "feature_list = list(OHE_train.columns)\n",
    "cn = ['fail', 'success']\n",
    "\n",
    "fig, axes = plt.subplots(nrows = 1,ncols = 1,figsize = (4,4), dpi=800)\n",
    "tree.plot_tree(dtree,\n",
    "               feature_names = feature_list, \n",
    "               class_names = cn,\n",
    "               filled = True)\n",
    "fig.savefig('dtree.png')"
   ]
  },
  {
   "cell_type": "code",
   "execution_count": null,
   "metadata": {},
   "outputs": [],
   "source": [
    "# Retrieve Feature Importance\n",
    "important_features_dict = {}\n",
    "for idx, val in enumerate(dtree.feature_importances_):\n",
    "    important_features_dict[idx] = val\n",
    "\n",
    "top_idx = sorted(important_features_dict,\n",
    "                                 key=important_features_dict.get,\n",
    "                                 reverse=True)[:10]\n",
    "\n",
    "top_features_names = OHE_train.columns[top_idx]\n",
    "top_features_scores = dtree.feature_importances_[top_idx]\n",
    "\n",
    "print('Top 3 most important features: \\n')\n",
    "\n",
    "for i in range(3):\n",
    "    print('%s: %s, Score: %.3f ' % (i+1, top_features_names[i], top_features_scores[i]))"
   ]
  },
  {
   "cell_type": "code",
   "execution_count": null,
   "metadata": {},
   "outputs": [],
   "source": []
  },
  {
   "cell_type": "code",
   "execution_count": null,
   "metadata": {},
   "outputs": [],
   "source": []
  }
 ],
 "metadata": {
  "kernelspec": {
   "display_name": "Python 3",
   "language": "python",
   "name": "python3"
  },
  "language_info": {
   "codemirror_mode": {
    "name": "ipython",
    "version": 3
   },
   "file_extension": ".py",
   "mimetype": "text/x-python",
   "name": "python",
   "nbconvert_exporter": "python",
   "pygments_lexer": "ipython3",
   "version": "3.8.3"
  },
  "toc": {
   "base_numbering": 1,
   "nav_menu": {},
   "number_sections": true,
   "sideBar": true,
   "skip_h1_title": false,
   "title_cell": "Table of Contents",
   "title_sidebar": "Contents",
   "toc_cell": false,
   "toc_position": {},
   "toc_section_display": true,
   "toc_window_display": false
  }
 },
 "nbformat": 4,
 "nbformat_minor": 4
}
