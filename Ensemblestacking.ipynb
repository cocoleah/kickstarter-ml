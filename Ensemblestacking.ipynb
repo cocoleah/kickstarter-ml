{
 "cells": [
  {
   "cell_type": "code",
   "execution_count": 1,
   "metadata": {},
   "outputs": [],
   "source": [
    "from sklearn import model_selection\n",
    "from sklearn.ensemble import StackingClassifier\n",
    "from sklearn.model_selection import RepeatedStratifiedKFold\n",
    "from pandas.api.types import CategoricalDtype \n",
    "from sklearn.model_selection import cross_val_score\n",
    "from mlxtend.classifier import StackingCVClassifier\n",
    "import warnings\n",
    "import pickle\n",
    "import pandas as pd\n",
    "from pandas.api.types import CategoricalDtype \n",
    "warnings.simplefilter('ignore')\n",
    "RANDOM_SEED = 42"
   ]
  },
  {
   "cell_type": "markdown",
   "metadata": {},
   "source": [
    "# Import your models first"
   ]
  },
  {
   "cell_type": "code",
   "execution_count": 2,
   "metadata": {},
   "outputs": [],
   "source": [
    "# Logistic Regression\n",
    "f = open('logreg.pckl', 'rb')\n",
    "logreg = pickle.load(f)\n",
    "f.close()"
   ]
  },
  {
   "cell_type": "code",
   "execution_count": 3,
   "metadata": {},
   "outputs": [],
   "source": [
    "# Decision Tree\n",
    "f = open('decisiontree.pckl', 'rb')\n",
    "decisiontree = pickle.load(f)\n",
    "f.close()"
   ]
  },
  {
   "cell_type": "code",
   "execution_count": 4,
   "metadata": {},
   "outputs": [],
   "source": [
    "# Random Forest\n",
    "f = open('randomforest.pckl', 'rb')\n",
    "randomforest = pickle.load(f)\n",
    "f.close()"
   ]
  },
  {
   "cell_type": "code",
   "execution_count": 5,
   "metadata": {},
   "outputs": [],
   "source": [
    "# SVM\n",
    "f = open('svm.pckl', 'rb')\n",
    "svm = pickle.load(f)\n",
    "f.close()"
   ]
  },
  {
   "cell_type": "code",
   "execution_count": 6,
   "metadata": {},
   "outputs": [
    {
     "name": "stdout",
     "output_type": "stream",
     "text": [
      "LogisticRegression(random_state=42)\n",
      "DecisionTreeClassifier(criterion='entropy', max_depth=4, min_samples_leaf=20,\n",
      "                       min_samples_split=50, presort=None, random_state=40)\n",
      "RandomForestClassifier(criterion='entropy', min_samples_split=12,\n",
      "                       n_estimators=200)\n",
      "SVC(gamma='auto', kernel='linear')\n"
     ]
    }
   ],
   "source": [
    "# Inspect models\n",
    "print(logreg)\n",
    "print(decisiontree)\n",
    "print(randomforest)\n",
    "print(svm)"
   ]
  },
  {
   "cell_type": "markdown",
   "metadata": {},
   "source": [
    "## Reintroduce X and y"
   ]
  },
  {
   "cell_type": "code",
   "execution_count": 7,
   "metadata": {},
   "outputs": [],
   "source": [
    "df = pd.read_csv(\"./Output/data_clean&processed_addedsentiment.csv\")\n",
    "categorical_cols = ['country', 'staff_pick', 'usd_type', 'parent_category', 'category_name', 'location_name']\n",
    "num_cols = ['backers_count', 'fx_rate', 'goal', 'pledged', 'num_faq', 'n_comments', 'duration']\n",
    "text_cols = ['blurb', 'name', 'story', 'faq', 'comments']\n",
    "# Split dataset\n",
    "X = df.drop('state', axis=1)\n",
    "y = df.state\n",
    "\n",
    "X_train, X_test, y_train, y_test = model_selection.train_test_split(X, y, test_size=0.2, random_state=2019)\n",
    "\n",
    "# One Hot Encoding with training set only\n",
    "OHE_df = pd.DataFrame()\n",
    "\n",
    "for i in categorical_cols:\n",
    "    OHE_df[i] = X_train[i].astype(CategoricalDtype(list(set(X[i]))))\n",
    "    \n",
    "    OHE_df = pd.concat([OHE_df, pd.get_dummies(X[i], prefix=i)],axis=1)\n",
    "\n",
    "OHE_df = OHE_df.drop(categorical_cols, axis= 1)\n",
    "\n",
    "X_no_cat = X.drop(categorical_cols, axis= 1)\n",
    "OHE_df = pd.concat([X_no_cat, OHE_df],axis=1)\n",
    "\n",
    "# For Decision Tree\n",
    "OHE_df = OHE_df.drop(OHE_df.loc[:, OHE_df.columns.str.contains('_log')].columns.tolist(), axis=1)\n",
    "OHE_df = OHE_df.drop(text_cols, axis=1)"
   ]
  },
  {
   "cell_type": "code",
   "execution_count": 8,
   "metadata": {},
   "outputs": [],
   "source": [
    "X = OHE_df.fx_rate.values.reshape(-1,1)\n",
    "y = df.state"
   ]
  },
  {
   "cell_type": "markdown",
   "metadata": {},
   "source": [
    "## Drop Text Columns"
   ]
  },
  {
   "cell_type": "code",
   "execution_count": 9,
   "metadata": {},
   "outputs": [],
   "source": [
    "cols_to_drop = ['profile', 'category', 'created_at', 'location', 'current_currency', 'deadline', 'id', \n",
    "                'launched_at', 'slug', 'source_url', 'state_changed_at', 'urls', 'static_usd_rate', \n",
    "                'usd_pledged', 'converted_pledged_amount', 'spotlight', 'name_afinn', 'blurb_afinn','comments_afinn']\n",
    "\n",
    "data_new = df.drop(cols_to_drop, axis=1)\n",
    "\n",
    "text_to_drop = ['blurb','name','story','faq','comments','blurb_name','faq_comments']\n",
    "data_new = data_new.drop(text_to_drop , axis=1)"
   ]
  },
  {
   "cell_type": "code",
   "execution_count": 10,
   "metadata": {},
   "outputs": [],
   "source": [
    "categorical_cols = [\"country\",\"staff_pick\",\"usd_type\",\"parent_category\",\"num_faq_bool\",\"category_name\"]\n",
    "\n",
    "# Split dataset\n",
    "X = data_new.drop(['state','backers_count','pledged','pledged_log','duration','n_comments','num_faq','goal','location_name'], axis=1)\n",
    "y = data_new.state\n",
    "\n",
    "# set stratify = y to maintain ratio of successful:failed for train and test\n",
    "X_train, X_test, y_train, y_test = model_selection.train_test_split(X, y, test_size=0.2, random_state=2019, stratify = y)"
   ]
  },
  {
   "cell_type": "code",
   "execution_count": 11,
   "metadata": {},
   "outputs": [],
   "source": [
    "OHE_df = pd.DataFrame()\n",
    "\n",
    "for i in categorical_cols:\n",
    "    OHE_df[i] = X_train[i].astype(CategoricalDtype(list(set(X[i]))))\n",
    "    \n",
    "    OHE_df = pd.concat([OHE_df, pd.get_dummies(X[i], prefix=i)],axis=1)\n",
    "    \n",
    "OHE_df = OHE_df.drop(categorical_cols, axis= 1)\n",
    "\n",
    "X_no_cat = X.drop(categorical_cols, axis= 1)\n",
    "OHE_df = pd.concat([X_no_cat, OHE_df],axis=1)\n",
    "\n",
    "#OHE_train, OHE_test, y_train, y_test = model_selection.train_test_split(OHE_df, y, test_size=0.2, random_state=2019)"
   ]
  },
  {
   "cell_type": "code",
   "execution_count": 12,
   "metadata": {},
   "outputs": [],
   "source": [
    "### Dont need run this\n",
    "\n",
    "#models = [('lr',logreg),('svm',svm),('decisiontree',decisiontree),('randomforest',randomforest)]\n",
    "#stacking = StackingClassifier(estimators=models)"
   ]
  },
  {
   "cell_type": "markdown",
   "metadata": {},
   "source": [
    "# Create stacking model"
   ]
  },
  {
   "cell_type": "code",
   "execution_count": 13,
   "metadata": {},
   "outputs": [
    {
     "name": "stdout",
     "output_type": "stream",
     "text": [
      "5-fold cross validation:\n",
      "\n",
      "Accuracy: nan (+/- nan) [Logistic Regression]\n",
      "Accuracy: 0.9107 (+/- 0.0156) [Decision Tree]\n",
      "Accuracy: 0.9381 (+/- 0.0196) [Random Forest]\n",
      "Accuracy: nan (+/- nan) [Stacked Model]\n"
     ]
    }
   ],
   "source": [
    "sclf = StackingCVClassifier(classifiers=[logreg, decisiontree, randomforest, svm], \n",
    "                          meta_classifier=svm)\n",
    "\n",
    "print('5-fold cross validation:\\n')\n",
    "\n",
    "for clf, label in zip([logreg, decisiontree, randomforest, sclf], \n",
    "                      ['Logistic Regression',\n",
    "                       'Decision Tree', \n",
    "                        'Random Forest',\n",
    "                        'Stacked Model']):\n",
    "\n",
    "    sclf_scores = model_selection.cross_val_score(clf, OHE_df, y,\n",
    "                                              cv=5, scoring='accuracy')\n",
    "    print(\"Accuracy: %0.4f (+/- %0.4f) [%s]\" % (sclf_scores.mean(), sclf_scores.std(), label))"
   ]
  },
  {
   "cell_type": "code",
   "execution_count": null,
   "metadata": {},
   "outputs": [],
   "source": []
  }
 ],
 "metadata": {
  "kernelspec": {
   "display_name": "Python 3",
   "language": "python",
   "name": "python3"
  },
  "language_info": {
   "codemirror_mode": {
    "name": "ipython",
    "version": 3
   },
   "file_extension": ".py",
   "mimetype": "text/x-python",
   "name": "python",
   "nbconvert_exporter": "python",
   "pygments_lexer": "ipython3",
   "version": "3.8.3"
  },
  "toc": {
   "base_numbering": 1,
   "nav_menu": {},
   "number_sections": true,
   "sideBar": true,
   "skip_h1_title": false,
   "title_cell": "Table of Contents",
   "title_sidebar": "Contents",
   "toc_cell": false,
   "toc_position": {},
   "toc_section_display": true,
   "toc_window_display": false
  }
 },
 "nbformat": 4,
 "nbformat_minor": 2
}
